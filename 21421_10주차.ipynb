{
  "nbformat": 4,
  "nbformat_minor": 0,
  "metadata": {
    "colab": {
      "name": "21421_10주차.ipynb",
      "provenance": [],
      "collapsed_sections": [],
      "authorship_tag": "ABX9TyOgCFC7K+CFdu3DDTyVF4FS",
      "include_colab_link": true
    },
    "kernelspec": {
      "name": "python3",
      "display_name": "Python 3"
    },
    "language_info": {
      "name": "python"
    }
  },
  "cells": [
    {
      "cell_type": "markdown",
      "metadata": {
        "id": "view-in-github",
        "colab_type": "text"
      },
      "source": [
        "<a href=\"https://colab.research.google.com/github/bmt21421/bmt_python/blob/main/21421_10%EC%A3%BC%EC%B0%A8.ipynb\" target=\"_parent\"><img src=\"https://colab.research.google.com/assets/colab-badge.svg\" alt=\"Open In Colab\"/></a>"
      ]
    },
    {
      "cell_type": "code",
      "metadata": {
        "id": "9nkjZdr4eg3C"
      },
      "source": [
        "import pandas as pd\n",
        "import numpy as np\n",
        "import matplotlib.pyplot as plt\n",
        "\n"
      ],
      "execution_count": 1,
      "outputs": []
    },
    {
      "cell_type": "code",
      "metadata": {
        "id": "5Y2lt5tPih3y"
      },
      "source": [
        "row = pd.date_range('20210507', periods=6)\n",
        "col = list('ABCD')\n",
        "df = pd.DataFrame(np.random.randn(6,4), index=row , columns=col)\n"
      ],
      "execution_count": 2,
      "outputs": []
    },
    {
      "cell_type": "code",
      "metadata": {
        "colab": {
          "base_uri": "https://localhost:8080/",
          "height": 225
        },
        "id": "9qYQPcsujSCy",
        "outputId": "024148ea-b79b-457f-b1c0-cd67162c2647"
      },
      "source": [
        "df"
      ],
      "execution_count": 3,
      "outputs": [
        {
          "output_type": "execute_result",
          "data": {
            "text/html": [
              "<div>\n",
              "<style scoped>\n",
              "    .dataframe tbody tr th:only-of-type {\n",
              "        vertical-align: middle;\n",
              "    }\n",
              "\n",
              "    .dataframe tbody tr th {\n",
              "        vertical-align: top;\n",
              "    }\n",
              "\n",
              "    .dataframe thead th {\n",
              "        text-align: right;\n",
              "    }\n",
              "</style>\n",
              "<table border=\"1\" class=\"dataframe\">\n",
              "  <thead>\n",
              "    <tr style=\"text-align: right;\">\n",
              "      <th></th>\n",
              "      <th>A</th>\n",
              "      <th>B</th>\n",
              "      <th>C</th>\n",
              "      <th>D</th>\n",
              "    </tr>\n",
              "  </thead>\n",
              "  <tbody>\n",
              "    <tr>\n",
              "      <th>2021-05-07</th>\n",
              "      <td>0.053903</td>\n",
              "      <td>0.536347</td>\n",
              "      <td>1.388153</td>\n",
              "      <td>0.190154</td>\n",
              "    </tr>\n",
              "    <tr>\n",
              "      <th>2021-05-08</th>\n",
              "      <td>0.207624</td>\n",
              "      <td>0.899004</td>\n",
              "      <td>-0.947930</td>\n",
              "      <td>-0.218565</td>\n",
              "    </tr>\n",
              "    <tr>\n",
              "      <th>2021-05-09</th>\n",
              "      <td>-0.297875</td>\n",
              "      <td>0.936882</td>\n",
              "      <td>-0.649958</td>\n",
              "      <td>0.477900</td>\n",
              "    </tr>\n",
              "    <tr>\n",
              "      <th>2021-05-10</th>\n",
              "      <td>-0.710866</td>\n",
              "      <td>-1.390608</td>\n",
              "      <td>-0.281649</td>\n",
              "      <td>-0.481681</td>\n",
              "    </tr>\n",
              "    <tr>\n",
              "      <th>2021-05-11</th>\n",
              "      <td>-0.905034</td>\n",
              "      <td>-0.831188</td>\n",
              "      <td>-0.756783</td>\n",
              "      <td>-0.633017</td>\n",
              "    </tr>\n",
              "    <tr>\n",
              "      <th>2021-05-12</th>\n",
              "      <td>0.757400</td>\n",
              "      <td>-0.182261</td>\n",
              "      <td>-0.342317</td>\n",
              "      <td>0.271800</td>\n",
              "    </tr>\n",
              "  </tbody>\n",
              "</table>\n",
              "</div>"
            ],
            "text/plain": [
              "                   A         B         C         D\n",
              "2021-05-07  0.053903  0.536347  1.388153  0.190154\n",
              "2021-05-08  0.207624  0.899004 -0.947930 -0.218565\n",
              "2021-05-09 -0.297875  0.936882 -0.649958  0.477900\n",
              "2021-05-10 -0.710866 -1.390608 -0.281649 -0.481681\n",
              "2021-05-11 -0.905034 -0.831188 -0.756783 -0.633017\n",
              "2021-05-12  0.757400 -0.182261 -0.342317  0.271800"
            ]
          },
          "metadata": {
            "tags": []
          },
          "execution_count": 3
        }
      ]
    },
    {
      "cell_type": "code",
      "metadata": {
        "id": "jSNx0ZAIkD0Q"
      },
      "source": [
        "s1 = pd.Series([1, 2, 3, 4, 5, 6], index=pd.date_range('20210507', periods=6))"
      ],
      "execution_count": 4,
      "outputs": []
    },
    {
      "cell_type": "code",
      "metadata": {
        "id": "Ro8XUjUYlvUw"
      },
      "source": [
        "df['F'] = s1"
      ],
      "execution_count": 5,
      "outputs": []
    },
    {
      "cell_type": "code",
      "metadata": {
        "colab": {
          "base_uri": "https://localhost:8080/",
          "height": 225
        },
        "id": "-oTYkBoEmIOl",
        "outputId": "306a6843-ef77-478f-ba14-3d9e8b1081f3"
      },
      "source": [
        "df"
      ],
      "execution_count": 6,
      "outputs": [
        {
          "output_type": "execute_result",
          "data": {
            "text/html": [
              "<div>\n",
              "<style scoped>\n",
              "    .dataframe tbody tr th:only-of-type {\n",
              "        vertical-align: middle;\n",
              "    }\n",
              "\n",
              "    .dataframe tbody tr th {\n",
              "        vertical-align: top;\n",
              "    }\n",
              "\n",
              "    .dataframe thead th {\n",
              "        text-align: right;\n",
              "    }\n",
              "</style>\n",
              "<table border=\"1\" class=\"dataframe\">\n",
              "  <thead>\n",
              "    <tr style=\"text-align: right;\">\n",
              "      <th></th>\n",
              "      <th>A</th>\n",
              "      <th>B</th>\n",
              "      <th>C</th>\n",
              "      <th>D</th>\n",
              "      <th>F</th>\n",
              "    </tr>\n",
              "  </thead>\n",
              "  <tbody>\n",
              "    <tr>\n",
              "      <th>2021-05-07</th>\n",
              "      <td>0.053903</td>\n",
              "      <td>0.536347</td>\n",
              "      <td>1.388153</td>\n",
              "      <td>0.190154</td>\n",
              "      <td>1</td>\n",
              "    </tr>\n",
              "    <tr>\n",
              "      <th>2021-05-08</th>\n",
              "      <td>0.207624</td>\n",
              "      <td>0.899004</td>\n",
              "      <td>-0.947930</td>\n",
              "      <td>-0.218565</td>\n",
              "      <td>2</td>\n",
              "    </tr>\n",
              "    <tr>\n",
              "      <th>2021-05-09</th>\n",
              "      <td>-0.297875</td>\n",
              "      <td>0.936882</td>\n",
              "      <td>-0.649958</td>\n",
              "      <td>0.477900</td>\n",
              "      <td>3</td>\n",
              "    </tr>\n",
              "    <tr>\n",
              "      <th>2021-05-10</th>\n",
              "      <td>-0.710866</td>\n",
              "      <td>-1.390608</td>\n",
              "      <td>-0.281649</td>\n",
              "      <td>-0.481681</td>\n",
              "      <td>4</td>\n",
              "    </tr>\n",
              "    <tr>\n",
              "      <th>2021-05-11</th>\n",
              "      <td>-0.905034</td>\n",
              "      <td>-0.831188</td>\n",
              "      <td>-0.756783</td>\n",
              "      <td>-0.633017</td>\n",
              "      <td>5</td>\n",
              "    </tr>\n",
              "    <tr>\n",
              "      <th>2021-05-12</th>\n",
              "      <td>0.757400</td>\n",
              "      <td>-0.182261</td>\n",
              "      <td>-0.342317</td>\n",
              "      <td>0.271800</td>\n",
              "      <td>6</td>\n",
              "    </tr>\n",
              "  </tbody>\n",
              "</table>\n",
              "</div>"
            ],
            "text/plain": [
              "                   A         B         C         D  F\n",
              "2021-05-07  0.053903  0.536347  1.388153  0.190154  1\n",
              "2021-05-08  0.207624  0.899004 -0.947930 -0.218565  2\n",
              "2021-05-09 -0.297875  0.936882 -0.649958  0.477900  3\n",
              "2021-05-10 -0.710866 -1.390608 -0.281649 -0.481681  4\n",
              "2021-05-11 -0.905034 -0.831188 -0.756783 -0.633017  5\n",
              "2021-05-12  0.757400 -0.182261 -0.342317  0.271800  6"
            ]
          },
          "metadata": {
            "tags": []
          },
          "execution_count": 6
        }
      ]
    },
    {
      "cell_type": "code",
      "metadata": {
        "colab": {
          "base_uri": "https://localhost:8080/",
          "height": 225
        },
        "id": "ImSGe-xQmJJP",
        "outputId": "17c6b86f-b819-4511-8299-511bd5e5cc3a"
      },
      "source": [
        "df>0"
      ],
      "execution_count": 7,
      "outputs": [
        {
          "output_type": "execute_result",
          "data": {
            "text/html": [
              "<div>\n",
              "<style scoped>\n",
              "    .dataframe tbody tr th:only-of-type {\n",
              "        vertical-align: middle;\n",
              "    }\n",
              "\n",
              "    .dataframe tbody tr th {\n",
              "        vertical-align: top;\n",
              "    }\n",
              "\n",
              "    .dataframe thead th {\n",
              "        text-align: right;\n",
              "    }\n",
              "</style>\n",
              "<table border=\"1\" class=\"dataframe\">\n",
              "  <thead>\n",
              "    <tr style=\"text-align: right;\">\n",
              "      <th></th>\n",
              "      <th>A</th>\n",
              "      <th>B</th>\n",
              "      <th>C</th>\n",
              "      <th>D</th>\n",
              "      <th>F</th>\n",
              "    </tr>\n",
              "  </thead>\n",
              "  <tbody>\n",
              "    <tr>\n",
              "      <th>2021-05-07</th>\n",
              "      <td>True</td>\n",
              "      <td>True</td>\n",
              "      <td>True</td>\n",
              "      <td>True</td>\n",
              "      <td>True</td>\n",
              "    </tr>\n",
              "    <tr>\n",
              "      <th>2021-05-08</th>\n",
              "      <td>True</td>\n",
              "      <td>True</td>\n",
              "      <td>False</td>\n",
              "      <td>False</td>\n",
              "      <td>True</td>\n",
              "    </tr>\n",
              "    <tr>\n",
              "      <th>2021-05-09</th>\n",
              "      <td>False</td>\n",
              "      <td>True</td>\n",
              "      <td>False</td>\n",
              "      <td>True</td>\n",
              "      <td>True</td>\n",
              "    </tr>\n",
              "    <tr>\n",
              "      <th>2021-05-10</th>\n",
              "      <td>False</td>\n",
              "      <td>False</td>\n",
              "      <td>False</td>\n",
              "      <td>False</td>\n",
              "      <td>True</td>\n",
              "    </tr>\n",
              "    <tr>\n",
              "      <th>2021-05-11</th>\n",
              "      <td>False</td>\n",
              "      <td>False</td>\n",
              "      <td>False</td>\n",
              "      <td>False</td>\n",
              "      <td>True</td>\n",
              "    </tr>\n",
              "    <tr>\n",
              "      <th>2021-05-12</th>\n",
              "      <td>True</td>\n",
              "      <td>False</td>\n",
              "      <td>False</td>\n",
              "      <td>True</td>\n",
              "      <td>True</td>\n",
              "    </tr>\n",
              "  </tbody>\n",
              "</table>\n",
              "</div>"
            ],
            "text/plain": [
              "                A      B      C      D     F\n",
              "2021-05-07   True   True   True   True  True\n",
              "2021-05-08   True   True  False  False  True\n",
              "2021-05-09  False   True  False   True  True\n",
              "2021-05-10  False  False  False  False  True\n",
              "2021-05-11  False  False  False  False  True\n",
              "2021-05-12   True  False  False   True  True"
            ]
          },
          "metadata": {
            "tags": []
          },
          "execution_count": 7
        }
      ]
    },
    {
      "cell_type": "code",
      "metadata": {
        "colab": {
          "base_uri": "https://localhost:8080/",
          "height": 225
        },
        "id": "WqfOI6QQmcRu",
        "outputId": "aac80ddc-629e-4b21-ed6b-12c616b501d2"
      },
      "source": [
        "df[df>0]"
      ],
      "execution_count": 8,
      "outputs": [
        {
          "output_type": "execute_result",
          "data": {
            "text/html": [
              "<div>\n",
              "<style scoped>\n",
              "    .dataframe tbody tr th:only-of-type {\n",
              "        vertical-align: middle;\n",
              "    }\n",
              "\n",
              "    .dataframe tbody tr th {\n",
              "        vertical-align: top;\n",
              "    }\n",
              "\n",
              "    .dataframe thead th {\n",
              "        text-align: right;\n",
              "    }\n",
              "</style>\n",
              "<table border=\"1\" class=\"dataframe\">\n",
              "  <thead>\n",
              "    <tr style=\"text-align: right;\">\n",
              "      <th></th>\n",
              "      <th>A</th>\n",
              "      <th>B</th>\n",
              "      <th>C</th>\n",
              "      <th>D</th>\n",
              "      <th>F</th>\n",
              "    </tr>\n",
              "  </thead>\n",
              "  <tbody>\n",
              "    <tr>\n",
              "      <th>2021-05-07</th>\n",
              "      <td>0.053903</td>\n",
              "      <td>0.536347</td>\n",
              "      <td>1.388153</td>\n",
              "      <td>0.190154</td>\n",
              "      <td>1</td>\n",
              "    </tr>\n",
              "    <tr>\n",
              "      <th>2021-05-08</th>\n",
              "      <td>0.207624</td>\n",
              "      <td>0.899004</td>\n",
              "      <td>NaN</td>\n",
              "      <td>NaN</td>\n",
              "      <td>2</td>\n",
              "    </tr>\n",
              "    <tr>\n",
              "      <th>2021-05-09</th>\n",
              "      <td>NaN</td>\n",
              "      <td>0.936882</td>\n",
              "      <td>NaN</td>\n",
              "      <td>0.477900</td>\n",
              "      <td>3</td>\n",
              "    </tr>\n",
              "    <tr>\n",
              "      <th>2021-05-10</th>\n",
              "      <td>NaN</td>\n",
              "      <td>NaN</td>\n",
              "      <td>NaN</td>\n",
              "      <td>NaN</td>\n",
              "      <td>4</td>\n",
              "    </tr>\n",
              "    <tr>\n",
              "      <th>2021-05-11</th>\n",
              "      <td>NaN</td>\n",
              "      <td>NaN</td>\n",
              "      <td>NaN</td>\n",
              "      <td>NaN</td>\n",
              "      <td>5</td>\n",
              "    </tr>\n",
              "    <tr>\n",
              "      <th>2021-05-12</th>\n",
              "      <td>0.757400</td>\n",
              "      <td>NaN</td>\n",
              "      <td>NaN</td>\n",
              "      <td>0.271800</td>\n",
              "      <td>6</td>\n",
              "    </tr>\n",
              "  </tbody>\n",
              "</table>\n",
              "</div>"
            ],
            "text/plain": [
              "                   A         B         C         D  F\n",
              "2021-05-07  0.053903  0.536347  1.388153  0.190154  1\n",
              "2021-05-08  0.207624  0.899004       NaN       NaN  2\n",
              "2021-05-09       NaN  0.936882       NaN  0.477900  3\n",
              "2021-05-10       NaN       NaN       NaN       NaN  4\n",
              "2021-05-11       NaN       NaN       NaN       NaN  5\n",
              "2021-05-12  0.757400       NaN       NaN  0.271800  6"
            ]
          },
          "metadata": {
            "tags": []
          },
          "execution_count": 8
        }
      ]
    },
    {
      "cell_type": "code",
      "metadata": {
        "id": "23KhQhM0mhuw"
      },
      "source": [
        "df2 = df.copy()"
      ],
      "execution_count": 9,
      "outputs": []
    },
    {
      "cell_type": "code",
      "metadata": {
        "id": "Eyl47oiomyHf"
      },
      "source": [
        "df2[df2>0] = -df"
      ],
      "execution_count": 10,
      "outputs": []
    },
    {
      "cell_type": "code",
      "metadata": {
        "colab": {
          "base_uri": "https://localhost:8080/",
          "height": 225
        },
        "id": "j3VJXs5xm1se",
        "outputId": "141bdaa0-83f5-4528-b6f9-2332df5abdfe"
      },
      "source": [
        "df2"
      ],
      "execution_count": 11,
      "outputs": [
        {
          "output_type": "execute_result",
          "data": {
            "text/html": [
              "<div>\n",
              "<style scoped>\n",
              "    .dataframe tbody tr th:only-of-type {\n",
              "        vertical-align: middle;\n",
              "    }\n",
              "\n",
              "    .dataframe tbody tr th {\n",
              "        vertical-align: top;\n",
              "    }\n",
              "\n",
              "    .dataframe thead th {\n",
              "        text-align: right;\n",
              "    }\n",
              "</style>\n",
              "<table border=\"1\" class=\"dataframe\">\n",
              "  <thead>\n",
              "    <tr style=\"text-align: right;\">\n",
              "      <th></th>\n",
              "      <th>A</th>\n",
              "      <th>B</th>\n",
              "      <th>C</th>\n",
              "      <th>D</th>\n",
              "      <th>F</th>\n",
              "    </tr>\n",
              "  </thead>\n",
              "  <tbody>\n",
              "    <tr>\n",
              "      <th>2021-05-07</th>\n",
              "      <td>-0.053903</td>\n",
              "      <td>-0.536347</td>\n",
              "      <td>-1.388153</td>\n",
              "      <td>-0.190154</td>\n",
              "      <td>-1</td>\n",
              "    </tr>\n",
              "    <tr>\n",
              "      <th>2021-05-08</th>\n",
              "      <td>-0.207624</td>\n",
              "      <td>-0.899004</td>\n",
              "      <td>-0.947930</td>\n",
              "      <td>-0.218565</td>\n",
              "      <td>-2</td>\n",
              "    </tr>\n",
              "    <tr>\n",
              "      <th>2021-05-09</th>\n",
              "      <td>-0.297875</td>\n",
              "      <td>-0.936882</td>\n",
              "      <td>-0.649958</td>\n",
              "      <td>-0.477900</td>\n",
              "      <td>-3</td>\n",
              "    </tr>\n",
              "    <tr>\n",
              "      <th>2021-05-10</th>\n",
              "      <td>-0.710866</td>\n",
              "      <td>-1.390608</td>\n",
              "      <td>-0.281649</td>\n",
              "      <td>-0.481681</td>\n",
              "      <td>-4</td>\n",
              "    </tr>\n",
              "    <tr>\n",
              "      <th>2021-05-11</th>\n",
              "      <td>-0.905034</td>\n",
              "      <td>-0.831188</td>\n",
              "      <td>-0.756783</td>\n",
              "      <td>-0.633017</td>\n",
              "      <td>-5</td>\n",
              "    </tr>\n",
              "    <tr>\n",
              "      <th>2021-05-12</th>\n",
              "      <td>-0.757400</td>\n",
              "      <td>-0.182261</td>\n",
              "      <td>-0.342317</td>\n",
              "      <td>-0.271800</td>\n",
              "      <td>-6</td>\n",
              "    </tr>\n",
              "  </tbody>\n",
              "</table>\n",
              "</div>"
            ],
            "text/plain": [
              "                   A         B         C         D  F\n",
              "2021-05-07 -0.053903 -0.536347 -1.388153 -0.190154 -1\n",
              "2021-05-08 -0.207624 -0.899004 -0.947930 -0.218565 -2\n",
              "2021-05-09 -0.297875 -0.936882 -0.649958 -0.477900 -3\n",
              "2021-05-10 -0.710866 -1.390608 -0.281649 -0.481681 -4\n",
              "2021-05-11 -0.905034 -0.831188 -0.756783 -0.633017 -5\n",
              "2021-05-12 -0.757400 -0.182261 -0.342317 -0.271800 -6"
            ]
          },
          "metadata": {
            "tags": []
          },
          "execution_count": 11
        }
      ]
    },
    {
      "cell_type": "code",
      "metadata": {
        "colab": {
          "base_uri": "https://localhost:8080/",
          "height": 225
        },
        "id": "6d1P_gdLm8tO",
        "outputId": "809b1d5b-209e-4446-c6ed-d232448338d3"
      },
      "source": [
        "df"
      ],
      "execution_count": 12,
      "outputs": [
        {
          "output_type": "execute_result",
          "data": {
            "text/html": [
              "<div>\n",
              "<style scoped>\n",
              "    .dataframe tbody tr th:only-of-type {\n",
              "        vertical-align: middle;\n",
              "    }\n",
              "\n",
              "    .dataframe tbody tr th {\n",
              "        vertical-align: top;\n",
              "    }\n",
              "\n",
              "    .dataframe thead th {\n",
              "        text-align: right;\n",
              "    }\n",
              "</style>\n",
              "<table border=\"1\" class=\"dataframe\">\n",
              "  <thead>\n",
              "    <tr style=\"text-align: right;\">\n",
              "      <th></th>\n",
              "      <th>A</th>\n",
              "      <th>B</th>\n",
              "      <th>C</th>\n",
              "      <th>D</th>\n",
              "      <th>F</th>\n",
              "    </tr>\n",
              "  </thead>\n",
              "  <tbody>\n",
              "    <tr>\n",
              "      <th>2021-05-07</th>\n",
              "      <td>0.053903</td>\n",
              "      <td>0.536347</td>\n",
              "      <td>1.388153</td>\n",
              "      <td>0.190154</td>\n",
              "      <td>1</td>\n",
              "    </tr>\n",
              "    <tr>\n",
              "      <th>2021-05-08</th>\n",
              "      <td>0.207624</td>\n",
              "      <td>0.899004</td>\n",
              "      <td>-0.947930</td>\n",
              "      <td>-0.218565</td>\n",
              "      <td>2</td>\n",
              "    </tr>\n",
              "    <tr>\n",
              "      <th>2021-05-09</th>\n",
              "      <td>-0.297875</td>\n",
              "      <td>0.936882</td>\n",
              "      <td>-0.649958</td>\n",
              "      <td>0.477900</td>\n",
              "      <td>3</td>\n",
              "    </tr>\n",
              "    <tr>\n",
              "      <th>2021-05-10</th>\n",
              "      <td>-0.710866</td>\n",
              "      <td>-1.390608</td>\n",
              "      <td>-0.281649</td>\n",
              "      <td>-0.481681</td>\n",
              "      <td>4</td>\n",
              "    </tr>\n",
              "    <tr>\n",
              "      <th>2021-05-11</th>\n",
              "      <td>-0.905034</td>\n",
              "      <td>-0.831188</td>\n",
              "      <td>-0.756783</td>\n",
              "      <td>-0.633017</td>\n",
              "      <td>5</td>\n",
              "    </tr>\n",
              "    <tr>\n",
              "      <th>2021-05-12</th>\n",
              "      <td>0.757400</td>\n",
              "      <td>-0.182261</td>\n",
              "      <td>-0.342317</td>\n",
              "      <td>0.271800</td>\n",
              "      <td>6</td>\n",
              "    </tr>\n",
              "  </tbody>\n",
              "</table>\n",
              "</div>"
            ],
            "text/plain": [
              "                   A         B         C         D  F\n",
              "2021-05-07  0.053903  0.536347  1.388153  0.190154  1\n",
              "2021-05-08  0.207624  0.899004 -0.947930 -0.218565  2\n",
              "2021-05-09 -0.297875  0.936882 -0.649958  0.477900  3\n",
              "2021-05-10 -0.710866 -1.390608 -0.281649 -0.481681  4\n",
              "2021-05-11 -0.905034 -0.831188 -0.756783 -0.633017  5\n",
              "2021-05-12  0.757400 -0.182261 -0.342317  0.271800  6"
            ]
          },
          "metadata": {
            "tags": []
          },
          "execution_count": 12
        }
      ]
    },
    {
      "cell_type": "code",
      "metadata": {
        "colab": {
          "base_uri": "https://localhost:8080/"
        },
        "id": "FNvjxz3Onobi",
        "outputId": "81743677-ce3f-4dc1-f879-bb795cab8d68"
      },
      "source": [
        "df.mean()"
      ],
      "execution_count": 13,
      "outputs": [
        {
          "output_type": "execute_result",
          "data": {
            "text/plain": [
              "A   -0.149141\n",
              "B   -0.005304\n",
              "C   -0.265081\n",
              "D   -0.065568\n",
              "F    3.500000\n",
              "dtype: float64"
            ]
          },
          "metadata": {
            "tags": []
          },
          "execution_count": 13
        }
      ]
    },
    {
      "cell_type": "code",
      "metadata": {
        "colab": {
          "base_uri": "https://localhost:8080/"
        },
        "id": "PtKIwYwXnvOe",
        "outputId": "ad724229-345b-4723-b39c-eae29a20a001"
      },
      "source": [
        "df.mean(1)"
      ],
      "execution_count": 14,
      "outputs": [
        {
          "output_type": "execute_result",
          "data": {
            "text/plain": [
              "2021-05-07    0.633712\n",
              "2021-05-08    0.388027\n",
              "2021-05-09    0.693390\n",
              "2021-05-10    0.227039\n",
              "2021-05-11    0.374796\n",
              "2021-05-12    1.300924\n",
              "Freq: D, dtype: float64"
            ]
          },
          "metadata": {
            "tags": []
          },
          "execution_count": 14
        }
      ]
    },
    {
      "cell_type": "code",
      "metadata": {
        "colab": {
          "base_uri": "https://localhost:8080/",
          "height": 225
        },
        "id": "kv6t1aeOoODu",
        "outputId": "f16c013d-9d1f-4b05-a272-c13198883c01"
      },
      "source": [
        "\n",
        "df.apply(np.cumsum)\n"
      ],
      "execution_count": 15,
      "outputs": [
        {
          "output_type": "execute_result",
          "data": {
            "text/html": [
              "<div>\n",
              "<style scoped>\n",
              "    .dataframe tbody tr th:only-of-type {\n",
              "        vertical-align: middle;\n",
              "    }\n",
              "\n",
              "    .dataframe tbody tr th {\n",
              "        vertical-align: top;\n",
              "    }\n",
              "\n",
              "    .dataframe thead th {\n",
              "        text-align: right;\n",
              "    }\n",
              "</style>\n",
              "<table border=\"1\" class=\"dataframe\">\n",
              "  <thead>\n",
              "    <tr style=\"text-align: right;\">\n",
              "      <th></th>\n",
              "      <th>A</th>\n",
              "      <th>B</th>\n",
              "      <th>C</th>\n",
              "      <th>D</th>\n",
              "      <th>F</th>\n",
              "    </tr>\n",
              "  </thead>\n",
              "  <tbody>\n",
              "    <tr>\n",
              "      <th>2021-05-07</th>\n",
              "      <td>0.053903</td>\n",
              "      <td>0.536347</td>\n",
              "      <td>1.388153</td>\n",
              "      <td>0.190154</td>\n",
              "      <td>1</td>\n",
              "    </tr>\n",
              "    <tr>\n",
              "      <th>2021-05-08</th>\n",
              "      <td>0.261528</td>\n",
              "      <td>1.435351</td>\n",
              "      <td>0.440223</td>\n",
              "      <td>-0.028410</td>\n",
              "      <td>3</td>\n",
              "    </tr>\n",
              "    <tr>\n",
              "      <th>2021-05-09</th>\n",
              "      <td>-0.036348</td>\n",
              "      <td>2.372233</td>\n",
              "      <td>-0.209735</td>\n",
              "      <td>0.449490</td>\n",
              "      <td>6</td>\n",
              "    </tr>\n",
              "    <tr>\n",
              "      <th>2021-05-10</th>\n",
              "      <td>-0.747213</td>\n",
              "      <td>0.981624</td>\n",
              "      <td>-0.491384</td>\n",
              "      <td>-0.032191</td>\n",
              "      <td>10</td>\n",
              "    </tr>\n",
              "    <tr>\n",
              "      <th>2021-05-11</th>\n",
              "      <td>-1.652248</td>\n",
              "      <td>0.150437</td>\n",
              "      <td>-1.248167</td>\n",
              "      <td>-0.665208</td>\n",
              "      <td>15</td>\n",
              "    </tr>\n",
              "    <tr>\n",
              "      <th>2021-05-12</th>\n",
              "      <td>-0.894848</td>\n",
              "      <td>-0.031825</td>\n",
              "      <td>-1.590485</td>\n",
              "      <td>-0.393408</td>\n",
              "      <td>21</td>\n",
              "    </tr>\n",
              "  </tbody>\n",
              "</table>\n",
              "</div>"
            ],
            "text/plain": [
              "                   A         B         C         D   F\n",
              "2021-05-07  0.053903  0.536347  1.388153  0.190154   1\n",
              "2021-05-08  0.261528  1.435351  0.440223 -0.028410   3\n",
              "2021-05-09 -0.036348  2.372233 -0.209735  0.449490   6\n",
              "2021-05-10 -0.747213  0.981624 -0.491384 -0.032191  10\n",
              "2021-05-11 -1.652248  0.150437 -1.248167 -0.665208  15\n",
              "2021-05-12 -0.894848 -0.031825 -1.590485 -0.393408  21"
            ]
          },
          "metadata": {
            "tags": []
          },
          "execution_count": 15
        }
      ]
    },
    {
      "cell_type": "code",
      "metadata": {
        "colab": {
          "base_uri": "https://localhost:8080/",
          "height": 225
        },
        "id": "VNY8xduFpR3Q",
        "outputId": "7898e851-528e-4b29-b66f-57559d7d6fc8"
      },
      "source": [
        "df.apply(np.cumsum,axis=1)"
      ],
      "execution_count": 16,
      "outputs": [
        {
          "output_type": "execute_result",
          "data": {
            "text/html": [
              "<div>\n",
              "<style scoped>\n",
              "    .dataframe tbody tr th:only-of-type {\n",
              "        vertical-align: middle;\n",
              "    }\n",
              "\n",
              "    .dataframe tbody tr th {\n",
              "        vertical-align: top;\n",
              "    }\n",
              "\n",
              "    .dataframe thead th {\n",
              "        text-align: right;\n",
              "    }\n",
              "</style>\n",
              "<table border=\"1\" class=\"dataframe\">\n",
              "  <thead>\n",
              "    <tr style=\"text-align: right;\">\n",
              "      <th></th>\n",
              "      <th>A</th>\n",
              "      <th>B</th>\n",
              "      <th>C</th>\n",
              "      <th>D</th>\n",
              "      <th>F</th>\n",
              "    </tr>\n",
              "  </thead>\n",
              "  <tbody>\n",
              "    <tr>\n",
              "      <th>2021-05-07</th>\n",
              "      <td>0.053903</td>\n",
              "      <td>0.590251</td>\n",
              "      <td>1.978403</td>\n",
              "      <td>2.168558</td>\n",
              "      <td>3.168558</td>\n",
              "    </tr>\n",
              "    <tr>\n",
              "      <th>2021-05-08</th>\n",
              "      <td>0.207624</td>\n",
              "      <td>1.106628</td>\n",
              "      <td>0.158698</td>\n",
              "      <td>-0.059867</td>\n",
              "      <td>1.940133</td>\n",
              "    </tr>\n",
              "    <tr>\n",
              "      <th>2021-05-09</th>\n",
              "      <td>-0.297875</td>\n",
              "      <td>0.639006</td>\n",
              "      <td>-0.010951</td>\n",
              "      <td>0.466949</td>\n",
              "      <td>3.466949</td>\n",
              "    </tr>\n",
              "    <tr>\n",
              "      <th>2021-05-10</th>\n",
              "      <td>-0.710866</td>\n",
              "      <td>-2.101474</td>\n",
              "      <td>-2.383124</td>\n",
              "      <td>-2.864804</td>\n",
              "      <td>1.135196</td>\n",
              "    </tr>\n",
              "    <tr>\n",
              "      <th>2021-05-11</th>\n",
              "      <td>-0.905034</td>\n",
              "      <td>-1.736222</td>\n",
              "      <td>-2.493005</td>\n",
              "      <td>-3.126022</td>\n",
              "      <td>1.873978</td>\n",
              "    </tr>\n",
              "    <tr>\n",
              "      <th>2021-05-12</th>\n",
              "      <td>0.757400</td>\n",
              "      <td>0.575139</td>\n",
              "      <td>0.232821</td>\n",
              "      <td>0.504622</td>\n",
              "      <td>6.504622</td>\n",
              "    </tr>\n",
              "  </tbody>\n",
              "</table>\n",
              "</div>"
            ],
            "text/plain": [
              "                   A         B         C         D         F\n",
              "2021-05-07  0.053903  0.590251  1.978403  2.168558  3.168558\n",
              "2021-05-08  0.207624  1.106628  0.158698 -0.059867  1.940133\n",
              "2021-05-09 -0.297875  0.639006 -0.010951  0.466949  3.466949\n",
              "2021-05-10 -0.710866 -2.101474 -2.383124 -2.864804  1.135196\n",
              "2021-05-11 -0.905034 -1.736222 -2.493005 -3.126022  1.873978\n",
              "2021-05-12  0.757400  0.575139  0.232821  0.504622  6.504622"
            ]
          },
          "metadata": {
            "tags": []
          },
          "execution_count": 16
        }
      ]
    },
    {
      "cell_type": "code",
      "metadata": {
        "colab": {
          "base_uri": "https://localhost:8080/"
        },
        "id": "ITVnUMDfp3sf",
        "outputId": "7e123485-8129-4972-90f4-f5aad2e05935"
      },
      "source": [
        "lambda df: df.max()- df.min()"
      ],
      "execution_count": 17,
      "outputs": [
        {
          "output_type": "execute_result",
          "data": {
            "text/plain": [
              "<function __main__.<lambda>>"
            ]
          },
          "metadata": {
            "tags": []
          },
          "execution_count": 17
        }
      ]
    },
    {
      "cell_type": "code",
      "metadata": {
        "colab": {
          "base_uri": "https://localhost:8080/"
        },
        "id": "UXaDpNLaqaue",
        "outputId": "54dfbc71-b230-4606-8584-89b250c01a8e"
      },
      "source": [
        "df.apply(lambda x:x.max()- x.min(),axis=1)"
      ],
      "execution_count": 18,
      "outputs": [
        {
          "output_type": "execute_result",
          "data": {
            "text/plain": [
              "2021-05-07    1.334249\n",
              "2021-05-08    2.947930\n",
              "2021-05-09    3.649958\n",
              "2021-05-10    5.390608\n",
              "2021-05-11    5.905034\n",
              "2021-05-12    6.342317\n",
              "Freq: D, dtype: float64"
            ]
          },
          "metadata": {
            "tags": []
          },
          "execution_count": 18
        }
      ]
    },
    {
      "cell_type": "code",
      "metadata": {
        "colab": {
          "base_uri": "https://localhost:8080/"
        },
        "id": "a_iAmUxNtWNx",
        "outputId": "05682a86-dd4e-45d0-b9bb-ba64ccf08e1a"
      },
      "source": [
        "df.A.max(), df.A.min()"
      ],
      "execution_count": 19,
      "outputs": [
        {
          "output_type": "execute_result",
          "data": {
            "text/plain": [
              "(0.7573998019117631, -0.9050343860405573)"
            ]
          },
          "metadata": {
            "tags": []
          },
          "execution_count": 19
        }
      ]
    },
    {
      "cell_type": "code",
      "metadata": {
        "colab": {
          "base_uri": "https://localhost:8080/",
          "height": 225
        },
        "id": "NaNMRG1ZthKs",
        "outputId": "497427ee-8940-4bbe-87d2-47169cb2209b"
      },
      "source": [
        "df"
      ],
      "execution_count": 20,
      "outputs": [
        {
          "output_type": "execute_result",
          "data": {
            "text/html": [
              "<div>\n",
              "<style scoped>\n",
              "    .dataframe tbody tr th:only-of-type {\n",
              "        vertical-align: middle;\n",
              "    }\n",
              "\n",
              "    .dataframe tbody tr th {\n",
              "        vertical-align: top;\n",
              "    }\n",
              "\n",
              "    .dataframe thead th {\n",
              "        text-align: right;\n",
              "    }\n",
              "</style>\n",
              "<table border=\"1\" class=\"dataframe\">\n",
              "  <thead>\n",
              "    <tr style=\"text-align: right;\">\n",
              "      <th></th>\n",
              "      <th>A</th>\n",
              "      <th>B</th>\n",
              "      <th>C</th>\n",
              "      <th>D</th>\n",
              "      <th>F</th>\n",
              "    </tr>\n",
              "  </thead>\n",
              "  <tbody>\n",
              "    <tr>\n",
              "      <th>2021-05-07</th>\n",
              "      <td>0.053903</td>\n",
              "      <td>0.536347</td>\n",
              "      <td>1.388153</td>\n",
              "      <td>0.190154</td>\n",
              "      <td>1</td>\n",
              "    </tr>\n",
              "    <tr>\n",
              "      <th>2021-05-08</th>\n",
              "      <td>0.207624</td>\n",
              "      <td>0.899004</td>\n",
              "      <td>-0.947930</td>\n",
              "      <td>-0.218565</td>\n",
              "      <td>2</td>\n",
              "    </tr>\n",
              "    <tr>\n",
              "      <th>2021-05-09</th>\n",
              "      <td>-0.297875</td>\n",
              "      <td>0.936882</td>\n",
              "      <td>-0.649958</td>\n",
              "      <td>0.477900</td>\n",
              "      <td>3</td>\n",
              "    </tr>\n",
              "    <tr>\n",
              "      <th>2021-05-10</th>\n",
              "      <td>-0.710866</td>\n",
              "      <td>-1.390608</td>\n",
              "      <td>-0.281649</td>\n",
              "      <td>-0.481681</td>\n",
              "      <td>4</td>\n",
              "    </tr>\n",
              "    <tr>\n",
              "      <th>2021-05-11</th>\n",
              "      <td>-0.905034</td>\n",
              "      <td>-0.831188</td>\n",
              "      <td>-0.756783</td>\n",
              "      <td>-0.633017</td>\n",
              "      <td>5</td>\n",
              "    </tr>\n",
              "    <tr>\n",
              "      <th>2021-05-12</th>\n",
              "      <td>0.757400</td>\n",
              "      <td>-0.182261</td>\n",
              "      <td>-0.342317</td>\n",
              "      <td>0.271800</td>\n",
              "      <td>6</td>\n",
              "    </tr>\n",
              "  </tbody>\n",
              "</table>\n",
              "</div>"
            ],
            "text/plain": [
              "                   A         B         C         D  F\n",
              "2021-05-07  0.053903  0.536347  1.388153  0.190154  1\n",
              "2021-05-08  0.207624  0.899004 -0.947930 -0.218565  2\n",
              "2021-05-09 -0.297875  0.936882 -0.649958  0.477900  3\n",
              "2021-05-10 -0.710866 -1.390608 -0.281649 -0.481681  4\n",
              "2021-05-11 -0.905034 -0.831188 -0.756783 -0.633017  5\n",
              "2021-05-12  0.757400 -0.182261 -0.342317  0.271800  6"
            ]
          },
          "metadata": {
            "tags": []
          },
          "execution_count": 20
        }
      ]
    },
    {
      "cell_type": "code",
      "metadata": {
        "colab": {
          "base_uri": "https://localhost:8080/"
        },
        "id": "SDmBcVL3uJfc",
        "outputId": "ce899338-f629-414a-83ae-6bd8815a2f82"
      },
      "source": [
        "s = pd.Series(np.random.randint(1, 7, size = 1000000))\n",
        "s.value_counts()"
      ],
      "execution_count": 21,
      "outputs": [
        {
          "output_type": "execute_result",
          "data": {
            "text/plain": [
              "4    167151\n",
              "5    167143\n",
              "1    166706\n",
              "2    166617\n",
              "6    166511\n",
              "3    165872\n",
              "dtype: int64"
            ]
          },
          "metadata": {
            "tags": []
          },
          "execution_count": 21
        }
      ]
    },
    {
      "cell_type": "code",
      "metadata": {
        "id": "TOv_HH3puMvc"
      },
      "source": [
        "df = pd.DataFrame(np.random.randn(10,4))"
      ],
      "execution_count": 22,
      "outputs": []
    },
    {
      "cell_type": "code",
      "metadata": {
        "colab": {
          "base_uri": "https://localhost:8080/",
          "height": 343
        },
        "id": "Y7i2xmSRvelb",
        "outputId": "ef59a39d-daef-4460-ecc2-abafa7394f4e"
      },
      "source": [
        "df"
      ],
      "execution_count": 23,
      "outputs": [
        {
          "output_type": "execute_result",
          "data": {
            "text/html": [
              "<div>\n",
              "<style scoped>\n",
              "    .dataframe tbody tr th:only-of-type {\n",
              "        vertical-align: middle;\n",
              "    }\n",
              "\n",
              "    .dataframe tbody tr th {\n",
              "        vertical-align: top;\n",
              "    }\n",
              "\n",
              "    .dataframe thead th {\n",
              "        text-align: right;\n",
              "    }\n",
              "</style>\n",
              "<table border=\"1\" class=\"dataframe\">\n",
              "  <thead>\n",
              "    <tr style=\"text-align: right;\">\n",
              "      <th></th>\n",
              "      <th>0</th>\n",
              "      <th>1</th>\n",
              "      <th>2</th>\n",
              "      <th>3</th>\n",
              "    </tr>\n",
              "  </thead>\n",
              "  <tbody>\n",
              "    <tr>\n",
              "      <th>0</th>\n",
              "      <td>-1.851415</td>\n",
              "      <td>2.611178</td>\n",
              "      <td>-0.939867</td>\n",
              "      <td>-1.410108</td>\n",
              "    </tr>\n",
              "    <tr>\n",
              "      <th>1</th>\n",
              "      <td>-0.129667</td>\n",
              "      <td>0.406578</td>\n",
              "      <td>1.460636</td>\n",
              "      <td>-1.164472</td>\n",
              "    </tr>\n",
              "    <tr>\n",
              "      <th>2</th>\n",
              "      <td>0.488278</td>\n",
              "      <td>-0.562628</td>\n",
              "      <td>0.589896</td>\n",
              "      <td>-1.298376</td>\n",
              "    </tr>\n",
              "    <tr>\n",
              "      <th>3</th>\n",
              "      <td>0.736406</td>\n",
              "      <td>-1.056638</td>\n",
              "      <td>0.149374</td>\n",
              "      <td>0.217027</td>\n",
              "    </tr>\n",
              "    <tr>\n",
              "      <th>4</th>\n",
              "      <td>2.425014</td>\n",
              "      <td>0.276070</td>\n",
              "      <td>1.833285</td>\n",
              "      <td>0.389350</td>\n",
              "    </tr>\n",
              "    <tr>\n",
              "      <th>5</th>\n",
              "      <td>-0.108816</td>\n",
              "      <td>1.049240</td>\n",
              "      <td>1.821255</td>\n",
              "      <td>-0.148248</td>\n",
              "    </tr>\n",
              "    <tr>\n",
              "      <th>6</th>\n",
              "      <td>-0.312819</td>\n",
              "      <td>0.726879</td>\n",
              "      <td>0.049426</td>\n",
              "      <td>-1.034834</td>\n",
              "    </tr>\n",
              "    <tr>\n",
              "      <th>7</th>\n",
              "      <td>-1.766477</td>\n",
              "      <td>0.589824</td>\n",
              "      <td>-0.108160</td>\n",
              "      <td>-2.443610</td>\n",
              "    </tr>\n",
              "    <tr>\n",
              "      <th>8</th>\n",
              "      <td>-0.499082</td>\n",
              "      <td>0.596026</td>\n",
              "      <td>0.258062</td>\n",
              "      <td>0.172462</td>\n",
              "    </tr>\n",
              "    <tr>\n",
              "      <th>9</th>\n",
              "      <td>2.771553</td>\n",
              "      <td>0.219883</td>\n",
              "      <td>-1.478794</td>\n",
              "      <td>1.114417</td>\n",
              "    </tr>\n",
              "  </tbody>\n",
              "</table>\n",
              "</div>"
            ],
            "text/plain": [
              "          0         1         2         3\n",
              "0 -1.851415  2.611178 -0.939867 -1.410108\n",
              "1 -0.129667  0.406578  1.460636 -1.164472\n",
              "2  0.488278 -0.562628  0.589896 -1.298376\n",
              "3  0.736406 -1.056638  0.149374  0.217027\n",
              "4  2.425014  0.276070  1.833285  0.389350\n",
              "5 -0.108816  1.049240  1.821255 -0.148248\n",
              "6 -0.312819  0.726879  0.049426 -1.034834\n",
              "7 -1.766477  0.589824 -0.108160 -2.443610\n",
              "8 -0.499082  0.596026  0.258062  0.172462\n",
              "9  2.771553  0.219883 -1.478794  1.114417"
            ]
          },
          "metadata": {
            "tags": []
          },
          "execution_count": 23
        }
      ]
    },
    {
      "cell_type": "code",
      "metadata": {
        "colab": {
          "base_uri": "https://localhost:8080/"
        },
        "id": "ptrOwGLlvf9L",
        "outputId": "f7309827-4828-4f38-b92e-7912de1d5874"
      },
      "source": [
        "pieces=[df[:3], df[3:7],df[7:]]\n",
        "pieces"
      ],
      "execution_count": 24,
      "outputs": [
        {
          "output_type": "execute_result",
          "data": {
            "text/plain": [
              "[          0         1         2         3\n",
              " 0 -1.851415  2.611178 -0.939867 -1.410108\n",
              " 1 -0.129667  0.406578  1.460636 -1.164472\n",
              " 2  0.488278 -0.562628  0.589896 -1.298376,\n",
              "           0         1         2         3\n",
              " 3  0.736406 -1.056638  0.149374  0.217027\n",
              " 4  2.425014  0.276070  1.833285  0.389350\n",
              " 5 -0.108816  1.049240  1.821255 -0.148248\n",
              " 6 -0.312819  0.726879  0.049426 -1.034834,\n",
              "           0         1         2         3\n",
              " 7 -1.766477  0.589824 -0.108160 -2.443610\n",
              " 8 -0.499082  0.596026  0.258062  0.172462\n",
              " 9  2.771553  0.219883 -1.478794  1.114417]"
            ]
          },
          "metadata": {
            "tags": []
          },
          "execution_count": 24
        }
      ]
    },
    {
      "cell_type": "code",
      "metadata": {
        "colab": {
          "base_uri": "https://localhost:8080/",
          "height": 343
        },
        "id": "Z6z5wkYHvsLr",
        "outputId": "9d437dca-2d03-49d1-9cc4-c511dacbc5c9"
      },
      "source": [
        "pd.concat(pieces)"
      ],
      "execution_count": 25,
      "outputs": [
        {
          "output_type": "execute_result",
          "data": {
            "text/html": [
              "<div>\n",
              "<style scoped>\n",
              "    .dataframe tbody tr th:only-of-type {\n",
              "        vertical-align: middle;\n",
              "    }\n",
              "\n",
              "    .dataframe tbody tr th {\n",
              "        vertical-align: top;\n",
              "    }\n",
              "\n",
              "    .dataframe thead th {\n",
              "        text-align: right;\n",
              "    }\n",
              "</style>\n",
              "<table border=\"1\" class=\"dataframe\">\n",
              "  <thead>\n",
              "    <tr style=\"text-align: right;\">\n",
              "      <th></th>\n",
              "      <th>0</th>\n",
              "      <th>1</th>\n",
              "      <th>2</th>\n",
              "      <th>3</th>\n",
              "    </tr>\n",
              "  </thead>\n",
              "  <tbody>\n",
              "    <tr>\n",
              "      <th>0</th>\n",
              "      <td>-1.851415</td>\n",
              "      <td>2.611178</td>\n",
              "      <td>-0.939867</td>\n",
              "      <td>-1.410108</td>\n",
              "    </tr>\n",
              "    <tr>\n",
              "      <th>1</th>\n",
              "      <td>-0.129667</td>\n",
              "      <td>0.406578</td>\n",
              "      <td>1.460636</td>\n",
              "      <td>-1.164472</td>\n",
              "    </tr>\n",
              "    <tr>\n",
              "      <th>2</th>\n",
              "      <td>0.488278</td>\n",
              "      <td>-0.562628</td>\n",
              "      <td>0.589896</td>\n",
              "      <td>-1.298376</td>\n",
              "    </tr>\n",
              "    <tr>\n",
              "      <th>3</th>\n",
              "      <td>0.736406</td>\n",
              "      <td>-1.056638</td>\n",
              "      <td>0.149374</td>\n",
              "      <td>0.217027</td>\n",
              "    </tr>\n",
              "    <tr>\n",
              "      <th>4</th>\n",
              "      <td>2.425014</td>\n",
              "      <td>0.276070</td>\n",
              "      <td>1.833285</td>\n",
              "      <td>0.389350</td>\n",
              "    </tr>\n",
              "    <tr>\n",
              "      <th>5</th>\n",
              "      <td>-0.108816</td>\n",
              "      <td>1.049240</td>\n",
              "      <td>1.821255</td>\n",
              "      <td>-0.148248</td>\n",
              "    </tr>\n",
              "    <tr>\n",
              "      <th>6</th>\n",
              "      <td>-0.312819</td>\n",
              "      <td>0.726879</td>\n",
              "      <td>0.049426</td>\n",
              "      <td>-1.034834</td>\n",
              "    </tr>\n",
              "    <tr>\n",
              "      <th>7</th>\n",
              "      <td>-1.766477</td>\n",
              "      <td>0.589824</td>\n",
              "      <td>-0.108160</td>\n",
              "      <td>-2.443610</td>\n",
              "    </tr>\n",
              "    <tr>\n",
              "      <th>8</th>\n",
              "      <td>-0.499082</td>\n",
              "      <td>0.596026</td>\n",
              "      <td>0.258062</td>\n",
              "      <td>0.172462</td>\n",
              "    </tr>\n",
              "    <tr>\n",
              "      <th>9</th>\n",
              "      <td>2.771553</td>\n",
              "      <td>0.219883</td>\n",
              "      <td>-1.478794</td>\n",
              "      <td>1.114417</td>\n",
              "    </tr>\n",
              "  </tbody>\n",
              "</table>\n",
              "</div>"
            ],
            "text/plain": [
              "          0         1         2         3\n",
              "0 -1.851415  2.611178 -0.939867 -1.410108\n",
              "1 -0.129667  0.406578  1.460636 -1.164472\n",
              "2  0.488278 -0.562628  0.589896 -1.298376\n",
              "3  0.736406 -1.056638  0.149374  0.217027\n",
              "4  2.425014  0.276070  1.833285  0.389350\n",
              "5 -0.108816  1.049240  1.821255 -0.148248\n",
              "6 -0.312819  0.726879  0.049426 -1.034834\n",
              "7 -1.766477  0.589824 -0.108160 -2.443610\n",
              "8 -0.499082  0.596026  0.258062  0.172462\n",
              "9  2.771553  0.219883 -1.478794  1.114417"
            ]
          },
          "metadata": {
            "tags": []
          },
          "execution_count": 25
        }
      ]
    },
    {
      "cell_type": "code",
      "metadata": {
        "id": "IDaKNNPxv_u7"
      },
      "source": [
        "left = pd.DataFrame(\n",
        "    {\n",
        "        'a':['foo', 'foo'], \n",
        "        'lval': [1, 2]\n",
        "     }\n",
        ")\n",
        "right = pd.DataFrame({'a':['foo', 'foo'], 'rval': [4, 5]})\n"
      ],
      "execution_count": 26,
      "outputs": []
    },
    {
      "cell_type": "code",
      "metadata": {
        "colab": {
          "base_uri": "https://localhost:8080/",
          "height": 106
        },
        "id": "ec560Ym6wocz",
        "outputId": "bfeaaa2d-0059-4a6b-eb69-a87800b0af5b"
      },
      "source": [
        "left"
      ],
      "execution_count": 27,
      "outputs": [
        {
          "output_type": "execute_result",
          "data": {
            "text/html": [
              "<div>\n",
              "<style scoped>\n",
              "    .dataframe tbody tr th:only-of-type {\n",
              "        vertical-align: middle;\n",
              "    }\n",
              "\n",
              "    .dataframe tbody tr th {\n",
              "        vertical-align: top;\n",
              "    }\n",
              "\n",
              "    .dataframe thead th {\n",
              "        text-align: right;\n",
              "    }\n",
              "</style>\n",
              "<table border=\"1\" class=\"dataframe\">\n",
              "  <thead>\n",
              "    <tr style=\"text-align: right;\">\n",
              "      <th></th>\n",
              "      <th>a</th>\n",
              "      <th>lval</th>\n",
              "    </tr>\n",
              "  </thead>\n",
              "  <tbody>\n",
              "    <tr>\n",
              "      <th>0</th>\n",
              "      <td>foo</td>\n",
              "      <td>1</td>\n",
              "    </tr>\n",
              "    <tr>\n",
              "      <th>1</th>\n",
              "      <td>foo</td>\n",
              "      <td>2</td>\n",
              "    </tr>\n",
              "  </tbody>\n",
              "</table>\n",
              "</div>"
            ],
            "text/plain": [
              "     a  lval\n",
              "0  foo     1\n",
              "1  foo     2"
            ]
          },
          "metadata": {
            "tags": []
          },
          "execution_count": 27
        }
      ]
    },
    {
      "cell_type": "code",
      "metadata": {
        "colab": {
          "base_uri": "https://localhost:8080/",
          "height": 106
        },
        "id": "9nIvkP4twqSr",
        "outputId": "cc26b9de-99e7-49e4-ccab-1a4c4e984829"
      },
      "source": [
        "right"
      ],
      "execution_count": 28,
      "outputs": [
        {
          "output_type": "execute_result",
          "data": {
            "text/html": [
              "<div>\n",
              "<style scoped>\n",
              "    .dataframe tbody tr th:only-of-type {\n",
              "        vertical-align: middle;\n",
              "    }\n",
              "\n",
              "    .dataframe tbody tr th {\n",
              "        vertical-align: top;\n",
              "    }\n",
              "\n",
              "    .dataframe thead th {\n",
              "        text-align: right;\n",
              "    }\n",
              "</style>\n",
              "<table border=\"1\" class=\"dataframe\">\n",
              "  <thead>\n",
              "    <tr style=\"text-align: right;\">\n",
              "      <th></th>\n",
              "      <th>a</th>\n",
              "      <th>rval</th>\n",
              "    </tr>\n",
              "  </thead>\n",
              "  <tbody>\n",
              "    <tr>\n",
              "      <th>0</th>\n",
              "      <td>foo</td>\n",
              "      <td>4</td>\n",
              "    </tr>\n",
              "    <tr>\n",
              "      <th>1</th>\n",
              "      <td>foo</td>\n",
              "      <td>5</td>\n",
              "    </tr>\n",
              "  </tbody>\n",
              "</table>\n",
              "</div>"
            ],
            "text/plain": [
              "     a  rval\n",
              "0  foo     4\n",
              "1  foo     5"
            ]
          },
          "metadata": {
            "tags": []
          },
          "execution_count": 28
        }
      ]
    },
    {
      "cell_type": "code",
      "metadata": {
        "colab": {
          "base_uri": "https://localhost:8080/",
          "height": 166
        },
        "id": "mYocLMnwyhLq",
        "outputId": "75e10d9c-e614-49a3-93be-58148d650f84"
      },
      "source": [
        "pd.merge(left, right, on = 'a')"
      ],
      "execution_count": 29,
      "outputs": [
        {
          "output_type": "execute_result",
          "data": {
            "text/html": [
              "<div>\n",
              "<style scoped>\n",
              "    .dataframe tbody tr th:only-of-type {\n",
              "        vertical-align: middle;\n",
              "    }\n",
              "\n",
              "    .dataframe tbody tr th {\n",
              "        vertical-align: top;\n",
              "    }\n",
              "\n",
              "    .dataframe thead th {\n",
              "        text-align: right;\n",
              "    }\n",
              "</style>\n",
              "<table border=\"1\" class=\"dataframe\">\n",
              "  <thead>\n",
              "    <tr style=\"text-align: right;\">\n",
              "      <th></th>\n",
              "      <th>a</th>\n",
              "      <th>lval</th>\n",
              "      <th>rval</th>\n",
              "    </tr>\n",
              "  </thead>\n",
              "  <tbody>\n",
              "    <tr>\n",
              "      <th>0</th>\n",
              "      <td>foo</td>\n",
              "      <td>1</td>\n",
              "      <td>4</td>\n",
              "    </tr>\n",
              "    <tr>\n",
              "      <th>1</th>\n",
              "      <td>foo</td>\n",
              "      <td>1</td>\n",
              "      <td>5</td>\n",
              "    </tr>\n",
              "    <tr>\n",
              "      <th>2</th>\n",
              "      <td>foo</td>\n",
              "      <td>2</td>\n",
              "      <td>4</td>\n",
              "    </tr>\n",
              "    <tr>\n",
              "      <th>3</th>\n",
              "      <td>foo</td>\n",
              "      <td>2</td>\n",
              "      <td>5</td>\n",
              "    </tr>\n",
              "  </tbody>\n",
              "</table>\n",
              "</div>"
            ],
            "text/plain": [
              "     a  lval  rval\n",
              "0  foo     1     4\n",
              "1  foo     1     5\n",
              "2  foo     2     4\n",
              "3  foo     2     5"
            ]
          },
          "metadata": {
            "tags": []
          },
          "execution_count": 29
        }
      ]
    },
    {
      "cell_type": "code",
      "metadata": {
        "id": "5n7EIlQmylga"
      },
      "source": [
        "df = pd.DataFrame(\n",
        "    {\n",
        "        'A' : ['foo', 'bar', 'foo', 'bar', 'foo', 'bar', 'foo', 'bar'],\n",
        "        'B' : ['one', 'one', 'two', 'three', 'two', 'two', 'one', 'three'],\n",
        "        'C' : np.random.randn(8),\n",
        "        'D' : np.random.randn(8)\n",
        "    }\n",
        ")"
      ],
      "execution_count": 30,
      "outputs": []
    },
    {
      "cell_type": "code",
      "metadata": {
        "colab": {
          "base_uri": "https://localhost:8080/",
          "height": 284
        },
        "id": "CC8Insx0y4-6",
        "outputId": "342bbe93-7279-4cf7-a512-7e18a8a208d5"
      },
      "source": [
        "df"
      ],
      "execution_count": 31,
      "outputs": [
        {
          "output_type": "execute_result",
          "data": {
            "text/html": [
              "<div>\n",
              "<style scoped>\n",
              "    .dataframe tbody tr th:only-of-type {\n",
              "        vertical-align: middle;\n",
              "    }\n",
              "\n",
              "    .dataframe tbody tr th {\n",
              "        vertical-align: top;\n",
              "    }\n",
              "\n",
              "    .dataframe thead th {\n",
              "        text-align: right;\n",
              "    }\n",
              "</style>\n",
              "<table border=\"1\" class=\"dataframe\">\n",
              "  <thead>\n",
              "    <tr style=\"text-align: right;\">\n",
              "      <th></th>\n",
              "      <th>A</th>\n",
              "      <th>B</th>\n",
              "      <th>C</th>\n",
              "      <th>D</th>\n",
              "    </tr>\n",
              "  </thead>\n",
              "  <tbody>\n",
              "    <tr>\n",
              "      <th>0</th>\n",
              "      <td>foo</td>\n",
              "      <td>one</td>\n",
              "      <td>0.126519</td>\n",
              "      <td>0.390283</td>\n",
              "    </tr>\n",
              "    <tr>\n",
              "      <th>1</th>\n",
              "      <td>bar</td>\n",
              "      <td>one</td>\n",
              "      <td>0.813431</td>\n",
              "      <td>0.360147</td>\n",
              "    </tr>\n",
              "    <tr>\n",
              "      <th>2</th>\n",
              "      <td>foo</td>\n",
              "      <td>two</td>\n",
              "      <td>0.148591</td>\n",
              "      <td>0.086141</td>\n",
              "    </tr>\n",
              "    <tr>\n",
              "      <th>3</th>\n",
              "      <td>bar</td>\n",
              "      <td>three</td>\n",
              "      <td>0.913830</td>\n",
              "      <td>-1.737170</td>\n",
              "    </tr>\n",
              "    <tr>\n",
              "      <th>4</th>\n",
              "      <td>foo</td>\n",
              "      <td>two</td>\n",
              "      <td>-0.133743</td>\n",
              "      <td>-0.739310</td>\n",
              "    </tr>\n",
              "    <tr>\n",
              "      <th>5</th>\n",
              "      <td>bar</td>\n",
              "      <td>two</td>\n",
              "      <td>-0.250846</td>\n",
              "      <td>0.285887</td>\n",
              "    </tr>\n",
              "    <tr>\n",
              "      <th>6</th>\n",
              "      <td>foo</td>\n",
              "      <td>one</td>\n",
              "      <td>0.568491</td>\n",
              "      <td>-0.022048</td>\n",
              "    </tr>\n",
              "    <tr>\n",
              "      <th>7</th>\n",
              "      <td>bar</td>\n",
              "      <td>three</td>\n",
              "      <td>-0.366326</td>\n",
              "      <td>0.117201</td>\n",
              "    </tr>\n",
              "  </tbody>\n",
              "</table>\n",
              "</div>"
            ],
            "text/plain": [
              "     A      B         C         D\n",
              "0  foo    one  0.126519  0.390283\n",
              "1  bar    one  0.813431  0.360147\n",
              "2  foo    two  0.148591  0.086141\n",
              "3  bar  three  0.913830 -1.737170\n",
              "4  foo    two -0.133743 -0.739310\n",
              "5  bar    two -0.250846  0.285887\n",
              "6  foo    one  0.568491 -0.022048\n",
              "7  bar  three -0.366326  0.117201"
            ]
          },
          "metadata": {
            "tags": []
          },
          "execution_count": 31
        }
      ]
    },
    {
      "cell_type": "code",
      "metadata": {
        "colab": {
          "base_uri": "https://localhost:8080/",
          "height": 166
        },
        "id": "ck_MBumOy50a",
        "outputId": "91401e61-f82c-44e6-e36e-da8247f4348a"
      },
      "source": [
        "a= df.groupby('B').sum()\n",
        "a"
      ],
      "execution_count": 33,
      "outputs": [
        {
          "output_type": "execute_result",
          "data": {
            "text/html": [
              "<div>\n",
              "<style scoped>\n",
              "    .dataframe tbody tr th:only-of-type {\n",
              "        vertical-align: middle;\n",
              "    }\n",
              "\n",
              "    .dataframe tbody tr th {\n",
              "        vertical-align: top;\n",
              "    }\n",
              "\n",
              "    .dataframe thead th {\n",
              "        text-align: right;\n",
              "    }\n",
              "</style>\n",
              "<table border=\"1\" class=\"dataframe\">\n",
              "  <thead>\n",
              "    <tr style=\"text-align: right;\">\n",
              "      <th></th>\n",
              "      <th>C</th>\n",
              "      <th>D</th>\n",
              "    </tr>\n",
              "    <tr>\n",
              "      <th>B</th>\n",
              "      <th></th>\n",
              "      <th></th>\n",
              "    </tr>\n",
              "  </thead>\n",
              "  <tbody>\n",
              "    <tr>\n",
              "      <th>one</th>\n",
              "      <td>1.508441</td>\n",
              "      <td>0.728382</td>\n",
              "    </tr>\n",
              "    <tr>\n",
              "      <th>three</th>\n",
              "      <td>0.547504</td>\n",
              "      <td>-1.619969</td>\n",
              "    </tr>\n",
              "    <tr>\n",
              "      <th>two</th>\n",
              "      <td>-0.235999</td>\n",
              "      <td>-0.367283</td>\n",
              "    </tr>\n",
              "  </tbody>\n",
              "</table>\n",
              "</div>"
            ],
            "text/plain": [
              "              C         D\n",
              "B                        \n",
              "one    1.508441  0.728382\n",
              "three  0.547504 -1.619969\n",
              "two   -0.235999 -0.367283"
            ]
          },
          "metadata": {
            "tags": []
          },
          "execution_count": 33
        }
      ]
    },
    {
      "cell_type": "code",
      "metadata": {
        "colab": {
          "base_uri": "https://localhost:8080/",
          "height": 225
        },
        "id": "HYnH1Uw403ok",
        "outputId": "0d61da30-56a7-409c-f55a-d8bcf4da3588"
      },
      "source": [
        "a=df.groupby(['A','B']).sum()\n",
        "a"
      ],
      "execution_count": 40,
      "outputs": [
        {
          "output_type": "execute_result",
          "data": {
            "text/html": [
              "<div>\n",
              "<style scoped>\n",
              "    .dataframe tbody tr th:only-of-type {\n",
              "        vertical-align: middle;\n",
              "    }\n",
              "\n",
              "    .dataframe tbody tr th {\n",
              "        vertical-align: top;\n",
              "    }\n",
              "\n",
              "    .dataframe thead th {\n",
              "        text-align: right;\n",
              "    }\n",
              "</style>\n",
              "<table border=\"1\" class=\"dataframe\">\n",
              "  <thead>\n",
              "    <tr style=\"text-align: right;\">\n",
              "      <th></th>\n",
              "      <th></th>\n",
              "      <th>C</th>\n",
              "      <th>D</th>\n",
              "    </tr>\n",
              "    <tr>\n",
              "      <th>A</th>\n",
              "      <th>B</th>\n",
              "      <th></th>\n",
              "      <th></th>\n",
              "    </tr>\n",
              "  </thead>\n",
              "  <tbody>\n",
              "    <tr>\n",
              "      <th rowspan=\"3\" valign=\"top\">bar</th>\n",
              "      <th>one</th>\n",
              "      <td>0.813431</td>\n",
              "      <td>0.360147</td>\n",
              "    </tr>\n",
              "    <tr>\n",
              "      <th>three</th>\n",
              "      <td>0.547504</td>\n",
              "      <td>-1.619969</td>\n",
              "    </tr>\n",
              "    <tr>\n",
              "      <th>two</th>\n",
              "      <td>-0.250846</td>\n",
              "      <td>0.285887</td>\n",
              "    </tr>\n",
              "    <tr>\n",
              "      <th rowspan=\"2\" valign=\"top\">foo</th>\n",
              "      <th>one</th>\n",
              "      <td>0.695010</td>\n",
              "      <td>0.368235</td>\n",
              "    </tr>\n",
              "    <tr>\n",
              "      <th>two</th>\n",
              "      <td>0.014848</td>\n",
              "      <td>-0.653170</td>\n",
              "    </tr>\n",
              "  </tbody>\n",
              "</table>\n",
              "</div>"
            ],
            "text/plain": [
              "                  C         D\n",
              "A   B                        \n",
              "bar one    0.813431  0.360147\n",
              "    three  0.547504 -1.619969\n",
              "    two   -0.250846  0.285887\n",
              "foo one    0.695010  0.368235\n",
              "    two    0.014848 -0.653170"
            ]
          },
          "metadata": {
            "tags": []
          },
          "execution_count": 40
        }
      ]
    },
    {
      "cell_type": "code",
      "metadata": {
        "colab": {
          "base_uri": "https://localhost:8080/"
        },
        "id": "eyYASE17zJVK",
        "outputId": "7cbe52ab-1cff-4d75-b263-5f50b0814f62"
      },
      "source": [
        "x = [1,2,3]\n",
        "y=[4,5,6]\n",
        "zipped =zip(x,y)\n",
        "list(zipped)"
      ],
      "execution_count": 34,
      "outputs": [
        {
          "output_type": "execute_result",
          "data": {
            "text/plain": [
              "[(1, 4), (2, 5), (3, 6)]"
            ]
          },
          "metadata": {
            "tags": []
          },
          "execution_count": 34
        }
      ]
    },
    {
      "cell_type": "code",
      "metadata": {
        "id": "gMPgDDDU0XUa"
      },
      "source": [
        "x2,y2 = zip(*zip(x,y))"
      ],
      "execution_count": 35,
      "outputs": []
    },
    {
      "cell_type": "code",
      "metadata": {
        "colab": {
          "base_uri": "https://localhost:8080/"
        },
        "id": "xOFEvo9T0fPr",
        "outputId": "78e17586-fe39-4d60-e515-6d00ee556f80"
      },
      "source": [
        "x2"
      ],
      "execution_count": 36,
      "outputs": [
        {
          "output_type": "execute_result",
          "data": {
            "text/plain": [
              "(1, 2, 3)"
            ]
          },
          "metadata": {
            "tags": []
          },
          "execution_count": 36
        }
      ]
    },
    {
      "cell_type": "code",
      "metadata": {
        "colab": {
          "base_uri": "https://localhost:8080/"
        },
        "id": "bH73ruzg0f36",
        "outputId": "4089cb39-493c-491d-e75d-60b4c6fa0794"
      },
      "source": [
        "y2"
      ],
      "execution_count": 37,
      "outputs": [
        {
          "output_type": "execute_result",
          "data": {
            "text/plain": [
              "(4, 5, 6)"
            ]
          },
          "metadata": {
            "tags": []
          },
          "execution_count": 37
        }
      ]
    },
    {
      "cell_type": "code",
      "metadata": {
        "id": "xQW-qt1Y0gpK"
      },
      "source": [
        "df = pd.DataFrame(\n",
        "    {\n",
        "        'A' : ['one', 'one', 'two', 'three'] * 3,\n",
        "        'B' : ['A', 'B', 'C'] * 4,\n",
        "        'C' : ['foo', 'foo', 'foo', 'bar', 'bar', 'bar' ] * 2,\n",
        "        'D' : np.random.randn(12),\n",
        "        'E' : np.random.randn(12)\n",
        "    }\n",
        ")"
      ],
      "execution_count": 41,
      "outputs": []
    },
    {
      "cell_type": "code",
      "metadata": {
        "colab": {
          "base_uri": "https://localhost:8080/",
          "height": 402
        },
        "id": "K1DPfhFD1mrY",
        "outputId": "da8ffc1b-d2d7-4f31-f8bc-2c61a77b3827"
      },
      "source": [
        "df"
      ],
      "execution_count": 42,
      "outputs": [
        {
          "output_type": "execute_result",
          "data": {
            "text/html": [
              "<div>\n",
              "<style scoped>\n",
              "    .dataframe tbody tr th:only-of-type {\n",
              "        vertical-align: middle;\n",
              "    }\n",
              "\n",
              "    .dataframe tbody tr th {\n",
              "        vertical-align: top;\n",
              "    }\n",
              "\n",
              "    .dataframe thead th {\n",
              "        text-align: right;\n",
              "    }\n",
              "</style>\n",
              "<table border=\"1\" class=\"dataframe\">\n",
              "  <thead>\n",
              "    <tr style=\"text-align: right;\">\n",
              "      <th></th>\n",
              "      <th>A</th>\n",
              "      <th>B</th>\n",
              "      <th>C</th>\n",
              "      <th>D</th>\n",
              "      <th>E</th>\n",
              "    </tr>\n",
              "  </thead>\n",
              "  <tbody>\n",
              "    <tr>\n",
              "      <th>0</th>\n",
              "      <td>one</td>\n",
              "      <td>A</td>\n",
              "      <td>foo</td>\n",
              "      <td>-0.402947</td>\n",
              "      <td>0.065017</td>\n",
              "    </tr>\n",
              "    <tr>\n",
              "      <th>1</th>\n",
              "      <td>one</td>\n",
              "      <td>B</td>\n",
              "      <td>foo</td>\n",
              "      <td>-0.521854</td>\n",
              "      <td>-0.735369</td>\n",
              "    </tr>\n",
              "    <tr>\n",
              "      <th>2</th>\n",
              "      <td>two</td>\n",
              "      <td>C</td>\n",
              "      <td>foo</td>\n",
              "      <td>0.365509</td>\n",
              "      <td>-1.968834</td>\n",
              "    </tr>\n",
              "    <tr>\n",
              "      <th>3</th>\n",
              "      <td>three</td>\n",
              "      <td>A</td>\n",
              "      <td>bar</td>\n",
              "      <td>0.271908</td>\n",
              "      <td>0.720075</td>\n",
              "    </tr>\n",
              "    <tr>\n",
              "      <th>4</th>\n",
              "      <td>one</td>\n",
              "      <td>B</td>\n",
              "      <td>bar</td>\n",
              "      <td>-0.781864</td>\n",
              "      <td>2.391807</td>\n",
              "    </tr>\n",
              "    <tr>\n",
              "      <th>5</th>\n",
              "      <td>one</td>\n",
              "      <td>C</td>\n",
              "      <td>bar</td>\n",
              "      <td>1.102261</td>\n",
              "      <td>-0.589164</td>\n",
              "    </tr>\n",
              "    <tr>\n",
              "      <th>6</th>\n",
              "      <td>two</td>\n",
              "      <td>A</td>\n",
              "      <td>foo</td>\n",
              "      <td>0.617824</td>\n",
              "      <td>-2.242784</td>\n",
              "    </tr>\n",
              "    <tr>\n",
              "      <th>7</th>\n",
              "      <td>three</td>\n",
              "      <td>B</td>\n",
              "      <td>foo</td>\n",
              "      <td>-1.707179</td>\n",
              "      <td>-1.746126</td>\n",
              "    </tr>\n",
              "    <tr>\n",
              "      <th>8</th>\n",
              "      <td>one</td>\n",
              "      <td>C</td>\n",
              "      <td>foo</td>\n",
              "      <td>-1.826388</td>\n",
              "      <td>-0.482571</td>\n",
              "    </tr>\n",
              "    <tr>\n",
              "      <th>9</th>\n",
              "      <td>one</td>\n",
              "      <td>A</td>\n",
              "      <td>bar</td>\n",
              "      <td>2.805063</td>\n",
              "      <td>1.131104</td>\n",
              "    </tr>\n",
              "    <tr>\n",
              "      <th>10</th>\n",
              "      <td>two</td>\n",
              "      <td>B</td>\n",
              "      <td>bar</td>\n",
              "      <td>-1.938810</td>\n",
              "      <td>2.068210</td>\n",
              "    </tr>\n",
              "    <tr>\n",
              "      <th>11</th>\n",
              "      <td>three</td>\n",
              "      <td>C</td>\n",
              "      <td>bar</td>\n",
              "      <td>0.615298</td>\n",
              "      <td>0.698116</td>\n",
              "    </tr>\n",
              "  </tbody>\n",
              "</table>\n",
              "</div>"
            ],
            "text/plain": [
              "        A  B    C         D         E\n",
              "0     one  A  foo -0.402947  0.065017\n",
              "1     one  B  foo -0.521854 -0.735369\n",
              "2     two  C  foo  0.365509 -1.968834\n",
              "3   three  A  bar  0.271908  0.720075\n",
              "4     one  B  bar -0.781864  2.391807\n",
              "5     one  C  bar  1.102261 -0.589164\n",
              "6     two  A  foo  0.617824 -2.242784\n",
              "7   three  B  foo -1.707179 -1.746126\n",
              "8     one  C  foo -1.826388 -0.482571\n",
              "9     one  A  bar  2.805063  1.131104\n",
              "10    two  B  bar -1.938810  2.068210\n",
              "11  three  C  bar  0.615298  0.698116"
            ]
          },
          "metadata": {
            "tags": []
          },
          "execution_count": 42
        }
      ]
    },
    {
      "cell_type": "code",
      "metadata": {
        "colab": {
          "base_uri": "https://localhost:8080/",
          "height": 343
        },
        "id": "3O3TWhfN1nP4",
        "outputId": "6c2b2baf-de77-4331-beff-db930e3aefda"
      },
      "source": [
        "pd.pivot_table(df, values='D',index=['A','B'], columns=['C'])"
      ],
      "execution_count": 43,
      "outputs": [
        {
          "output_type": "execute_result",
          "data": {
            "text/html": [
              "<div>\n",
              "<style scoped>\n",
              "    .dataframe tbody tr th:only-of-type {\n",
              "        vertical-align: middle;\n",
              "    }\n",
              "\n",
              "    .dataframe tbody tr th {\n",
              "        vertical-align: top;\n",
              "    }\n",
              "\n",
              "    .dataframe thead th {\n",
              "        text-align: right;\n",
              "    }\n",
              "</style>\n",
              "<table border=\"1\" class=\"dataframe\">\n",
              "  <thead>\n",
              "    <tr style=\"text-align: right;\">\n",
              "      <th></th>\n",
              "      <th>C</th>\n",
              "      <th>bar</th>\n",
              "      <th>foo</th>\n",
              "    </tr>\n",
              "    <tr>\n",
              "      <th>A</th>\n",
              "      <th>B</th>\n",
              "      <th></th>\n",
              "      <th></th>\n",
              "    </tr>\n",
              "  </thead>\n",
              "  <tbody>\n",
              "    <tr>\n",
              "      <th rowspan=\"3\" valign=\"top\">one</th>\n",
              "      <th>A</th>\n",
              "      <td>2.805063</td>\n",
              "      <td>-0.402947</td>\n",
              "    </tr>\n",
              "    <tr>\n",
              "      <th>B</th>\n",
              "      <td>-0.781864</td>\n",
              "      <td>-0.521854</td>\n",
              "    </tr>\n",
              "    <tr>\n",
              "      <th>C</th>\n",
              "      <td>1.102261</td>\n",
              "      <td>-1.826388</td>\n",
              "    </tr>\n",
              "    <tr>\n",
              "      <th rowspan=\"3\" valign=\"top\">three</th>\n",
              "      <th>A</th>\n",
              "      <td>0.271908</td>\n",
              "      <td>NaN</td>\n",
              "    </tr>\n",
              "    <tr>\n",
              "      <th>B</th>\n",
              "      <td>NaN</td>\n",
              "      <td>-1.707179</td>\n",
              "    </tr>\n",
              "    <tr>\n",
              "      <th>C</th>\n",
              "      <td>0.615298</td>\n",
              "      <td>NaN</td>\n",
              "    </tr>\n",
              "    <tr>\n",
              "      <th rowspan=\"3\" valign=\"top\">two</th>\n",
              "      <th>A</th>\n",
              "      <td>NaN</td>\n",
              "      <td>0.617824</td>\n",
              "    </tr>\n",
              "    <tr>\n",
              "      <th>B</th>\n",
              "      <td>-1.938810</td>\n",
              "      <td>NaN</td>\n",
              "    </tr>\n",
              "    <tr>\n",
              "      <th>C</th>\n",
              "      <td>NaN</td>\n",
              "      <td>0.365509</td>\n",
              "    </tr>\n",
              "  </tbody>\n",
              "</table>\n",
              "</div>"
            ],
            "text/plain": [
              "C             bar       foo\n",
              "A     B                    \n",
              "one   A  2.805063 -0.402947\n",
              "      B -0.781864 -0.521854\n",
              "      C  1.102261 -1.826388\n",
              "three A  0.271908       NaN\n",
              "      B       NaN -1.707179\n",
              "      C  0.615298       NaN\n",
              "two   A       NaN  0.617824\n",
              "      B -1.938810       NaN\n",
              "      C       NaN  0.365509"
            ]
          },
          "metadata": {
            "tags": []
          },
          "execution_count": 43
        }
      ]
    },
    {
      "cell_type": "code",
      "metadata": {
        "id": "7gBHjI_u14Ig"
      },
      "source": [
        ""
      ],
      "execution_count": null,
      "outputs": []
    }
  ]
}