{
  "nbformat": 4,
  "nbformat_minor": 0,
  "metadata": {
    "colab": {
      "name": "21421_9주차실습.ipynb",
      "provenance": [],
      "collapsed_sections": [],
      "authorship_tag": "ABX9TyM014U80dG60wIWe7YROwFb",
      "include_colab_link": true
    },
    "kernelspec": {
      "name": "python3",
      "display_name": "Python 3"
    },
    "language_info": {
      "name": "python"
    }
  },
  "cells": [
    {
      "cell_type": "markdown",
      "metadata": {
        "id": "view-in-github",
        "colab_type": "text"
      },
      "source": [
        "<a href=\"https://colab.research.google.com/github/bmt21421/bmt_python/blob/main/21421_9%EC%A3%BC%EC%B0%A8%EC%8B%A4%EC%8A%B5.ipynb\" target=\"_parent\"><img src=\"https://colab.research.google.com/assets/colab-badge.svg\" alt=\"Open In Colab\"/></a>"
      ]
    },
    {
      "cell_type": "code",
      "metadata": {
        "id": "fgXdr1LTdON8"
      },
      "source": [
        "import pandas as pd\n",
        "import numpy as np\n",
        "import matplotlib.pyplot as plt\n"
      ],
      "execution_count": 5,
      "outputs": []
    },
    {
      "cell_type": "code",
      "metadata": {
        "id": "Uu38iUH-foOl"
      },
      "source": [
        "s = pd.Series([1, 3, 5, np.nan, 6, 8])"
      ],
      "execution_count": 7,
      "outputs": []
    },
    {
      "cell_type": "code",
      "metadata": {
        "colab": {
          "base_uri": "https://localhost:8080/"
        },
        "id": "rKwpKs7pgIco",
        "outputId": "d6180aee-7993-4244-9ff4-ce1bd1971de6"
      },
      "source": [
        "s"
      ],
      "execution_count": 9,
      "outputs": [
        {
          "output_type": "execute_result",
          "data": {
            "text/plain": [
              "0    1.0\n",
              "1    3.0\n",
              "2    5.0\n",
              "3    NaN\n",
              "4    6.0\n",
              "5    8.0\n",
              "dtype: float64"
            ]
          },
          "metadata": {
            "tags": []
          },
          "execution_count": 9
        }
      ]
    },
    {
      "cell_type": "code",
      "metadata": {
        "colab": {
          "base_uri": "https://localhost:8080/"
        },
        "id": "EEklaCNJgo4n",
        "outputId": "8783f2aa-4a22-4744-d9be-08c0897c1593"
      },
      "source": [
        "type(s)"
      ],
      "execution_count": 10,
      "outputs": [
        {
          "output_type": "execute_result",
          "data": {
            "text/plain": [
              "pandas.core.series.Series"
            ]
          },
          "metadata": {
            "tags": []
          },
          "execution_count": 10
        }
      ]
    },
    {
      "cell_type": "code",
      "metadata": {
        "colab": {
          "base_uri": "https://localhost:8080/"
        },
        "id": "TqruvNJ5hEXW",
        "outputId": "5127566d-3608-4315-b757-25dcb2193be3"
      },
      "source": [
        "pd.date_range('20210430', periods=6)"
      ],
      "execution_count": 15,
      "outputs": [
        {
          "output_type": "execute_result",
          "data": {
            "text/plain": [
              "DatetimeIndex(['2021-04-30', '2021-05-01', '2021-05-02', '2021-05-03',\n",
              "               '2021-05-04', '2021-05-05'],\n",
              "              dtype='datetime64[ns]', freq='D')"
            ]
          },
          "metadata": {
            "tags": []
          },
          "execution_count": 15
        }
      ]
    },
    {
      "cell_type": "code",
      "metadata": {
        "id": "gd5xb4zwg6Sv"
      },
      "source": [
        "dates = pd.date_range('20210421', periods= 6)"
      ],
      "execution_count": 16,
      "outputs": []
    },
    {
      "cell_type": "code",
      "metadata": {
        "colab": {
          "base_uri": "https://localhost:8080/"
        },
        "id": "tVgBLjO3iFpm",
        "outputId": "1b75d5d6-b992-404c-a090-2ee02b5b317f"
      },
      "source": [
        "dates"
      ],
      "execution_count": 17,
      "outputs": [
        {
          "output_type": "execute_result",
          "data": {
            "text/plain": [
              "DatetimeIndex(['2021-04-21', '2021-04-22', '2021-04-23', '2021-04-24',\n",
              "               '2021-04-25', '2021-04-26'],\n",
              "              dtype='datetime64[ns]', freq='D')"
            ]
          },
          "metadata": {
            "tags": []
          },
          "execution_count": 17
        }
      ]
    },
    {
      "cell_type": "code",
      "metadata": {
        "id": "fxDKDPByiJhp"
      },
      "source": [
        "df =  pd.DataFrame(np.random.randn(6,4), index=dates, columns=list('ABCD'))"
      ],
      "execution_count": 18,
      "outputs": []
    },
    {
      "cell_type": "code",
      "metadata": {
        "colab": {
          "base_uri": "https://localhost:8080/",
          "height": 225
        },
        "id": "p-LH1OE_ieII",
        "outputId": "3d1e0d09-fd62-455c-ba13-52fe8a3cc116"
      },
      "source": [
        "df"
      ],
      "execution_count": 19,
      "outputs": [
        {
          "output_type": "execute_result",
          "data": {
            "text/html": [
              "<div>\n",
              "<style scoped>\n",
              "    .dataframe tbody tr th:only-of-type {\n",
              "        vertical-align: middle;\n",
              "    }\n",
              "\n",
              "    .dataframe tbody tr th {\n",
              "        vertical-align: top;\n",
              "    }\n",
              "\n",
              "    .dataframe thead th {\n",
              "        text-align: right;\n",
              "    }\n",
              "</style>\n",
              "<table border=\"1\" class=\"dataframe\">\n",
              "  <thead>\n",
              "    <tr style=\"text-align: right;\">\n",
              "      <th></th>\n",
              "      <th>A</th>\n",
              "      <th>B</th>\n",
              "      <th>C</th>\n",
              "      <th>D</th>\n",
              "    </tr>\n",
              "  </thead>\n",
              "  <tbody>\n",
              "    <tr>\n",
              "      <th>2021-04-21</th>\n",
              "      <td>-0.103685</td>\n",
              "      <td>-0.094582</td>\n",
              "      <td>1.003957</td>\n",
              "      <td>-1.851071</td>\n",
              "    </tr>\n",
              "    <tr>\n",
              "      <th>2021-04-22</th>\n",
              "      <td>-0.117007</td>\n",
              "      <td>-0.549108</td>\n",
              "      <td>-1.300640</td>\n",
              "      <td>1.515359</td>\n",
              "    </tr>\n",
              "    <tr>\n",
              "      <th>2021-04-23</th>\n",
              "      <td>1.316176</td>\n",
              "      <td>0.251692</td>\n",
              "      <td>-0.126839</td>\n",
              "      <td>-0.024707</td>\n",
              "    </tr>\n",
              "    <tr>\n",
              "      <th>2021-04-24</th>\n",
              "      <td>1.045235</td>\n",
              "      <td>0.166591</td>\n",
              "      <td>-0.449801</td>\n",
              "      <td>2.431257</td>\n",
              "    </tr>\n",
              "    <tr>\n",
              "      <th>2021-04-25</th>\n",
              "      <td>-0.052533</td>\n",
              "      <td>-2.585471</td>\n",
              "      <td>-0.392638</td>\n",
              "      <td>0.351720</td>\n",
              "    </tr>\n",
              "    <tr>\n",
              "      <th>2021-04-26</th>\n",
              "      <td>0.475896</td>\n",
              "      <td>0.824662</td>\n",
              "      <td>0.361384</td>\n",
              "      <td>0.000255</td>\n",
              "    </tr>\n",
              "  </tbody>\n",
              "</table>\n",
              "</div>"
            ],
            "text/plain": [
              "                   A         B         C         D\n",
              "2021-04-21 -0.103685 -0.094582  1.003957 -1.851071\n",
              "2021-04-22 -0.117007 -0.549108 -1.300640  1.515359\n",
              "2021-04-23  1.316176  0.251692 -0.126839 -0.024707\n",
              "2021-04-24  1.045235  0.166591 -0.449801  2.431257\n",
              "2021-04-25 -0.052533 -2.585471 -0.392638  0.351720\n",
              "2021-04-26  0.475896  0.824662  0.361384  0.000255"
            ]
          },
          "metadata": {
            "tags": []
          },
          "execution_count": 19
        }
      ]
    },
    {
      "cell_type": "code",
      "metadata": {
        "id": "7wCyqDxBifKF"
      },
      "source": [
        "df2 = pd.DataFrame(\n",
        "    {\n",
        "        'A':1.,\n",
        "        'B':pd.Timestamp('20210430'),\n",
        "        'C':pd.Series(1, index=list(range(4)), dtype='float32'),\n",
        "        'D':np.array([3]*4, dtype='int32'),\n",
        "        'E':pd.Categorical(['test','train','test','train']),\n",
        "        'F':'foo'\n",
        "    }\n",
        ")"
      ],
      "execution_count": 30,
      "outputs": []
    },
    {
      "cell_type": "code",
      "metadata": {
        "colab": {
          "base_uri": "https://localhost:8080/",
          "height": 166
        },
        "id": "jRe_zECrkwjB",
        "outputId": "59e79856-ae0d-42f6-fefb-b9bae6720c94"
      },
      "source": [
        "df2"
      ],
      "execution_count": 31,
      "outputs": [
        {
          "output_type": "execute_result",
          "data": {
            "text/html": [
              "<div>\n",
              "<style scoped>\n",
              "    .dataframe tbody tr th:only-of-type {\n",
              "        vertical-align: middle;\n",
              "    }\n",
              "\n",
              "    .dataframe tbody tr th {\n",
              "        vertical-align: top;\n",
              "    }\n",
              "\n",
              "    .dataframe thead th {\n",
              "        text-align: right;\n",
              "    }\n",
              "</style>\n",
              "<table border=\"1\" class=\"dataframe\">\n",
              "  <thead>\n",
              "    <tr style=\"text-align: right;\">\n",
              "      <th></th>\n",
              "      <th>A</th>\n",
              "      <th>B</th>\n",
              "      <th>C</th>\n",
              "      <th>D</th>\n",
              "      <th>E</th>\n",
              "      <th>F</th>\n",
              "    </tr>\n",
              "  </thead>\n",
              "  <tbody>\n",
              "    <tr>\n",
              "      <th>0</th>\n",
              "      <td>1.0</td>\n",
              "      <td>2021-04-30</td>\n",
              "      <td>1.0</td>\n",
              "      <td>3</td>\n",
              "      <td>test</td>\n",
              "      <td>foo</td>\n",
              "    </tr>\n",
              "    <tr>\n",
              "      <th>1</th>\n",
              "      <td>1.0</td>\n",
              "      <td>2021-04-30</td>\n",
              "      <td>1.0</td>\n",
              "      <td>3</td>\n",
              "      <td>train</td>\n",
              "      <td>foo</td>\n",
              "    </tr>\n",
              "    <tr>\n",
              "      <th>2</th>\n",
              "      <td>1.0</td>\n",
              "      <td>2021-04-30</td>\n",
              "      <td>1.0</td>\n",
              "      <td>3</td>\n",
              "      <td>test</td>\n",
              "      <td>foo</td>\n",
              "    </tr>\n",
              "    <tr>\n",
              "      <th>3</th>\n",
              "      <td>1.0</td>\n",
              "      <td>2021-04-30</td>\n",
              "      <td>1.0</td>\n",
              "      <td>3</td>\n",
              "      <td>train</td>\n",
              "      <td>foo</td>\n",
              "    </tr>\n",
              "  </tbody>\n",
              "</table>\n",
              "</div>"
            ],
            "text/plain": [
              "     A          B    C  D      E    F\n",
              "0  1.0 2021-04-30  1.0  3   test  foo\n",
              "1  1.0 2021-04-30  1.0  3  train  foo\n",
              "2  1.0 2021-04-30  1.0  3   test  foo\n",
              "3  1.0 2021-04-30  1.0  3  train  foo"
            ]
          },
          "metadata": {
            "tags": []
          },
          "execution_count": 31
        }
      ]
    },
    {
      "cell_type": "code",
      "metadata": {
        "colab": {
          "base_uri": "https://localhost:8080/"
        },
        "id": "c6ohAWZjkx82",
        "outputId": "41ac6cf9-0fa4-470f-9c60-bca8fd92d6df"
      },
      "source": [
        "type(df2)"
      ],
      "execution_count": 32,
      "outputs": [
        {
          "output_type": "execute_result",
          "data": {
            "text/plain": [
              "pandas.core.frame.DataFrame"
            ]
          },
          "metadata": {
            "tags": []
          },
          "execution_count": 32
        }
      ]
    },
    {
      "cell_type": "code",
      "metadata": {
        "colab": {
          "base_uri": "https://localhost:8080/"
        },
        "id": "hxN2po2hlExP",
        "outputId": "adf23fdf-0b12-4bea-a841-023ba362ee03"
      },
      "source": [
        "df2.dtypes"
      ],
      "execution_count": 33,
      "outputs": [
        {
          "output_type": "execute_result",
          "data": {
            "text/plain": [
              "A           float64\n",
              "B    datetime64[ns]\n",
              "C           float32\n",
              "D             int32\n",
              "E          category\n",
              "F            object\n",
              "dtype: object"
            ]
          },
          "metadata": {
            "tags": []
          },
          "execution_count": 33
        }
      ]
    },
    {
      "cell_type": "code",
      "metadata": {
        "colab": {
          "base_uri": "https://localhost:8080/"
        },
        "id": "NoncTEkFlLLR",
        "outputId": "aef8679a-2cb8-42c3-b1c2-9719a082e7fc"
      },
      "source": [
        "dates"
      ],
      "execution_count": 34,
      "outputs": [
        {
          "output_type": "execute_result",
          "data": {
            "text/plain": [
              "DatetimeIndex(['2021-04-21', '2021-04-22', '2021-04-23', '2021-04-24',\n",
              "               '2021-04-25', '2021-04-26'],\n",
              "              dtype='datetime64[ns]', freq='D')"
            ]
          },
          "metadata": {
            "tags": []
          },
          "execution_count": 34
        }
      ]
    },
    {
      "cell_type": "code",
      "metadata": {
        "colab": {
          "base_uri": "https://localhost:8080/",
          "height": 225
        },
        "id": "ch-fpqtGlr5S",
        "outputId": "58ab77c7-9621-4108-a387-12cef637cbe6"
      },
      "source": [
        "df"
      ],
      "execution_count": 35,
      "outputs": [
        {
          "output_type": "execute_result",
          "data": {
            "text/html": [
              "<div>\n",
              "<style scoped>\n",
              "    .dataframe tbody tr th:only-of-type {\n",
              "        vertical-align: middle;\n",
              "    }\n",
              "\n",
              "    .dataframe tbody tr th {\n",
              "        vertical-align: top;\n",
              "    }\n",
              "\n",
              "    .dataframe thead th {\n",
              "        text-align: right;\n",
              "    }\n",
              "</style>\n",
              "<table border=\"1\" class=\"dataframe\">\n",
              "  <thead>\n",
              "    <tr style=\"text-align: right;\">\n",
              "      <th></th>\n",
              "      <th>A</th>\n",
              "      <th>B</th>\n",
              "      <th>C</th>\n",
              "      <th>D</th>\n",
              "    </tr>\n",
              "  </thead>\n",
              "  <tbody>\n",
              "    <tr>\n",
              "      <th>2021-04-21</th>\n",
              "      <td>-0.103685</td>\n",
              "      <td>-0.094582</td>\n",
              "      <td>1.003957</td>\n",
              "      <td>-1.851071</td>\n",
              "    </tr>\n",
              "    <tr>\n",
              "      <th>2021-04-22</th>\n",
              "      <td>-0.117007</td>\n",
              "      <td>-0.549108</td>\n",
              "      <td>-1.300640</td>\n",
              "      <td>1.515359</td>\n",
              "    </tr>\n",
              "    <tr>\n",
              "      <th>2021-04-23</th>\n",
              "      <td>1.316176</td>\n",
              "      <td>0.251692</td>\n",
              "      <td>-0.126839</td>\n",
              "      <td>-0.024707</td>\n",
              "    </tr>\n",
              "    <tr>\n",
              "      <th>2021-04-24</th>\n",
              "      <td>1.045235</td>\n",
              "      <td>0.166591</td>\n",
              "      <td>-0.449801</td>\n",
              "      <td>2.431257</td>\n",
              "    </tr>\n",
              "    <tr>\n",
              "      <th>2021-04-25</th>\n",
              "      <td>-0.052533</td>\n",
              "      <td>-2.585471</td>\n",
              "      <td>-0.392638</td>\n",
              "      <td>0.351720</td>\n",
              "    </tr>\n",
              "    <tr>\n",
              "      <th>2021-04-26</th>\n",
              "      <td>0.475896</td>\n",
              "      <td>0.824662</td>\n",
              "      <td>0.361384</td>\n",
              "      <td>0.000255</td>\n",
              "    </tr>\n",
              "  </tbody>\n",
              "</table>\n",
              "</div>"
            ],
            "text/plain": [
              "                   A         B         C         D\n",
              "2021-04-21 -0.103685 -0.094582  1.003957 -1.851071\n",
              "2021-04-22 -0.117007 -0.549108 -1.300640  1.515359\n",
              "2021-04-23  1.316176  0.251692 -0.126839 -0.024707\n",
              "2021-04-24  1.045235  0.166591 -0.449801  2.431257\n",
              "2021-04-25 -0.052533 -2.585471 -0.392638  0.351720\n",
              "2021-04-26  0.475896  0.824662  0.361384  0.000255"
            ]
          },
          "metadata": {
            "tags": []
          },
          "execution_count": 35
        }
      ]
    },
    {
      "cell_type": "code",
      "metadata": {
        "colab": {
          "base_uri": "https://localhost:8080/",
          "height": 136
        },
        "id": "aIkujbbelsmc",
        "outputId": "9bad52bb-90ec-4e3c-a7ee-07b9553af71e"
      },
      "source": [
        "df.head(3)"
      ],
      "execution_count": 38,
      "outputs": [
        {
          "output_type": "execute_result",
          "data": {
            "text/html": [
              "<div>\n",
              "<style scoped>\n",
              "    .dataframe tbody tr th:only-of-type {\n",
              "        vertical-align: middle;\n",
              "    }\n",
              "\n",
              "    .dataframe tbody tr th {\n",
              "        vertical-align: top;\n",
              "    }\n",
              "\n",
              "    .dataframe thead th {\n",
              "        text-align: right;\n",
              "    }\n",
              "</style>\n",
              "<table border=\"1\" class=\"dataframe\">\n",
              "  <thead>\n",
              "    <tr style=\"text-align: right;\">\n",
              "      <th></th>\n",
              "      <th>A</th>\n",
              "      <th>B</th>\n",
              "      <th>C</th>\n",
              "      <th>D</th>\n",
              "    </tr>\n",
              "  </thead>\n",
              "  <tbody>\n",
              "    <tr>\n",
              "      <th>2021-04-21</th>\n",
              "      <td>-0.103685</td>\n",
              "      <td>-0.094582</td>\n",
              "      <td>1.003957</td>\n",
              "      <td>-1.851071</td>\n",
              "    </tr>\n",
              "    <tr>\n",
              "      <th>2021-04-22</th>\n",
              "      <td>-0.117007</td>\n",
              "      <td>-0.549108</td>\n",
              "      <td>-1.300640</td>\n",
              "      <td>1.515359</td>\n",
              "    </tr>\n",
              "    <tr>\n",
              "      <th>2021-04-23</th>\n",
              "      <td>1.316176</td>\n",
              "      <td>0.251692</td>\n",
              "      <td>-0.126839</td>\n",
              "      <td>-0.024707</td>\n",
              "    </tr>\n",
              "  </tbody>\n",
              "</table>\n",
              "</div>"
            ],
            "text/plain": [
              "                   A         B         C         D\n",
              "2021-04-21 -0.103685 -0.094582  1.003957 -1.851071\n",
              "2021-04-22 -0.117007 -0.549108 -1.300640  1.515359\n",
              "2021-04-23  1.316176  0.251692 -0.126839 -0.024707"
            ]
          },
          "metadata": {
            "tags": []
          },
          "execution_count": 38
        }
      ]
    },
    {
      "cell_type": "code",
      "metadata": {
        "colab": {
          "base_uri": "https://localhost:8080/",
          "height": 106
        },
        "id": "keJXuq97lwjM",
        "outputId": "365567f4-05ae-4789-b1ab-cb1c8bffc934"
      },
      "source": [
        "df.tail(2)"
      ],
      "execution_count": 40,
      "outputs": [
        {
          "output_type": "execute_result",
          "data": {
            "text/html": [
              "<div>\n",
              "<style scoped>\n",
              "    .dataframe tbody tr th:only-of-type {\n",
              "        vertical-align: middle;\n",
              "    }\n",
              "\n",
              "    .dataframe tbody tr th {\n",
              "        vertical-align: top;\n",
              "    }\n",
              "\n",
              "    .dataframe thead th {\n",
              "        text-align: right;\n",
              "    }\n",
              "</style>\n",
              "<table border=\"1\" class=\"dataframe\">\n",
              "  <thead>\n",
              "    <tr style=\"text-align: right;\">\n",
              "      <th></th>\n",
              "      <th>A</th>\n",
              "      <th>B</th>\n",
              "      <th>C</th>\n",
              "      <th>D</th>\n",
              "    </tr>\n",
              "  </thead>\n",
              "  <tbody>\n",
              "    <tr>\n",
              "      <th>2021-04-25</th>\n",
              "      <td>-0.052533</td>\n",
              "      <td>-2.585471</td>\n",
              "      <td>-0.392638</td>\n",
              "      <td>0.351720</td>\n",
              "    </tr>\n",
              "    <tr>\n",
              "      <th>2021-04-26</th>\n",
              "      <td>0.475896</td>\n",
              "      <td>0.824662</td>\n",
              "      <td>0.361384</td>\n",
              "      <td>0.000255</td>\n",
              "    </tr>\n",
              "  </tbody>\n",
              "</table>\n",
              "</div>"
            ],
            "text/plain": [
              "                   A         B         C         D\n",
              "2021-04-25 -0.052533 -2.585471 -0.392638  0.351720\n",
              "2021-04-26  0.475896  0.824662  0.361384  0.000255"
            ]
          },
          "metadata": {
            "tags": []
          },
          "execution_count": 40
        }
      ]
    },
    {
      "cell_type": "code",
      "metadata": {
        "colab": {
          "base_uri": "https://localhost:8080/",
          "height": 225
        },
        "id": "Vb0RXkLGmCM1",
        "outputId": "2ee33c46-2b3a-49b6-f127-8bf9dcf0a78d"
      },
      "source": [
        "df"
      ],
      "execution_count": 41,
      "outputs": [
        {
          "output_type": "execute_result",
          "data": {
            "text/html": [
              "<div>\n",
              "<style scoped>\n",
              "    .dataframe tbody tr th:only-of-type {\n",
              "        vertical-align: middle;\n",
              "    }\n",
              "\n",
              "    .dataframe tbody tr th {\n",
              "        vertical-align: top;\n",
              "    }\n",
              "\n",
              "    .dataframe thead th {\n",
              "        text-align: right;\n",
              "    }\n",
              "</style>\n",
              "<table border=\"1\" class=\"dataframe\">\n",
              "  <thead>\n",
              "    <tr style=\"text-align: right;\">\n",
              "      <th></th>\n",
              "      <th>A</th>\n",
              "      <th>B</th>\n",
              "      <th>C</th>\n",
              "      <th>D</th>\n",
              "    </tr>\n",
              "  </thead>\n",
              "  <tbody>\n",
              "    <tr>\n",
              "      <th>2021-04-21</th>\n",
              "      <td>-0.103685</td>\n",
              "      <td>-0.094582</td>\n",
              "      <td>1.003957</td>\n",
              "      <td>-1.851071</td>\n",
              "    </tr>\n",
              "    <tr>\n",
              "      <th>2021-04-22</th>\n",
              "      <td>-0.117007</td>\n",
              "      <td>-0.549108</td>\n",
              "      <td>-1.300640</td>\n",
              "      <td>1.515359</td>\n",
              "    </tr>\n",
              "    <tr>\n",
              "      <th>2021-04-23</th>\n",
              "      <td>1.316176</td>\n",
              "      <td>0.251692</td>\n",
              "      <td>-0.126839</td>\n",
              "      <td>-0.024707</td>\n",
              "    </tr>\n",
              "    <tr>\n",
              "      <th>2021-04-24</th>\n",
              "      <td>1.045235</td>\n",
              "      <td>0.166591</td>\n",
              "      <td>-0.449801</td>\n",
              "      <td>2.431257</td>\n",
              "    </tr>\n",
              "    <tr>\n",
              "      <th>2021-04-25</th>\n",
              "      <td>-0.052533</td>\n",
              "      <td>-2.585471</td>\n",
              "      <td>-0.392638</td>\n",
              "      <td>0.351720</td>\n",
              "    </tr>\n",
              "    <tr>\n",
              "      <th>2021-04-26</th>\n",
              "      <td>0.475896</td>\n",
              "      <td>0.824662</td>\n",
              "      <td>0.361384</td>\n",
              "      <td>0.000255</td>\n",
              "    </tr>\n",
              "  </tbody>\n",
              "</table>\n",
              "</div>"
            ],
            "text/plain": [
              "                   A         B         C         D\n",
              "2021-04-21 -0.103685 -0.094582  1.003957 -1.851071\n",
              "2021-04-22 -0.117007 -0.549108 -1.300640  1.515359\n",
              "2021-04-23  1.316176  0.251692 -0.126839 -0.024707\n",
              "2021-04-24  1.045235  0.166591 -0.449801  2.431257\n",
              "2021-04-25 -0.052533 -2.585471 -0.392638  0.351720\n",
              "2021-04-26  0.475896  0.824662  0.361384  0.000255"
            ]
          },
          "metadata": {
            "tags": []
          },
          "execution_count": 41
        }
      ]
    },
    {
      "cell_type": "code",
      "metadata": {
        "colab": {
          "base_uri": "https://localhost:8080/"
        },
        "id": "RhvbM4E0meoi",
        "outputId": "dc6d7736-5b21-416c-b84f-9ccc244aca85"
      },
      "source": [
        "df.index"
      ],
      "execution_count": 42,
      "outputs": [
        {
          "output_type": "execute_result",
          "data": {
            "text/plain": [
              "DatetimeIndex(['2021-04-21', '2021-04-22', '2021-04-23', '2021-04-24',\n",
              "               '2021-04-25', '2021-04-26'],\n",
              "              dtype='datetime64[ns]', freq='D')"
            ]
          },
          "metadata": {
            "tags": []
          },
          "execution_count": 42
        }
      ]
    },
    {
      "cell_type": "code",
      "metadata": {
        "colab": {
          "base_uri": "https://localhost:8080/"
        },
        "id": "y2jusIN7miAA",
        "outputId": "22516baa-8e04-4167-e712-53cfa712ccd0"
      },
      "source": [
        "df.columns"
      ],
      "execution_count": 43,
      "outputs": [
        {
          "output_type": "execute_result",
          "data": {
            "text/plain": [
              "Index(['A', 'B', 'C', 'D'], dtype='object')"
            ]
          },
          "metadata": {
            "tags": []
          },
          "execution_count": 43
        }
      ]
    },
    {
      "cell_type": "code",
      "metadata": {
        "colab": {
          "base_uri": "https://localhost:8080/"
        },
        "id": "MhqGtTHImlou",
        "outputId": "210fccaa-9461-4709-a1e2-c337690431b1"
      },
      "source": [
        "df.values"
      ],
      "execution_count": 44,
      "outputs": [
        {
          "output_type": "execute_result",
          "data": {
            "text/plain": [
              "array([[-1.03684745e-01, -9.45815839e-02,  1.00395684e+00,\n",
              "        -1.85107106e+00],\n",
              "       [-1.17006789e-01, -5.49107661e-01, -1.30063957e+00,\n",
              "         1.51535868e+00],\n",
              "       [ 1.31617568e+00,  2.51691766e-01, -1.26839332e-01,\n",
              "        -2.47069133e-02],\n",
              "       [ 1.04523490e+00,  1.66591440e-01, -4.49800729e-01,\n",
              "         2.43125712e+00],\n",
              "       [-5.25325023e-02, -2.58547091e+00, -3.92638035e-01,\n",
              "         3.51720157e-01],\n",
              "       [ 4.75895822e-01,  8.24661854e-01,  3.61383831e-01,\n",
              "         2.55232466e-04]])"
            ]
          },
          "metadata": {
            "tags": []
          },
          "execution_count": 44
        }
      ]
    },
    {
      "cell_type": "code",
      "metadata": {
        "colab": {
          "base_uri": "https://localhost:8080/",
          "height": 225
        },
        "id": "bYtBdoyjmor7",
        "outputId": "6217d91a-6221-47ab-9601-1770a2e71f0a"
      },
      "source": [
        "df"
      ],
      "execution_count": 45,
      "outputs": [
        {
          "output_type": "execute_result",
          "data": {
            "text/html": [
              "<div>\n",
              "<style scoped>\n",
              "    .dataframe tbody tr th:only-of-type {\n",
              "        vertical-align: middle;\n",
              "    }\n",
              "\n",
              "    .dataframe tbody tr th {\n",
              "        vertical-align: top;\n",
              "    }\n",
              "\n",
              "    .dataframe thead th {\n",
              "        text-align: right;\n",
              "    }\n",
              "</style>\n",
              "<table border=\"1\" class=\"dataframe\">\n",
              "  <thead>\n",
              "    <tr style=\"text-align: right;\">\n",
              "      <th></th>\n",
              "      <th>A</th>\n",
              "      <th>B</th>\n",
              "      <th>C</th>\n",
              "      <th>D</th>\n",
              "    </tr>\n",
              "  </thead>\n",
              "  <tbody>\n",
              "    <tr>\n",
              "      <th>2021-04-21</th>\n",
              "      <td>-0.103685</td>\n",
              "      <td>-0.094582</td>\n",
              "      <td>1.003957</td>\n",
              "      <td>-1.851071</td>\n",
              "    </tr>\n",
              "    <tr>\n",
              "      <th>2021-04-22</th>\n",
              "      <td>-0.117007</td>\n",
              "      <td>-0.549108</td>\n",
              "      <td>-1.300640</td>\n",
              "      <td>1.515359</td>\n",
              "    </tr>\n",
              "    <tr>\n",
              "      <th>2021-04-23</th>\n",
              "      <td>1.316176</td>\n",
              "      <td>0.251692</td>\n",
              "      <td>-0.126839</td>\n",
              "      <td>-0.024707</td>\n",
              "    </tr>\n",
              "    <tr>\n",
              "      <th>2021-04-24</th>\n",
              "      <td>1.045235</td>\n",
              "      <td>0.166591</td>\n",
              "      <td>-0.449801</td>\n",
              "      <td>2.431257</td>\n",
              "    </tr>\n",
              "    <tr>\n",
              "      <th>2021-04-25</th>\n",
              "      <td>-0.052533</td>\n",
              "      <td>-2.585471</td>\n",
              "      <td>-0.392638</td>\n",
              "      <td>0.351720</td>\n",
              "    </tr>\n",
              "    <tr>\n",
              "      <th>2021-04-26</th>\n",
              "      <td>0.475896</td>\n",
              "      <td>0.824662</td>\n",
              "      <td>0.361384</td>\n",
              "      <td>0.000255</td>\n",
              "    </tr>\n",
              "  </tbody>\n",
              "</table>\n",
              "</div>"
            ],
            "text/plain": [
              "                   A         B         C         D\n",
              "2021-04-21 -0.103685 -0.094582  1.003957 -1.851071\n",
              "2021-04-22 -0.117007 -0.549108 -1.300640  1.515359\n",
              "2021-04-23  1.316176  0.251692 -0.126839 -0.024707\n",
              "2021-04-24  1.045235  0.166591 -0.449801  2.431257\n",
              "2021-04-25 -0.052533 -2.585471 -0.392638  0.351720\n",
              "2021-04-26  0.475896  0.824662  0.361384  0.000255"
            ]
          },
          "metadata": {
            "tags": []
          },
          "execution_count": 45
        }
      ]
    },
    {
      "cell_type": "code",
      "metadata": {
        "colab": {
          "base_uri": "https://localhost:8080/",
          "height": 166
        },
        "id": "lv1iopwbmvRa",
        "outputId": "cb370218-ef2f-4191-b3bd-fa8e6b6c6ef4"
      },
      "source": [
        "df.T"
      ],
      "execution_count": 46,
      "outputs": [
        {
          "output_type": "execute_result",
          "data": {
            "text/html": [
              "<div>\n",
              "<style scoped>\n",
              "    .dataframe tbody tr th:only-of-type {\n",
              "        vertical-align: middle;\n",
              "    }\n",
              "\n",
              "    .dataframe tbody tr th {\n",
              "        vertical-align: top;\n",
              "    }\n",
              "\n",
              "    .dataframe thead th {\n",
              "        text-align: right;\n",
              "    }\n",
              "</style>\n",
              "<table border=\"1\" class=\"dataframe\">\n",
              "  <thead>\n",
              "    <tr style=\"text-align: right;\">\n",
              "      <th></th>\n",
              "      <th>2021-04-21</th>\n",
              "      <th>2021-04-22</th>\n",
              "      <th>2021-04-23</th>\n",
              "      <th>2021-04-24</th>\n",
              "      <th>2021-04-25</th>\n",
              "      <th>2021-04-26</th>\n",
              "    </tr>\n",
              "  </thead>\n",
              "  <tbody>\n",
              "    <tr>\n",
              "      <th>A</th>\n",
              "      <td>-0.103685</td>\n",
              "      <td>-0.117007</td>\n",
              "      <td>1.316176</td>\n",
              "      <td>1.045235</td>\n",
              "      <td>-0.052533</td>\n",
              "      <td>0.475896</td>\n",
              "    </tr>\n",
              "    <tr>\n",
              "      <th>B</th>\n",
              "      <td>-0.094582</td>\n",
              "      <td>-0.549108</td>\n",
              "      <td>0.251692</td>\n",
              "      <td>0.166591</td>\n",
              "      <td>-2.585471</td>\n",
              "      <td>0.824662</td>\n",
              "    </tr>\n",
              "    <tr>\n",
              "      <th>C</th>\n",
              "      <td>1.003957</td>\n",
              "      <td>-1.300640</td>\n",
              "      <td>-0.126839</td>\n",
              "      <td>-0.449801</td>\n",
              "      <td>-0.392638</td>\n",
              "      <td>0.361384</td>\n",
              "    </tr>\n",
              "    <tr>\n",
              "      <th>D</th>\n",
              "      <td>-1.851071</td>\n",
              "      <td>1.515359</td>\n",
              "      <td>-0.024707</td>\n",
              "      <td>2.431257</td>\n",
              "      <td>0.351720</td>\n",
              "      <td>0.000255</td>\n",
              "    </tr>\n",
              "  </tbody>\n",
              "</table>\n",
              "</div>"
            ],
            "text/plain": [
              "   2021-04-21  2021-04-22  2021-04-23  2021-04-24  2021-04-25  2021-04-26\n",
              "A   -0.103685   -0.117007    1.316176    1.045235   -0.052533    0.475896\n",
              "B   -0.094582   -0.549108    0.251692    0.166591   -2.585471    0.824662\n",
              "C    1.003957   -1.300640   -0.126839   -0.449801   -0.392638    0.361384\n",
              "D   -1.851071    1.515359   -0.024707    2.431257    0.351720    0.000255"
            ]
          },
          "metadata": {
            "tags": []
          },
          "execution_count": 46
        }
      ]
    },
    {
      "cell_type": "code",
      "metadata": {
        "colab": {
          "base_uri": "https://localhost:8080/",
          "height": 225
        },
        "id": "4RivaXM-m2b0",
        "outputId": "b0518c2f-d2f1-4fda-db42-6477320f602c"
      },
      "source": [
        "df"
      ],
      "execution_count": 47,
      "outputs": [
        {
          "output_type": "execute_result",
          "data": {
            "text/html": [
              "<div>\n",
              "<style scoped>\n",
              "    .dataframe tbody tr th:only-of-type {\n",
              "        vertical-align: middle;\n",
              "    }\n",
              "\n",
              "    .dataframe tbody tr th {\n",
              "        vertical-align: top;\n",
              "    }\n",
              "\n",
              "    .dataframe thead th {\n",
              "        text-align: right;\n",
              "    }\n",
              "</style>\n",
              "<table border=\"1\" class=\"dataframe\">\n",
              "  <thead>\n",
              "    <tr style=\"text-align: right;\">\n",
              "      <th></th>\n",
              "      <th>A</th>\n",
              "      <th>B</th>\n",
              "      <th>C</th>\n",
              "      <th>D</th>\n",
              "    </tr>\n",
              "  </thead>\n",
              "  <tbody>\n",
              "    <tr>\n",
              "      <th>2021-04-21</th>\n",
              "      <td>-0.103685</td>\n",
              "      <td>-0.094582</td>\n",
              "      <td>1.003957</td>\n",
              "      <td>-1.851071</td>\n",
              "    </tr>\n",
              "    <tr>\n",
              "      <th>2021-04-22</th>\n",
              "      <td>-0.117007</td>\n",
              "      <td>-0.549108</td>\n",
              "      <td>-1.300640</td>\n",
              "      <td>1.515359</td>\n",
              "    </tr>\n",
              "    <tr>\n",
              "      <th>2021-04-23</th>\n",
              "      <td>1.316176</td>\n",
              "      <td>0.251692</td>\n",
              "      <td>-0.126839</td>\n",
              "      <td>-0.024707</td>\n",
              "    </tr>\n",
              "    <tr>\n",
              "      <th>2021-04-24</th>\n",
              "      <td>1.045235</td>\n",
              "      <td>0.166591</td>\n",
              "      <td>-0.449801</td>\n",
              "      <td>2.431257</td>\n",
              "    </tr>\n",
              "    <tr>\n",
              "      <th>2021-04-25</th>\n",
              "      <td>-0.052533</td>\n",
              "      <td>-2.585471</td>\n",
              "      <td>-0.392638</td>\n",
              "      <td>0.351720</td>\n",
              "    </tr>\n",
              "    <tr>\n",
              "      <th>2021-04-26</th>\n",
              "      <td>0.475896</td>\n",
              "      <td>0.824662</td>\n",
              "      <td>0.361384</td>\n",
              "      <td>0.000255</td>\n",
              "    </tr>\n",
              "  </tbody>\n",
              "</table>\n",
              "</div>"
            ],
            "text/plain": [
              "                   A         B         C         D\n",
              "2021-04-21 -0.103685 -0.094582  1.003957 -1.851071\n",
              "2021-04-22 -0.117007 -0.549108 -1.300640  1.515359\n",
              "2021-04-23  1.316176  0.251692 -0.126839 -0.024707\n",
              "2021-04-24  1.045235  0.166591 -0.449801  2.431257\n",
              "2021-04-25 -0.052533 -2.585471 -0.392638  0.351720\n",
              "2021-04-26  0.475896  0.824662  0.361384  0.000255"
            ]
          },
          "metadata": {
            "tags": []
          },
          "execution_count": 47
        }
      ]
    },
    {
      "cell_type": "code",
      "metadata": {
        "colab": {
          "base_uri": "https://localhost:8080/",
          "height": 225
        },
        "id": "wliqNkIbozHU",
        "outputId": "8a123604-85e8-40c5-a8dc-727fb05267b2"
      },
      "source": [
        "df.sort_index(axis=0, ascending=True)"
      ],
      "execution_count": 48,
      "outputs": [
        {
          "output_type": "execute_result",
          "data": {
            "text/html": [
              "<div>\n",
              "<style scoped>\n",
              "    .dataframe tbody tr th:only-of-type {\n",
              "        vertical-align: middle;\n",
              "    }\n",
              "\n",
              "    .dataframe tbody tr th {\n",
              "        vertical-align: top;\n",
              "    }\n",
              "\n",
              "    .dataframe thead th {\n",
              "        text-align: right;\n",
              "    }\n",
              "</style>\n",
              "<table border=\"1\" class=\"dataframe\">\n",
              "  <thead>\n",
              "    <tr style=\"text-align: right;\">\n",
              "      <th></th>\n",
              "      <th>A</th>\n",
              "      <th>B</th>\n",
              "      <th>C</th>\n",
              "      <th>D</th>\n",
              "    </tr>\n",
              "  </thead>\n",
              "  <tbody>\n",
              "    <tr>\n",
              "      <th>2021-04-21</th>\n",
              "      <td>-0.103685</td>\n",
              "      <td>-0.094582</td>\n",
              "      <td>1.003957</td>\n",
              "      <td>-1.851071</td>\n",
              "    </tr>\n",
              "    <tr>\n",
              "      <th>2021-04-22</th>\n",
              "      <td>-0.117007</td>\n",
              "      <td>-0.549108</td>\n",
              "      <td>-1.300640</td>\n",
              "      <td>1.515359</td>\n",
              "    </tr>\n",
              "    <tr>\n",
              "      <th>2021-04-23</th>\n",
              "      <td>1.316176</td>\n",
              "      <td>0.251692</td>\n",
              "      <td>-0.126839</td>\n",
              "      <td>-0.024707</td>\n",
              "    </tr>\n",
              "    <tr>\n",
              "      <th>2021-04-24</th>\n",
              "      <td>1.045235</td>\n",
              "      <td>0.166591</td>\n",
              "      <td>-0.449801</td>\n",
              "      <td>2.431257</td>\n",
              "    </tr>\n",
              "    <tr>\n",
              "      <th>2021-04-25</th>\n",
              "      <td>-0.052533</td>\n",
              "      <td>-2.585471</td>\n",
              "      <td>-0.392638</td>\n",
              "      <td>0.351720</td>\n",
              "    </tr>\n",
              "    <tr>\n",
              "      <th>2021-04-26</th>\n",
              "      <td>0.475896</td>\n",
              "      <td>0.824662</td>\n",
              "      <td>0.361384</td>\n",
              "      <td>0.000255</td>\n",
              "    </tr>\n",
              "  </tbody>\n",
              "</table>\n",
              "</div>"
            ],
            "text/plain": [
              "                   A         B         C         D\n",
              "2021-04-21 -0.103685 -0.094582  1.003957 -1.851071\n",
              "2021-04-22 -0.117007 -0.549108 -1.300640  1.515359\n",
              "2021-04-23  1.316176  0.251692 -0.126839 -0.024707\n",
              "2021-04-24  1.045235  0.166591 -0.449801  2.431257\n",
              "2021-04-25 -0.052533 -2.585471 -0.392638  0.351720\n",
              "2021-04-26  0.475896  0.824662  0.361384  0.000255"
            ]
          },
          "metadata": {
            "tags": []
          },
          "execution_count": 48
        }
      ]
    },
    {
      "cell_type": "code",
      "metadata": {
        "colab": {
          "base_uri": "https://localhost:8080/",
          "height": 225
        },
        "id": "f0PsoJmDpQ9o",
        "outputId": "1483cb68-d0c6-4838-81b5-68916c80ec04"
      },
      "source": [
        "df.sort_index(axis=0, ascending=False)"
      ],
      "execution_count": 49,
      "outputs": [
        {
          "output_type": "execute_result",
          "data": {
            "text/html": [
              "<div>\n",
              "<style scoped>\n",
              "    .dataframe tbody tr th:only-of-type {\n",
              "        vertical-align: middle;\n",
              "    }\n",
              "\n",
              "    .dataframe tbody tr th {\n",
              "        vertical-align: top;\n",
              "    }\n",
              "\n",
              "    .dataframe thead th {\n",
              "        text-align: right;\n",
              "    }\n",
              "</style>\n",
              "<table border=\"1\" class=\"dataframe\">\n",
              "  <thead>\n",
              "    <tr style=\"text-align: right;\">\n",
              "      <th></th>\n",
              "      <th>A</th>\n",
              "      <th>B</th>\n",
              "      <th>C</th>\n",
              "      <th>D</th>\n",
              "    </tr>\n",
              "  </thead>\n",
              "  <tbody>\n",
              "    <tr>\n",
              "      <th>2021-04-26</th>\n",
              "      <td>0.475896</td>\n",
              "      <td>0.824662</td>\n",
              "      <td>0.361384</td>\n",
              "      <td>0.000255</td>\n",
              "    </tr>\n",
              "    <tr>\n",
              "      <th>2021-04-25</th>\n",
              "      <td>-0.052533</td>\n",
              "      <td>-2.585471</td>\n",
              "      <td>-0.392638</td>\n",
              "      <td>0.351720</td>\n",
              "    </tr>\n",
              "    <tr>\n",
              "      <th>2021-04-24</th>\n",
              "      <td>1.045235</td>\n",
              "      <td>0.166591</td>\n",
              "      <td>-0.449801</td>\n",
              "      <td>2.431257</td>\n",
              "    </tr>\n",
              "    <tr>\n",
              "      <th>2021-04-23</th>\n",
              "      <td>1.316176</td>\n",
              "      <td>0.251692</td>\n",
              "      <td>-0.126839</td>\n",
              "      <td>-0.024707</td>\n",
              "    </tr>\n",
              "    <tr>\n",
              "      <th>2021-04-22</th>\n",
              "      <td>-0.117007</td>\n",
              "      <td>-0.549108</td>\n",
              "      <td>-1.300640</td>\n",
              "      <td>1.515359</td>\n",
              "    </tr>\n",
              "    <tr>\n",
              "      <th>2021-04-21</th>\n",
              "      <td>-0.103685</td>\n",
              "      <td>-0.094582</td>\n",
              "      <td>1.003957</td>\n",
              "      <td>-1.851071</td>\n",
              "    </tr>\n",
              "  </tbody>\n",
              "</table>\n",
              "</div>"
            ],
            "text/plain": [
              "                   A         B         C         D\n",
              "2021-04-26  0.475896  0.824662  0.361384  0.000255\n",
              "2021-04-25 -0.052533 -2.585471 -0.392638  0.351720\n",
              "2021-04-24  1.045235  0.166591 -0.449801  2.431257\n",
              "2021-04-23  1.316176  0.251692 -0.126839 -0.024707\n",
              "2021-04-22 -0.117007 -0.549108 -1.300640  1.515359\n",
              "2021-04-21 -0.103685 -0.094582  1.003957 -1.851071"
            ]
          },
          "metadata": {
            "tags": []
          },
          "execution_count": 49
        }
      ]
    },
    {
      "cell_type": "code",
      "metadata": {
        "colab": {
          "base_uri": "https://localhost:8080/",
          "height": 225
        },
        "id": "vhqUWPWspmEv",
        "outputId": "70a50295-3808-4693-b3c3-7aeef09ec110"
      },
      "source": [
        "df.sort_index(axis=1, ascending=True)"
      ],
      "execution_count": 50,
      "outputs": [
        {
          "output_type": "execute_result",
          "data": {
            "text/html": [
              "<div>\n",
              "<style scoped>\n",
              "    .dataframe tbody tr th:only-of-type {\n",
              "        vertical-align: middle;\n",
              "    }\n",
              "\n",
              "    .dataframe tbody tr th {\n",
              "        vertical-align: top;\n",
              "    }\n",
              "\n",
              "    .dataframe thead th {\n",
              "        text-align: right;\n",
              "    }\n",
              "</style>\n",
              "<table border=\"1\" class=\"dataframe\">\n",
              "  <thead>\n",
              "    <tr style=\"text-align: right;\">\n",
              "      <th></th>\n",
              "      <th>A</th>\n",
              "      <th>B</th>\n",
              "      <th>C</th>\n",
              "      <th>D</th>\n",
              "    </tr>\n",
              "  </thead>\n",
              "  <tbody>\n",
              "    <tr>\n",
              "      <th>2021-04-21</th>\n",
              "      <td>-0.103685</td>\n",
              "      <td>-0.094582</td>\n",
              "      <td>1.003957</td>\n",
              "      <td>-1.851071</td>\n",
              "    </tr>\n",
              "    <tr>\n",
              "      <th>2021-04-22</th>\n",
              "      <td>-0.117007</td>\n",
              "      <td>-0.549108</td>\n",
              "      <td>-1.300640</td>\n",
              "      <td>1.515359</td>\n",
              "    </tr>\n",
              "    <tr>\n",
              "      <th>2021-04-23</th>\n",
              "      <td>1.316176</td>\n",
              "      <td>0.251692</td>\n",
              "      <td>-0.126839</td>\n",
              "      <td>-0.024707</td>\n",
              "    </tr>\n",
              "    <tr>\n",
              "      <th>2021-04-24</th>\n",
              "      <td>1.045235</td>\n",
              "      <td>0.166591</td>\n",
              "      <td>-0.449801</td>\n",
              "      <td>2.431257</td>\n",
              "    </tr>\n",
              "    <tr>\n",
              "      <th>2021-04-25</th>\n",
              "      <td>-0.052533</td>\n",
              "      <td>-2.585471</td>\n",
              "      <td>-0.392638</td>\n",
              "      <td>0.351720</td>\n",
              "    </tr>\n",
              "    <tr>\n",
              "      <th>2021-04-26</th>\n",
              "      <td>0.475896</td>\n",
              "      <td>0.824662</td>\n",
              "      <td>0.361384</td>\n",
              "      <td>0.000255</td>\n",
              "    </tr>\n",
              "  </tbody>\n",
              "</table>\n",
              "</div>"
            ],
            "text/plain": [
              "                   A         B         C         D\n",
              "2021-04-21 -0.103685 -0.094582  1.003957 -1.851071\n",
              "2021-04-22 -0.117007 -0.549108 -1.300640  1.515359\n",
              "2021-04-23  1.316176  0.251692 -0.126839 -0.024707\n",
              "2021-04-24  1.045235  0.166591 -0.449801  2.431257\n",
              "2021-04-25 -0.052533 -2.585471 -0.392638  0.351720\n",
              "2021-04-26  0.475896  0.824662  0.361384  0.000255"
            ]
          },
          "metadata": {
            "tags": []
          },
          "execution_count": 50
        }
      ]
    },
    {
      "cell_type": "code",
      "metadata": {
        "colab": {
          "base_uri": "https://localhost:8080/",
          "height": 225
        },
        "id": "DFUuFIBhpxHP",
        "outputId": "9f6a7cc8-e4e2-44b3-de5c-3aa10ec02343"
      },
      "source": [
        "df.sort_index(axis=1, ascending=False)"
      ],
      "execution_count": 51,
      "outputs": [
        {
          "output_type": "execute_result",
          "data": {
            "text/html": [
              "<div>\n",
              "<style scoped>\n",
              "    .dataframe tbody tr th:only-of-type {\n",
              "        vertical-align: middle;\n",
              "    }\n",
              "\n",
              "    .dataframe tbody tr th {\n",
              "        vertical-align: top;\n",
              "    }\n",
              "\n",
              "    .dataframe thead th {\n",
              "        text-align: right;\n",
              "    }\n",
              "</style>\n",
              "<table border=\"1\" class=\"dataframe\">\n",
              "  <thead>\n",
              "    <tr style=\"text-align: right;\">\n",
              "      <th></th>\n",
              "      <th>D</th>\n",
              "      <th>C</th>\n",
              "      <th>B</th>\n",
              "      <th>A</th>\n",
              "    </tr>\n",
              "  </thead>\n",
              "  <tbody>\n",
              "    <tr>\n",
              "      <th>2021-04-21</th>\n",
              "      <td>-1.851071</td>\n",
              "      <td>1.003957</td>\n",
              "      <td>-0.094582</td>\n",
              "      <td>-0.103685</td>\n",
              "    </tr>\n",
              "    <tr>\n",
              "      <th>2021-04-22</th>\n",
              "      <td>1.515359</td>\n",
              "      <td>-1.300640</td>\n",
              "      <td>-0.549108</td>\n",
              "      <td>-0.117007</td>\n",
              "    </tr>\n",
              "    <tr>\n",
              "      <th>2021-04-23</th>\n",
              "      <td>-0.024707</td>\n",
              "      <td>-0.126839</td>\n",
              "      <td>0.251692</td>\n",
              "      <td>1.316176</td>\n",
              "    </tr>\n",
              "    <tr>\n",
              "      <th>2021-04-24</th>\n",
              "      <td>2.431257</td>\n",
              "      <td>-0.449801</td>\n",
              "      <td>0.166591</td>\n",
              "      <td>1.045235</td>\n",
              "    </tr>\n",
              "    <tr>\n",
              "      <th>2021-04-25</th>\n",
              "      <td>0.351720</td>\n",
              "      <td>-0.392638</td>\n",
              "      <td>-2.585471</td>\n",
              "      <td>-0.052533</td>\n",
              "    </tr>\n",
              "    <tr>\n",
              "      <th>2021-04-26</th>\n",
              "      <td>0.000255</td>\n",
              "      <td>0.361384</td>\n",
              "      <td>0.824662</td>\n",
              "      <td>0.475896</td>\n",
              "    </tr>\n",
              "  </tbody>\n",
              "</table>\n",
              "</div>"
            ],
            "text/plain": [
              "                   D         C         B         A\n",
              "2021-04-21 -1.851071  1.003957 -0.094582 -0.103685\n",
              "2021-04-22  1.515359 -1.300640 -0.549108 -0.117007\n",
              "2021-04-23 -0.024707 -0.126839  0.251692  1.316176\n",
              "2021-04-24  2.431257 -0.449801  0.166591  1.045235\n",
              "2021-04-25  0.351720 -0.392638 -2.585471 -0.052533\n",
              "2021-04-26  0.000255  0.361384  0.824662  0.475896"
            ]
          },
          "metadata": {
            "tags": []
          },
          "execution_count": 51
        }
      ]
    },
    {
      "cell_type": "code",
      "metadata": {
        "colab": {
          "base_uri": "https://localhost:8080/",
          "height": 225
        },
        "id": "jJENcsg9p3Qw",
        "outputId": "08db9110-4fa0-432f-8655-72400347d9e5"
      },
      "source": [
        "df"
      ],
      "execution_count": 52,
      "outputs": [
        {
          "output_type": "execute_result",
          "data": {
            "text/html": [
              "<div>\n",
              "<style scoped>\n",
              "    .dataframe tbody tr th:only-of-type {\n",
              "        vertical-align: middle;\n",
              "    }\n",
              "\n",
              "    .dataframe tbody tr th {\n",
              "        vertical-align: top;\n",
              "    }\n",
              "\n",
              "    .dataframe thead th {\n",
              "        text-align: right;\n",
              "    }\n",
              "</style>\n",
              "<table border=\"1\" class=\"dataframe\">\n",
              "  <thead>\n",
              "    <tr style=\"text-align: right;\">\n",
              "      <th></th>\n",
              "      <th>A</th>\n",
              "      <th>B</th>\n",
              "      <th>C</th>\n",
              "      <th>D</th>\n",
              "    </tr>\n",
              "  </thead>\n",
              "  <tbody>\n",
              "    <tr>\n",
              "      <th>2021-04-21</th>\n",
              "      <td>-0.103685</td>\n",
              "      <td>-0.094582</td>\n",
              "      <td>1.003957</td>\n",
              "      <td>-1.851071</td>\n",
              "    </tr>\n",
              "    <tr>\n",
              "      <th>2021-04-22</th>\n",
              "      <td>-0.117007</td>\n",
              "      <td>-0.549108</td>\n",
              "      <td>-1.300640</td>\n",
              "      <td>1.515359</td>\n",
              "    </tr>\n",
              "    <tr>\n",
              "      <th>2021-04-23</th>\n",
              "      <td>1.316176</td>\n",
              "      <td>0.251692</td>\n",
              "      <td>-0.126839</td>\n",
              "      <td>-0.024707</td>\n",
              "    </tr>\n",
              "    <tr>\n",
              "      <th>2021-04-24</th>\n",
              "      <td>1.045235</td>\n",
              "      <td>0.166591</td>\n",
              "      <td>-0.449801</td>\n",
              "      <td>2.431257</td>\n",
              "    </tr>\n",
              "    <tr>\n",
              "      <th>2021-04-25</th>\n",
              "      <td>-0.052533</td>\n",
              "      <td>-2.585471</td>\n",
              "      <td>-0.392638</td>\n",
              "      <td>0.351720</td>\n",
              "    </tr>\n",
              "    <tr>\n",
              "      <th>2021-04-26</th>\n",
              "      <td>0.475896</td>\n",
              "      <td>0.824662</td>\n",
              "      <td>0.361384</td>\n",
              "      <td>0.000255</td>\n",
              "    </tr>\n",
              "  </tbody>\n",
              "</table>\n",
              "</div>"
            ],
            "text/plain": [
              "                   A         B         C         D\n",
              "2021-04-21 -0.103685 -0.094582  1.003957 -1.851071\n",
              "2021-04-22 -0.117007 -0.549108 -1.300640  1.515359\n",
              "2021-04-23  1.316176  0.251692 -0.126839 -0.024707\n",
              "2021-04-24  1.045235  0.166591 -0.449801  2.431257\n",
              "2021-04-25 -0.052533 -2.585471 -0.392638  0.351720\n",
              "2021-04-26  0.475896  0.824662  0.361384  0.000255"
            ]
          },
          "metadata": {
            "tags": []
          },
          "execution_count": 52
        }
      ]
    },
    {
      "cell_type": "code",
      "metadata": {
        "colab": {
          "base_uri": "https://localhost:8080/",
          "height": 225
        },
        "id": "jroFYenAqClx",
        "outputId": "3a93a8f7-b5c3-4392-fd98-b8871b0eba3b"
      },
      "source": [
        "df.sort_values(by='B')"
      ],
      "execution_count": 53,
      "outputs": [
        {
          "output_type": "execute_result",
          "data": {
            "text/html": [
              "<div>\n",
              "<style scoped>\n",
              "    .dataframe tbody tr th:only-of-type {\n",
              "        vertical-align: middle;\n",
              "    }\n",
              "\n",
              "    .dataframe tbody tr th {\n",
              "        vertical-align: top;\n",
              "    }\n",
              "\n",
              "    .dataframe thead th {\n",
              "        text-align: right;\n",
              "    }\n",
              "</style>\n",
              "<table border=\"1\" class=\"dataframe\">\n",
              "  <thead>\n",
              "    <tr style=\"text-align: right;\">\n",
              "      <th></th>\n",
              "      <th>A</th>\n",
              "      <th>B</th>\n",
              "      <th>C</th>\n",
              "      <th>D</th>\n",
              "    </tr>\n",
              "  </thead>\n",
              "  <tbody>\n",
              "    <tr>\n",
              "      <th>2021-04-25</th>\n",
              "      <td>-0.052533</td>\n",
              "      <td>-2.585471</td>\n",
              "      <td>-0.392638</td>\n",
              "      <td>0.351720</td>\n",
              "    </tr>\n",
              "    <tr>\n",
              "      <th>2021-04-22</th>\n",
              "      <td>-0.117007</td>\n",
              "      <td>-0.549108</td>\n",
              "      <td>-1.300640</td>\n",
              "      <td>1.515359</td>\n",
              "    </tr>\n",
              "    <tr>\n",
              "      <th>2021-04-21</th>\n",
              "      <td>-0.103685</td>\n",
              "      <td>-0.094582</td>\n",
              "      <td>1.003957</td>\n",
              "      <td>-1.851071</td>\n",
              "    </tr>\n",
              "    <tr>\n",
              "      <th>2021-04-24</th>\n",
              "      <td>1.045235</td>\n",
              "      <td>0.166591</td>\n",
              "      <td>-0.449801</td>\n",
              "      <td>2.431257</td>\n",
              "    </tr>\n",
              "    <tr>\n",
              "      <th>2021-04-23</th>\n",
              "      <td>1.316176</td>\n",
              "      <td>0.251692</td>\n",
              "      <td>-0.126839</td>\n",
              "      <td>-0.024707</td>\n",
              "    </tr>\n",
              "    <tr>\n",
              "      <th>2021-04-26</th>\n",
              "      <td>0.475896</td>\n",
              "      <td>0.824662</td>\n",
              "      <td>0.361384</td>\n",
              "      <td>0.000255</td>\n",
              "    </tr>\n",
              "  </tbody>\n",
              "</table>\n",
              "</div>"
            ],
            "text/plain": [
              "                   A         B         C         D\n",
              "2021-04-25 -0.052533 -2.585471 -0.392638  0.351720\n",
              "2021-04-22 -0.117007 -0.549108 -1.300640  1.515359\n",
              "2021-04-21 -0.103685 -0.094582  1.003957 -1.851071\n",
              "2021-04-24  1.045235  0.166591 -0.449801  2.431257\n",
              "2021-04-23  1.316176  0.251692 -0.126839 -0.024707\n",
              "2021-04-26  0.475896  0.824662  0.361384  0.000255"
            ]
          },
          "metadata": {
            "tags": []
          },
          "execution_count": 53
        }
      ]
    },
    {
      "cell_type": "code",
      "metadata": {
        "colab": {
          "base_uri": "https://localhost:8080/"
        },
        "id": "De2fYLnNqLKG",
        "outputId": "f5e1f82c-47ae-4bb9-8ee3-f5eb5ffd9820"
      },
      "source": [
        "dates"
      ],
      "execution_count": 54,
      "outputs": [
        {
          "output_type": "execute_result",
          "data": {
            "text/plain": [
              "DatetimeIndex(['2021-04-21', '2021-04-22', '2021-04-23', '2021-04-24',\n",
              "               '2021-04-25', '2021-04-26'],\n",
              "              dtype='datetime64[ns]', freq='D')"
            ]
          },
          "metadata": {
            "tags": []
          },
          "execution_count": 54
        }
      ]
    },
    {
      "cell_type": "code",
      "metadata": {
        "colab": {
          "base_uri": "https://localhost:8080/",
          "height": 225
        },
        "id": "iQ5aFDWzqduI",
        "outputId": "b7400606-046b-47a0-f2ab-2a52ec423831"
      },
      "source": [
        "df"
      ],
      "execution_count": 55,
      "outputs": [
        {
          "output_type": "execute_result",
          "data": {
            "text/html": [
              "<div>\n",
              "<style scoped>\n",
              "    .dataframe tbody tr th:only-of-type {\n",
              "        vertical-align: middle;\n",
              "    }\n",
              "\n",
              "    .dataframe tbody tr th {\n",
              "        vertical-align: top;\n",
              "    }\n",
              "\n",
              "    .dataframe thead th {\n",
              "        text-align: right;\n",
              "    }\n",
              "</style>\n",
              "<table border=\"1\" class=\"dataframe\">\n",
              "  <thead>\n",
              "    <tr style=\"text-align: right;\">\n",
              "      <th></th>\n",
              "      <th>A</th>\n",
              "      <th>B</th>\n",
              "      <th>C</th>\n",
              "      <th>D</th>\n",
              "    </tr>\n",
              "  </thead>\n",
              "  <tbody>\n",
              "    <tr>\n",
              "      <th>2021-04-21</th>\n",
              "      <td>-0.103685</td>\n",
              "      <td>-0.094582</td>\n",
              "      <td>1.003957</td>\n",
              "      <td>-1.851071</td>\n",
              "    </tr>\n",
              "    <tr>\n",
              "      <th>2021-04-22</th>\n",
              "      <td>-0.117007</td>\n",
              "      <td>-0.549108</td>\n",
              "      <td>-1.300640</td>\n",
              "      <td>1.515359</td>\n",
              "    </tr>\n",
              "    <tr>\n",
              "      <th>2021-04-23</th>\n",
              "      <td>1.316176</td>\n",
              "      <td>0.251692</td>\n",
              "      <td>-0.126839</td>\n",
              "      <td>-0.024707</td>\n",
              "    </tr>\n",
              "    <tr>\n",
              "      <th>2021-04-24</th>\n",
              "      <td>1.045235</td>\n",
              "      <td>0.166591</td>\n",
              "      <td>-0.449801</td>\n",
              "      <td>2.431257</td>\n",
              "    </tr>\n",
              "    <tr>\n",
              "      <th>2021-04-25</th>\n",
              "      <td>-0.052533</td>\n",
              "      <td>-2.585471</td>\n",
              "      <td>-0.392638</td>\n",
              "      <td>0.351720</td>\n",
              "    </tr>\n",
              "    <tr>\n",
              "      <th>2021-04-26</th>\n",
              "      <td>0.475896</td>\n",
              "      <td>0.824662</td>\n",
              "      <td>0.361384</td>\n",
              "      <td>0.000255</td>\n",
              "    </tr>\n",
              "  </tbody>\n",
              "</table>\n",
              "</div>"
            ],
            "text/plain": [
              "                   A         B         C         D\n",
              "2021-04-21 -0.103685 -0.094582  1.003957 -1.851071\n",
              "2021-04-22 -0.117007 -0.549108 -1.300640  1.515359\n",
              "2021-04-23  1.316176  0.251692 -0.126839 -0.024707\n",
              "2021-04-24  1.045235  0.166591 -0.449801  2.431257\n",
              "2021-04-25 -0.052533 -2.585471 -0.392638  0.351720\n",
              "2021-04-26  0.475896  0.824662  0.361384  0.000255"
            ]
          },
          "metadata": {
            "tags": []
          },
          "execution_count": 55
        }
      ]
    },
    {
      "cell_type": "code",
      "metadata": {
        "colab": {
          "base_uri": "https://localhost:8080/"
        },
        "id": "DeW6MLGEqfF9",
        "outputId": "1d0018c9-e7aa-4aa3-cf4a-be5a8ca29751"
      },
      "source": [
        "df['C']"
      ],
      "execution_count": 58,
      "outputs": [
        {
          "output_type": "execute_result",
          "data": {
            "text/plain": [
              "2021-04-21    1.003957\n",
              "2021-04-22   -1.300640\n",
              "2021-04-23   -0.126839\n",
              "2021-04-24   -0.449801\n",
              "2021-04-25   -0.392638\n",
              "2021-04-26    0.361384\n",
              "Freq: D, Name: C, dtype: float64"
            ]
          },
          "metadata": {
            "tags": []
          },
          "execution_count": 58
        }
      ]
    },
    {
      "cell_type": "code",
      "metadata": {
        "colab": {
          "base_uri": "https://localhost:8080/",
          "height": 225
        },
        "id": "_KSxqk0rqqAL",
        "outputId": "b2bbe109-00cc-46e9-cdf3-2ad1e89427ed"
      },
      "source": [
        "df[ ['A','B','D'] ]"
      ],
      "execution_count": 64,
      "outputs": [
        {
          "output_type": "execute_result",
          "data": {
            "text/html": [
              "<div>\n",
              "<style scoped>\n",
              "    .dataframe tbody tr th:only-of-type {\n",
              "        vertical-align: middle;\n",
              "    }\n",
              "\n",
              "    .dataframe tbody tr th {\n",
              "        vertical-align: top;\n",
              "    }\n",
              "\n",
              "    .dataframe thead th {\n",
              "        text-align: right;\n",
              "    }\n",
              "</style>\n",
              "<table border=\"1\" class=\"dataframe\">\n",
              "  <thead>\n",
              "    <tr style=\"text-align: right;\">\n",
              "      <th></th>\n",
              "      <th>A</th>\n",
              "      <th>B</th>\n",
              "      <th>D</th>\n",
              "    </tr>\n",
              "  </thead>\n",
              "  <tbody>\n",
              "    <tr>\n",
              "      <th>2021-04-21</th>\n",
              "      <td>-0.103685</td>\n",
              "      <td>-0.094582</td>\n",
              "      <td>-1.851071</td>\n",
              "    </tr>\n",
              "    <tr>\n",
              "      <th>2021-04-22</th>\n",
              "      <td>-0.117007</td>\n",
              "      <td>-0.549108</td>\n",
              "      <td>1.515359</td>\n",
              "    </tr>\n",
              "    <tr>\n",
              "      <th>2021-04-23</th>\n",
              "      <td>1.316176</td>\n",
              "      <td>0.251692</td>\n",
              "      <td>-0.024707</td>\n",
              "    </tr>\n",
              "    <tr>\n",
              "      <th>2021-04-24</th>\n",
              "      <td>1.045235</td>\n",
              "      <td>0.166591</td>\n",
              "      <td>2.431257</td>\n",
              "    </tr>\n",
              "    <tr>\n",
              "      <th>2021-04-25</th>\n",
              "      <td>-0.052533</td>\n",
              "      <td>-2.585471</td>\n",
              "      <td>0.351720</td>\n",
              "    </tr>\n",
              "    <tr>\n",
              "      <th>2021-04-26</th>\n",
              "      <td>0.475896</td>\n",
              "      <td>0.824662</td>\n",
              "      <td>0.000255</td>\n",
              "    </tr>\n",
              "  </tbody>\n",
              "</table>\n",
              "</div>"
            ],
            "text/plain": [
              "                   A         B         D\n",
              "2021-04-21 -0.103685 -0.094582 -1.851071\n",
              "2021-04-22 -0.117007 -0.549108  1.515359\n",
              "2021-04-23  1.316176  0.251692 -0.024707\n",
              "2021-04-24  1.045235  0.166591  2.431257\n",
              "2021-04-25 -0.052533 -2.585471  0.351720\n",
              "2021-04-26  0.475896  0.824662  0.000255"
            ]
          },
          "metadata": {
            "tags": []
          },
          "execution_count": 64
        }
      ]
    },
    {
      "cell_type": "code",
      "metadata": {
        "colab": {
          "base_uri": "https://localhost:8080/",
          "height": 225
        },
        "id": "s-VBT6CUrBKK",
        "outputId": "66bb412a-ab43-45bc-864e-e2b075b5e0b6"
      },
      "source": [
        "df"
      ],
      "execution_count": 65,
      "outputs": [
        {
          "output_type": "execute_result",
          "data": {
            "text/html": [
              "<div>\n",
              "<style scoped>\n",
              "    .dataframe tbody tr th:only-of-type {\n",
              "        vertical-align: middle;\n",
              "    }\n",
              "\n",
              "    .dataframe tbody tr th {\n",
              "        vertical-align: top;\n",
              "    }\n",
              "\n",
              "    .dataframe thead th {\n",
              "        text-align: right;\n",
              "    }\n",
              "</style>\n",
              "<table border=\"1\" class=\"dataframe\">\n",
              "  <thead>\n",
              "    <tr style=\"text-align: right;\">\n",
              "      <th></th>\n",
              "      <th>A</th>\n",
              "      <th>B</th>\n",
              "      <th>C</th>\n",
              "      <th>D</th>\n",
              "    </tr>\n",
              "  </thead>\n",
              "  <tbody>\n",
              "    <tr>\n",
              "      <th>2021-04-21</th>\n",
              "      <td>-0.103685</td>\n",
              "      <td>-0.094582</td>\n",
              "      <td>1.003957</td>\n",
              "      <td>-1.851071</td>\n",
              "    </tr>\n",
              "    <tr>\n",
              "      <th>2021-04-22</th>\n",
              "      <td>-0.117007</td>\n",
              "      <td>-0.549108</td>\n",
              "      <td>-1.300640</td>\n",
              "      <td>1.515359</td>\n",
              "    </tr>\n",
              "    <tr>\n",
              "      <th>2021-04-23</th>\n",
              "      <td>1.316176</td>\n",
              "      <td>0.251692</td>\n",
              "      <td>-0.126839</td>\n",
              "      <td>-0.024707</td>\n",
              "    </tr>\n",
              "    <tr>\n",
              "      <th>2021-04-24</th>\n",
              "      <td>1.045235</td>\n",
              "      <td>0.166591</td>\n",
              "      <td>-0.449801</td>\n",
              "      <td>2.431257</td>\n",
              "    </tr>\n",
              "    <tr>\n",
              "      <th>2021-04-25</th>\n",
              "      <td>-0.052533</td>\n",
              "      <td>-2.585471</td>\n",
              "      <td>-0.392638</td>\n",
              "      <td>0.351720</td>\n",
              "    </tr>\n",
              "    <tr>\n",
              "      <th>2021-04-26</th>\n",
              "      <td>0.475896</td>\n",
              "      <td>0.824662</td>\n",
              "      <td>0.361384</td>\n",
              "      <td>0.000255</td>\n",
              "    </tr>\n",
              "  </tbody>\n",
              "</table>\n",
              "</div>"
            ],
            "text/plain": [
              "                   A         B         C         D\n",
              "2021-04-21 -0.103685 -0.094582  1.003957 -1.851071\n",
              "2021-04-22 -0.117007 -0.549108 -1.300640  1.515359\n",
              "2021-04-23  1.316176  0.251692 -0.126839 -0.024707\n",
              "2021-04-24  1.045235  0.166591 -0.449801  2.431257\n",
              "2021-04-25 -0.052533 -2.585471 -0.392638  0.351720\n",
              "2021-04-26  0.475896  0.824662  0.361384  0.000255"
            ]
          },
          "metadata": {
            "tags": []
          },
          "execution_count": 65
        }
      ]
    },
    {
      "cell_type": "code",
      "metadata": {
        "colab": {
          "base_uri": "https://localhost:8080/",
          "height": 77
        },
        "id": "MEZCkX7zrf2S",
        "outputId": "8dfcf440-a636-4812-bc12-e5591e863b1c"
      },
      "source": [
        "df[0:1]"
      ],
      "execution_count": 68,
      "outputs": [
        {
          "output_type": "execute_result",
          "data": {
            "text/html": [
              "<div>\n",
              "<style scoped>\n",
              "    .dataframe tbody tr th:only-of-type {\n",
              "        vertical-align: middle;\n",
              "    }\n",
              "\n",
              "    .dataframe tbody tr th {\n",
              "        vertical-align: top;\n",
              "    }\n",
              "\n",
              "    .dataframe thead th {\n",
              "        text-align: right;\n",
              "    }\n",
              "</style>\n",
              "<table border=\"1\" class=\"dataframe\">\n",
              "  <thead>\n",
              "    <tr style=\"text-align: right;\">\n",
              "      <th></th>\n",
              "      <th>A</th>\n",
              "      <th>B</th>\n",
              "      <th>C</th>\n",
              "      <th>D</th>\n",
              "    </tr>\n",
              "  </thead>\n",
              "  <tbody>\n",
              "    <tr>\n",
              "      <th>2021-04-21</th>\n",
              "      <td>-0.103685</td>\n",
              "      <td>-0.094582</td>\n",
              "      <td>1.003957</td>\n",
              "      <td>-1.851071</td>\n",
              "    </tr>\n",
              "  </tbody>\n",
              "</table>\n",
              "</div>"
            ],
            "text/plain": [
              "                   A         B         C         D\n",
              "2021-04-21 -0.103685 -0.094582  1.003957 -1.851071"
            ]
          },
          "metadata": {
            "tags": []
          },
          "execution_count": 68
        }
      ]
    },
    {
      "cell_type": "code",
      "metadata": {
        "colab": {
          "base_uri": "https://localhost:8080/",
          "height": 77
        },
        "id": "SUTiDkZprh5H",
        "outputId": "a9e417c3-926c-4e77-9bbe-3215bd9e4299"
      },
      "source": [
        "df['20210421':'20210421']"
      ],
      "execution_count": 71,
      "outputs": [
        {
          "output_type": "execute_result",
          "data": {
            "text/html": [
              "<div>\n",
              "<style scoped>\n",
              "    .dataframe tbody tr th:only-of-type {\n",
              "        vertical-align: middle;\n",
              "    }\n",
              "\n",
              "    .dataframe tbody tr th {\n",
              "        vertical-align: top;\n",
              "    }\n",
              "\n",
              "    .dataframe thead th {\n",
              "        text-align: right;\n",
              "    }\n",
              "</style>\n",
              "<table border=\"1\" class=\"dataframe\">\n",
              "  <thead>\n",
              "    <tr style=\"text-align: right;\">\n",
              "      <th></th>\n",
              "      <th>A</th>\n",
              "      <th>B</th>\n",
              "      <th>C</th>\n",
              "      <th>D</th>\n",
              "    </tr>\n",
              "  </thead>\n",
              "  <tbody>\n",
              "    <tr>\n",
              "      <th>2021-04-21</th>\n",
              "      <td>-0.103685</td>\n",
              "      <td>-0.094582</td>\n",
              "      <td>1.003957</td>\n",
              "      <td>-1.851071</td>\n",
              "    </tr>\n",
              "  </tbody>\n",
              "</table>\n",
              "</div>"
            ],
            "text/plain": [
              "                   A         B         C         D\n",
              "2021-04-21 -0.103685 -0.094582  1.003957 -1.851071"
            ]
          },
          "metadata": {
            "tags": []
          },
          "execution_count": 71
        }
      ]
    },
    {
      "cell_type": "code",
      "metadata": {
        "colab": {
          "base_uri": "https://localhost:8080/",
          "height": 225
        },
        "id": "XOA23VMnsEs7",
        "outputId": "0ab957f5-4c89-4a6f-c9e6-c03fe5326fa6"
      },
      "source": [
        "df"
      ],
      "execution_count": 72,
      "outputs": [
        {
          "output_type": "execute_result",
          "data": {
            "text/html": [
              "<div>\n",
              "<style scoped>\n",
              "    .dataframe tbody tr th:only-of-type {\n",
              "        vertical-align: middle;\n",
              "    }\n",
              "\n",
              "    .dataframe tbody tr th {\n",
              "        vertical-align: top;\n",
              "    }\n",
              "\n",
              "    .dataframe thead th {\n",
              "        text-align: right;\n",
              "    }\n",
              "</style>\n",
              "<table border=\"1\" class=\"dataframe\">\n",
              "  <thead>\n",
              "    <tr style=\"text-align: right;\">\n",
              "      <th></th>\n",
              "      <th>A</th>\n",
              "      <th>B</th>\n",
              "      <th>C</th>\n",
              "      <th>D</th>\n",
              "    </tr>\n",
              "  </thead>\n",
              "  <tbody>\n",
              "    <tr>\n",
              "      <th>2021-04-21</th>\n",
              "      <td>-0.103685</td>\n",
              "      <td>-0.094582</td>\n",
              "      <td>1.003957</td>\n",
              "      <td>-1.851071</td>\n",
              "    </tr>\n",
              "    <tr>\n",
              "      <th>2021-04-22</th>\n",
              "      <td>-0.117007</td>\n",
              "      <td>-0.549108</td>\n",
              "      <td>-1.300640</td>\n",
              "      <td>1.515359</td>\n",
              "    </tr>\n",
              "    <tr>\n",
              "      <th>2021-04-23</th>\n",
              "      <td>1.316176</td>\n",
              "      <td>0.251692</td>\n",
              "      <td>-0.126839</td>\n",
              "      <td>-0.024707</td>\n",
              "    </tr>\n",
              "    <tr>\n",
              "      <th>2021-04-24</th>\n",
              "      <td>1.045235</td>\n",
              "      <td>0.166591</td>\n",
              "      <td>-0.449801</td>\n",
              "      <td>2.431257</td>\n",
              "    </tr>\n",
              "    <tr>\n",
              "      <th>2021-04-25</th>\n",
              "      <td>-0.052533</td>\n",
              "      <td>-2.585471</td>\n",
              "      <td>-0.392638</td>\n",
              "      <td>0.351720</td>\n",
              "    </tr>\n",
              "    <tr>\n",
              "      <th>2021-04-26</th>\n",
              "      <td>0.475896</td>\n",
              "      <td>0.824662</td>\n",
              "      <td>0.361384</td>\n",
              "      <td>0.000255</td>\n",
              "    </tr>\n",
              "  </tbody>\n",
              "</table>\n",
              "</div>"
            ],
            "text/plain": [
              "                   A         B         C         D\n",
              "2021-04-21 -0.103685 -0.094582  1.003957 -1.851071\n",
              "2021-04-22 -0.117007 -0.549108 -1.300640  1.515359\n",
              "2021-04-23  1.316176  0.251692 -0.126839 -0.024707\n",
              "2021-04-24  1.045235  0.166591 -0.449801  2.431257\n",
              "2021-04-25 -0.052533 -2.585471 -0.392638  0.351720\n",
              "2021-04-26  0.475896  0.824662  0.361384  0.000255"
            ]
          },
          "metadata": {
            "tags": []
          },
          "execution_count": 72
        }
      ]
    },
    {
      "cell_type": "code",
      "metadata": {
        "colab": {
          "base_uri": "https://localhost:8080/"
        },
        "id": "mTfJNPR_sfZX",
        "outputId": "dec3385f-1d53-46c0-c0ce-51f9cd5efc5d"
      },
      "source": [
        "df.loc[dates[0]]"
      ],
      "execution_count": 73,
      "outputs": [
        {
          "output_type": "execute_result",
          "data": {
            "text/plain": [
              "A   -0.103685\n",
              "B   -0.094582\n",
              "C    1.003957\n",
              "D   -1.851071\n",
              "Name: 2021-04-21 00:00:00, dtype: float64"
            ]
          },
          "metadata": {
            "tags": []
          },
          "execution_count": 73
        }
      ]
    },
    {
      "cell_type": "code",
      "metadata": {
        "colab": {
          "base_uri": "https://localhost:8080/"
        },
        "id": "f1WzOja5sl1x",
        "outputId": "ca9adf32-6e1d-4967-de7c-1dfa173922eb"
      },
      "source": [
        "df.loc['20210421']"
      ],
      "execution_count": 76,
      "outputs": [
        {
          "output_type": "execute_result",
          "data": {
            "text/plain": [
              "A   -0.103685\n",
              "B   -0.094582\n",
              "C    1.003957\n",
              "D   -1.851071\n",
              "Name: 2021-04-21 00:00:00, dtype: float64"
            ]
          },
          "metadata": {
            "tags": []
          },
          "execution_count": 76
        }
      ]
    },
    {
      "cell_type": "code",
      "metadata": {
        "colab": {
          "base_uri": "https://localhost:8080/",
          "height": 134
        },
        "id": "23yB3U1OsvkO",
        "outputId": "0f0b9207-39ad-4d11-d223-69cc1a81ec56"
      },
      "source": [
        "df.loc[dates[0]"
      ],
      "execution_count": 87,
      "outputs": [
        {
          "output_type": "error",
          "ename": "SyntaxError",
          "evalue": "ignored",
          "traceback": [
            "\u001b[0;36m  File \u001b[0;32m\"<ipython-input-87-c7e870ca3e66>\"\u001b[0;36m, line \u001b[0;32m1\u001b[0m\n\u001b[0;31m    df.loc[dates[0]\u001b[0m\n\u001b[0m                   ^\u001b[0m\n\u001b[0;31mSyntaxError\u001b[0m\u001b[0;31m:\u001b[0m unexpected EOF while parsing\n"
          ]
        }
      ]
    },
    {
      "cell_type": "code",
      "metadata": {
        "colab": {
          "base_uri": "https://localhost:8080/"
        },
        "id": "9Bi9zMDatMdL",
        "outputId": "ef489848-50f4-4f87-c5b3-d49fe73aae69"
      },
      "source": [
        "#df.loc[행,열]\n",
        "#행 => :\n",
        "df.loc[:,'A']\n"
      ],
      "execution_count": 80,
      "outputs": [
        {
          "output_type": "execute_result",
          "data": {
            "text/plain": [
              "2021-04-21   -0.103685\n",
              "2021-04-22   -0.117007\n",
              "2021-04-23    1.316176\n",
              "2021-04-24    1.045235\n",
              "2021-04-25   -0.052533\n",
              "2021-04-26    0.475896\n",
              "Freq: D, Name: A, dtype: float64"
            ]
          },
          "metadata": {
            "tags": []
          },
          "execution_count": 80
        }
      ]
    },
    {
      "cell_type": "code",
      "metadata": {
        "colab": {
          "base_uri": "https://localhost:8080/"
        },
        "id": "3C21UsNdtcDI",
        "outputId": "0cadc3fe-b7d2-4eaa-c37c-5346a52bf103"
      },
      "source": [
        "df.loc['20210421':'20210423','A']"
      ],
      "execution_count": 83,
      "outputs": [
        {
          "output_type": "execute_result",
          "data": {
            "text/plain": [
              "2021-04-21   -0.103685\n",
              "2021-04-22   -0.117007\n",
              "2021-04-23    1.316176\n",
              "Freq: D, Name: A, dtype: float64"
            ]
          },
          "metadata": {
            "tags": []
          },
          "execution_count": 83
        }
      ]
    },
    {
      "cell_type": "code",
      "metadata": {
        "colab": {
          "base_uri": "https://localhost:8080/",
          "height": 136
        },
        "id": "5Zxf6rXBtnqn",
        "outputId": "d5ced518-5b5d-4ece-daa2-ca734d2dfa35"
      },
      "source": [
        "df.loc['20210421':'20210423',['A','B','C']]"
      ],
      "execution_count": 84,
      "outputs": [
        {
          "output_type": "execute_result",
          "data": {
            "text/html": [
              "<div>\n",
              "<style scoped>\n",
              "    .dataframe tbody tr th:only-of-type {\n",
              "        vertical-align: middle;\n",
              "    }\n",
              "\n",
              "    .dataframe tbody tr th {\n",
              "        vertical-align: top;\n",
              "    }\n",
              "\n",
              "    .dataframe thead th {\n",
              "        text-align: right;\n",
              "    }\n",
              "</style>\n",
              "<table border=\"1\" class=\"dataframe\">\n",
              "  <thead>\n",
              "    <tr style=\"text-align: right;\">\n",
              "      <th></th>\n",
              "      <th>A</th>\n",
              "      <th>B</th>\n",
              "      <th>C</th>\n",
              "    </tr>\n",
              "  </thead>\n",
              "  <tbody>\n",
              "    <tr>\n",
              "      <th>2021-04-21</th>\n",
              "      <td>-0.103685</td>\n",
              "      <td>-0.094582</td>\n",
              "      <td>1.003957</td>\n",
              "    </tr>\n",
              "    <tr>\n",
              "      <th>2021-04-22</th>\n",
              "      <td>-0.117007</td>\n",
              "      <td>-0.549108</td>\n",
              "      <td>-1.300640</td>\n",
              "    </tr>\n",
              "    <tr>\n",
              "      <th>2021-04-23</th>\n",
              "      <td>1.316176</td>\n",
              "      <td>0.251692</td>\n",
              "      <td>-0.126839</td>\n",
              "    </tr>\n",
              "  </tbody>\n",
              "</table>\n",
              "</div>"
            ],
            "text/plain": [
              "                   A         B         C\n",
              "2021-04-21 -0.103685 -0.094582  1.003957\n",
              "2021-04-22 -0.117007 -0.549108 -1.300640\n",
              "2021-04-23  1.316176  0.251692 -0.126839"
            ]
          },
          "metadata": {
            "tags": []
          },
          "execution_count": 84
        }
      ]
    },
    {
      "cell_type": "code",
      "metadata": {
        "colab": {
          "base_uri": "https://localhost:8080/"
        },
        "id": "FzPY32bity-4",
        "outputId": "9af2ee6d-7f1e-43e9-96e5-44b63c713e42"
      },
      "source": [
        "df.at[dates[0],'A']"
      ],
      "execution_count": 91,
      "outputs": [
        {
          "output_type": "execute_result",
          "data": {
            "text/plain": [
              "-0.10368474545665297"
            ]
          },
          "metadata": {
            "tags": []
          },
          "execution_count": 91
        }
      ]
    },
    {
      "cell_type": "code",
      "metadata": {
        "colab": {
          "base_uri": "https://localhost:8080/",
          "height": 136
        },
        "id": "Zw5jdRwpuF91",
        "outputId": "dfd6aa88-7104-4db3-8122-b0519cffbf79"
      },
      "source": [
        "df.iloc[0:3,1:3]"
      ],
      "execution_count": 99,
      "outputs": [
        {
          "output_type": "execute_result",
          "data": {
            "text/html": [
              "<div>\n",
              "<style scoped>\n",
              "    .dataframe tbody tr th:only-of-type {\n",
              "        vertical-align: middle;\n",
              "    }\n",
              "\n",
              "    .dataframe tbody tr th {\n",
              "        vertical-align: top;\n",
              "    }\n",
              "\n",
              "    .dataframe thead th {\n",
              "        text-align: right;\n",
              "    }\n",
              "</style>\n",
              "<table border=\"1\" class=\"dataframe\">\n",
              "  <thead>\n",
              "    <tr style=\"text-align: right;\">\n",
              "      <th></th>\n",
              "      <th>B</th>\n",
              "      <th>C</th>\n",
              "    </tr>\n",
              "  </thead>\n",
              "  <tbody>\n",
              "    <tr>\n",
              "      <th>2021-04-21</th>\n",
              "      <td>-0.094582</td>\n",
              "      <td>1.003957</td>\n",
              "    </tr>\n",
              "    <tr>\n",
              "      <th>2021-04-22</th>\n",
              "      <td>-0.549108</td>\n",
              "      <td>-1.300640</td>\n",
              "    </tr>\n",
              "    <tr>\n",
              "      <th>2021-04-23</th>\n",
              "      <td>0.251692</td>\n",
              "      <td>-0.126839</td>\n",
              "    </tr>\n",
              "  </tbody>\n",
              "</table>\n",
              "</div>"
            ],
            "text/plain": [
              "                   B         C\n",
              "2021-04-21 -0.094582  1.003957\n",
              "2021-04-22 -0.549108 -1.300640\n",
              "2021-04-23  0.251692 -0.126839"
            ]
          },
          "metadata": {
            "tags": []
          },
          "execution_count": 99
        }
      ]
    },
    {
      "cell_type": "code",
      "metadata": {
        "colab": {
          "base_uri": "https://localhost:8080/"
        },
        "id": "G6Zt2SYYuKdz",
        "outputId": "00bc33c5-7192-4264-9b8f-97e2e4a31c2e"
      },
      "source": [
        "df.loc[dates[3]]"
      ],
      "execution_count": 90,
      "outputs": [
        {
          "output_type": "execute_result",
          "data": {
            "text/plain": [
              "A    1.045235\n",
              "B    0.166591\n",
              "C   -0.449801\n",
              "D    2.431257\n",
              "Name: 2021-04-24 00:00:00, dtype: float64"
            ]
          },
          "metadata": {
            "tags": []
          },
          "execution_count": 90
        }
      ]
    },
    {
      "cell_type": "code",
      "metadata": {
        "colab": {
          "base_uri": "https://localhost:8080/"
        },
        "id": "sRY2kyd9uNyU",
        "outputId": "c1d48e8e-f2f5-4e57-93b8-8b0bb8fcf697"
      },
      "source": [
        "df.index"
      ],
      "execution_count": 94,
      "outputs": [
        {
          "output_type": "execute_result",
          "data": {
            "text/plain": [
              "DatetimeIndex(['2021-04-21', '2021-04-22', '2021-04-23', '2021-04-24',\n",
              "               '2021-04-25', '2021-04-26'],\n",
              "              dtype='datetime64[ns]', freq='D')"
            ]
          },
          "metadata": {
            "tags": []
          },
          "execution_count": 94
        }
      ]
    },
    {
      "cell_type": "code",
      "metadata": {
        "colab": {
          "base_uri": "https://localhost:8080/",
          "height": 225
        },
        "id": "ntGzw2X5uVt7",
        "outputId": "bf66130f-21d1-47fc-b493-378bf1a6386e"
      },
      "source": [
        "df"
      ],
      "execution_count": 100,
      "outputs": [
        {
          "output_type": "execute_result",
          "data": {
            "text/html": [
              "<div>\n",
              "<style scoped>\n",
              "    .dataframe tbody tr th:only-of-type {\n",
              "        vertical-align: middle;\n",
              "    }\n",
              "\n",
              "    .dataframe tbody tr th {\n",
              "        vertical-align: top;\n",
              "    }\n",
              "\n",
              "    .dataframe thead th {\n",
              "        text-align: right;\n",
              "    }\n",
              "</style>\n",
              "<table border=\"1\" class=\"dataframe\">\n",
              "  <thead>\n",
              "    <tr style=\"text-align: right;\">\n",
              "      <th></th>\n",
              "      <th>A</th>\n",
              "      <th>B</th>\n",
              "      <th>C</th>\n",
              "      <th>D</th>\n",
              "    </tr>\n",
              "  </thead>\n",
              "  <tbody>\n",
              "    <tr>\n",
              "      <th>2021-04-21</th>\n",
              "      <td>-0.103685</td>\n",
              "      <td>-0.094582</td>\n",
              "      <td>1.003957</td>\n",
              "      <td>-1.851071</td>\n",
              "    </tr>\n",
              "    <tr>\n",
              "      <th>2021-04-22</th>\n",
              "      <td>-0.117007</td>\n",
              "      <td>-0.549108</td>\n",
              "      <td>-1.300640</td>\n",
              "      <td>1.515359</td>\n",
              "    </tr>\n",
              "    <tr>\n",
              "      <th>2021-04-23</th>\n",
              "      <td>1.316176</td>\n",
              "      <td>0.251692</td>\n",
              "      <td>-0.126839</td>\n",
              "      <td>-0.024707</td>\n",
              "    </tr>\n",
              "    <tr>\n",
              "      <th>2021-04-24</th>\n",
              "      <td>1.045235</td>\n",
              "      <td>0.166591</td>\n",
              "      <td>-0.449801</td>\n",
              "      <td>2.431257</td>\n",
              "    </tr>\n",
              "    <tr>\n",
              "      <th>2021-04-25</th>\n",
              "      <td>-0.052533</td>\n",
              "      <td>-2.585471</td>\n",
              "      <td>-0.392638</td>\n",
              "      <td>0.351720</td>\n",
              "    </tr>\n",
              "    <tr>\n",
              "      <th>2021-04-26</th>\n",
              "      <td>0.475896</td>\n",
              "      <td>0.824662</td>\n",
              "      <td>0.361384</td>\n",
              "      <td>0.000255</td>\n",
              "    </tr>\n",
              "  </tbody>\n",
              "</table>\n",
              "</div>"
            ],
            "text/plain": [
              "                   A         B         C         D\n",
              "2021-04-21 -0.103685 -0.094582  1.003957 -1.851071\n",
              "2021-04-22 -0.117007 -0.549108 -1.300640  1.515359\n",
              "2021-04-23  1.316176  0.251692 -0.126839 -0.024707\n",
              "2021-04-24  1.045235  0.166591 -0.449801  2.431257\n",
              "2021-04-25 -0.052533 -2.585471 -0.392638  0.351720\n",
              "2021-04-26  0.475896  0.824662  0.361384  0.000255"
            ]
          },
          "metadata": {
            "tags": []
          },
          "execution_count": 100
        }
      ]
    },
    {
      "cell_type": "code",
      "metadata": {
        "colab": {
          "base_uri": "https://localhost:8080/"
        },
        "id": "6XcCDUvevaAa",
        "outputId": "855cb359-fba1-4ec6-a265-4f70cbf104c3"
      },
      "source": [
        "df.A "
      ],
      "execution_count": 101,
      "outputs": [
        {
          "output_type": "execute_result",
          "data": {
            "text/plain": [
              "2021-04-21   -0.103685\n",
              "2021-04-22   -0.117007\n",
              "2021-04-23    1.316176\n",
              "2021-04-24    1.045235\n",
              "2021-04-25   -0.052533\n",
              "2021-04-26    0.475896\n",
              "Freq: D, Name: A, dtype: float64"
            ]
          },
          "metadata": {
            "tags": []
          },
          "execution_count": 101
        }
      ]
    },
    {
      "cell_type": "code",
      "metadata": {
        "colab": {
          "base_uri": "https://localhost:8080/"
        },
        "id": "TcNct2a0vlQP",
        "outputId": "d4e76bb5-2917-4d1a-b88a-af8154c6eadb"
      },
      "source": [
        "df.A >0 "
      ],
      "execution_count": 107,
      "outputs": [
        {
          "output_type": "execute_result",
          "data": {
            "text/plain": [
              "2021-04-21    False\n",
              "2021-04-22    False\n",
              "2021-04-23     True\n",
              "2021-04-24     True\n",
              "2021-04-25    False\n",
              "2021-04-26     True\n",
              "Freq: D, Name: A, dtype: bool"
            ]
          },
          "metadata": {
            "tags": []
          },
          "execution_count": 107
        }
      ]
    },
    {
      "cell_type": "code",
      "metadata": {
        "colab": {
          "base_uri": "https://localhost:8080/",
          "height": 136
        },
        "id": "cDJHVew3vqx6",
        "outputId": "cc43e3af-8990-4e9d-ba18-a8385ba8e8dc"
      },
      "source": [
        "df[df.A > 0]"
      ],
      "execution_count": 108,
      "outputs": [
        {
          "output_type": "execute_result",
          "data": {
            "text/html": [
              "<div>\n",
              "<style scoped>\n",
              "    .dataframe tbody tr th:only-of-type {\n",
              "        vertical-align: middle;\n",
              "    }\n",
              "\n",
              "    .dataframe tbody tr th {\n",
              "        vertical-align: top;\n",
              "    }\n",
              "\n",
              "    .dataframe thead th {\n",
              "        text-align: right;\n",
              "    }\n",
              "</style>\n",
              "<table border=\"1\" class=\"dataframe\">\n",
              "  <thead>\n",
              "    <tr style=\"text-align: right;\">\n",
              "      <th></th>\n",
              "      <th>A</th>\n",
              "      <th>B</th>\n",
              "      <th>C</th>\n",
              "      <th>D</th>\n",
              "    </tr>\n",
              "  </thead>\n",
              "  <tbody>\n",
              "    <tr>\n",
              "      <th>2021-04-23</th>\n",
              "      <td>1.316176</td>\n",
              "      <td>0.251692</td>\n",
              "      <td>-0.126839</td>\n",
              "      <td>-0.024707</td>\n",
              "    </tr>\n",
              "    <tr>\n",
              "      <th>2021-04-24</th>\n",
              "      <td>1.045235</td>\n",
              "      <td>0.166591</td>\n",
              "      <td>-0.449801</td>\n",
              "      <td>2.431257</td>\n",
              "    </tr>\n",
              "    <tr>\n",
              "      <th>2021-04-26</th>\n",
              "      <td>0.475896</td>\n",
              "      <td>0.824662</td>\n",
              "      <td>0.361384</td>\n",
              "      <td>0.000255</td>\n",
              "    </tr>\n",
              "  </tbody>\n",
              "</table>\n",
              "</div>"
            ],
            "text/plain": [
              "                   A         B         C         D\n",
              "2021-04-23  1.316176  0.251692 -0.126839 -0.024707\n",
              "2021-04-24  1.045235  0.166591 -0.449801  2.431257\n",
              "2021-04-26  0.475896  0.824662  0.361384  0.000255"
            ]
          },
          "metadata": {
            "tags": []
          },
          "execution_count": 108
        }
      ]
    },
    {
      "cell_type": "code",
      "metadata": {
        "colab": {
          "base_uri": "https://localhost:8080/",
          "height": 225
        },
        "id": "B98du6_rvz_y",
        "outputId": "271d98c8-3963-4cdb-bf69-76e55d39f557"
      },
      "source": [
        "df>0"
      ],
      "execution_count": 109,
      "outputs": [
        {
          "output_type": "execute_result",
          "data": {
            "text/html": [
              "<div>\n",
              "<style scoped>\n",
              "    .dataframe tbody tr th:only-of-type {\n",
              "        vertical-align: middle;\n",
              "    }\n",
              "\n",
              "    .dataframe tbody tr th {\n",
              "        vertical-align: top;\n",
              "    }\n",
              "\n",
              "    .dataframe thead th {\n",
              "        text-align: right;\n",
              "    }\n",
              "</style>\n",
              "<table border=\"1\" class=\"dataframe\">\n",
              "  <thead>\n",
              "    <tr style=\"text-align: right;\">\n",
              "      <th></th>\n",
              "      <th>A</th>\n",
              "      <th>B</th>\n",
              "      <th>C</th>\n",
              "      <th>D</th>\n",
              "    </tr>\n",
              "  </thead>\n",
              "  <tbody>\n",
              "    <tr>\n",
              "      <th>2021-04-21</th>\n",
              "      <td>False</td>\n",
              "      <td>False</td>\n",
              "      <td>True</td>\n",
              "      <td>False</td>\n",
              "    </tr>\n",
              "    <tr>\n",
              "      <th>2021-04-22</th>\n",
              "      <td>False</td>\n",
              "      <td>False</td>\n",
              "      <td>False</td>\n",
              "      <td>True</td>\n",
              "    </tr>\n",
              "    <tr>\n",
              "      <th>2021-04-23</th>\n",
              "      <td>True</td>\n",
              "      <td>True</td>\n",
              "      <td>False</td>\n",
              "      <td>False</td>\n",
              "    </tr>\n",
              "    <tr>\n",
              "      <th>2021-04-24</th>\n",
              "      <td>True</td>\n",
              "      <td>True</td>\n",
              "      <td>False</td>\n",
              "      <td>True</td>\n",
              "    </tr>\n",
              "    <tr>\n",
              "      <th>2021-04-25</th>\n",
              "      <td>False</td>\n",
              "      <td>False</td>\n",
              "      <td>False</td>\n",
              "      <td>True</td>\n",
              "    </tr>\n",
              "    <tr>\n",
              "      <th>2021-04-26</th>\n",
              "      <td>True</td>\n",
              "      <td>True</td>\n",
              "      <td>True</td>\n",
              "      <td>True</td>\n",
              "    </tr>\n",
              "  </tbody>\n",
              "</table>\n",
              "</div>"
            ],
            "text/plain": [
              "                A      B      C      D\n",
              "2021-04-21  False  False   True  False\n",
              "2021-04-22  False  False  False   True\n",
              "2021-04-23   True   True  False  False\n",
              "2021-04-24   True   True  False   True\n",
              "2021-04-25  False  False  False   True\n",
              "2021-04-26   True   True   True   True"
            ]
          },
          "metadata": {
            "tags": []
          },
          "execution_count": 109
        }
      ]
    },
    {
      "cell_type": "code",
      "metadata": {
        "colab": {
          "base_uri": "https://localhost:8080/",
          "height": 225
        },
        "id": "7uCRsueqwJSn",
        "outputId": "6621cc55-d540-47bb-8c58-3d759414e4d0"
      },
      "source": [
        "df[df>0]"
      ],
      "execution_count": 110,
      "outputs": [
        {
          "output_type": "execute_result",
          "data": {
            "text/html": [
              "<div>\n",
              "<style scoped>\n",
              "    .dataframe tbody tr th:only-of-type {\n",
              "        vertical-align: middle;\n",
              "    }\n",
              "\n",
              "    .dataframe tbody tr th {\n",
              "        vertical-align: top;\n",
              "    }\n",
              "\n",
              "    .dataframe thead th {\n",
              "        text-align: right;\n",
              "    }\n",
              "</style>\n",
              "<table border=\"1\" class=\"dataframe\">\n",
              "  <thead>\n",
              "    <tr style=\"text-align: right;\">\n",
              "      <th></th>\n",
              "      <th>A</th>\n",
              "      <th>B</th>\n",
              "      <th>C</th>\n",
              "      <th>D</th>\n",
              "    </tr>\n",
              "  </thead>\n",
              "  <tbody>\n",
              "    <tr>\n",
              "      <th>2021-04-21</th>\n",
              "      <td>NaN</td>\n",
              "      <td>NaN</td>\n",
              "      <td>1.003957</td>\n",
              "      <td>NaN</td>\n",
              "    </tr>\n",
              "    <tr>\n",
              "      <th>2021-04-22</th>\n",
              "      <td>NaN</td>\n",
              "      <td>NaN</td>\n",
              "      <td>NaN</td>\n",
              "      <td>1.515359</td>\n",
              "    </tr>\n",
              "    <tr>\n",
              "      <th>2021-04-23</th>\n",
              "      <td>1.316176</td>\n",
              "      <td>0.251692</td>\n",
              "      <td>NaN</td>\n",
              "      <td>NaN</td>\n",
              "    </tr>\n",
              "    <tr>\n",
              "      <th>2021-04-24</th>\n",
              "      <td>1.045235</td>\n",
              "      <td>0.166591</td>\n",
              "      <td>NaN</td>\n",
              "      <td>2.431257</td>\n",
              "    </tr>\n",
              "    <tr>\n",
              "      <th>2021-04-25</th>\n",
              "      <td>NaN</td>\n",
              "      <td>NaN</td>\n",
              "      <td>NaN</td>\n",
              "      <td>0.351720</td>\n",
              "    </tr>\n",
              "    <tr>\n",
              "      <th>2021-04-26</th>\n",
              "      <td>0.475896</td>\n",
              "      <td>0.824662</td>\n",
              "      <td>0.361384</td>\n",
              "      <td>0.000255</td>\n",
              "    </tr>\n",
              "  </tbody>\n",
              "</table>\n",
              "</div>"
            ],
            "text/plain": [
              "                   A         B         C         D\n",
              "2021-04-21       NaN       NaN  1.003957       NaN\n",
              "2021-04-22       NaN       NaN       NaN  1.515359\n",
              "2021-04-23  1.316176  0.251692       NaN       NaN\n",
              "2021-04-24  1.045235  0.166591       NaN  2.431257\n",
              "2021-04-25       NaN       NaN       NaN  0.351720\n",
              "2021-04-26  0.475896  0.824662  0.361384  0.000255"
            ]
          },
          "metadata": {
            "tags": []
          },
          "execution_count": 110
        }
      ]
    },
    {
      "cell_type": "code",
      "metadata": {
        "id": "MHCGM9aOwNgT"
      },
      "source": [
        ""
      ],
      "execution_count": null,
      "outputs": []
    }
  ]
}