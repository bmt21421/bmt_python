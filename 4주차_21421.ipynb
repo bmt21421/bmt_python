{
  "nbformat": 4,
  "nbformat_minor": 0,
  "metadata": {
    "colab": {
      "name": "4주차_21421.ipynb",
      "provenance": [],
      "collapsed_sections": [],
      "authorship_tag": "ABX9TyMUycO0Qtvr35Zah858ug/x",
      "include_colab_link": true
    },
    "kernelspec": {
      "name": "python3",
      "display_name": "Python 3"
    },
    "language_info": {
      "name": "python"
    }
  },
  "cells": [
    {
      "cell_type": "markdown",
      "metadata": {
        "id": "view-in-github",
        "colab_type": "text"
      },
      "source": [
        "<a href=\"https://colab.research.google.com/github/bmt21421/bmt_python/blob/main/4%EC%A3%BC%EC%B0%A8_21421.ipynb\" target=\"_parent\"><img src=\"https://colab.research.google.com/assets/colab-badge.svg\" alt=\"Open In Colab\"/></a>"
      ]
    },
    {
      "cell_type": "code",
      "metadata": {
        "colab": {
          "base_uri": "https://localhost:8080/"
        },
        "id": "hI9psjOMNXi3",
        "outputId": "ec6bbe90-6b96-415c-b4d4-5800021ab412"
      },
      "source": [
        "print('hello world',end='\\n')\n",
        "print('Busan')"
      ],
      "execution_count": 8,
      "outputs": [
        {
          "output_type": "stream",
          "text": [
            "hello world\n",
            "Busan\n"
          ],
          "name": "stdout"
        }
      ]
    },
    {
      "cell_type": "code",
      "metadata": {
        "colab": {
          "base_uri": "https://localhost:8080/"
        },
        "id": "KxQYmeYWPUMD",
        "outputId": "84e1e02d-2b72-4ce1-91c1-a2e4061128b0"
      },
      "source": [
        "print('Hello','world','Busan')\n",
        "print('Hello'*3)"
      ],
      "execution_count": 11,
      "outputs": [
        {
          "output_type": "stream",
          "text": [
            "Hello world Busan\n",
            "HelloHelloHello\n"
          ],
          "name": "stdout"
        }
      ]
    },
    {
      "cell_type": "code",
      "metadata": {
        "colab": {
          "base_uri": "https://localhost:8080/"
        },
        "id": "688UvWpHQc7o",
        "outputId": "1a2f2ae2-469b-4a12-e07c-3afc87f6f831"
      },
      "source": [
        "print('Hello\\tpython')"
      ],
      "execution_count": 21,
      "outputs": [
        {
          "output_type": "stream",
          "text": [
            "Hello\tpython\n"
          ],
          "name": "stdout"
        }
      ]
    },
    {
      "cell_type": "code",
      "metadata": {
        "colab": {
          "base_uri": "https://localhost:8080/"
        },
        "id": "S6aPRlufRbE4",
        "outputId": "a00f39f5-38f5-440a-b184-c5d495dae16e"
      },
      "source": [
        "x = input()\n",
        "print(x)"
      ],
      "execution_count": 23,
      "outputs": [
        {
          "output_type": "stream",
          "text": [
            "안녕하세요\n"
          ],
          "name": "stdout"
        }
      ]
    },
    {
      "cell_type": "code",
      "metadata": {
        "colab": {
          "base_uri": "https://localhost:8080/"
        },
        "id": "ckEL8a7xSB-_",
        "outputId": "fe3c0de5-c72c-4757-ce4a-39b72122c4fd"
      },
      "source": [
        "x= input('x입력 : ')\n",
        "y= input('y입력 : ')"
      ],
      "execution_count": 29,
      "outputs": [
        {
          "output_type": "stream",
          "text": [
            "x입력 : 10\n",
            "y입력 : 20\n"
          ],
          "name": "stdout"
        }
      ]
    },
    {
      "cell_type": "code",
      "metadata": {
        "colab": {
          "base_uri": "https://localhost:8080/"
        },
        "id": "QpjAs4VlSiZY",
        "outputId": "7bdae712-2985-4a65-cc8c-c91cc5cfea0b"
      },
      "source": [
        "print(x, '+', y, '=', x+y )"
      ],
      "execution_count": 32,
      "outputs": [
        {
          "output_type": "stream",
          "text": [
            "10 + 20 = 1020\n"
          ],
          "name": "stdout"
        }
      ]
    },
    {
      "cell_type": "code",
      "metadata": {
        "id": "VVlHRTnpTCFY"
      },
      "source": [
        "x =int(x)\n",
        "y=int(y)"
      ],
      "execution_count": 34,
      "outputs": []
    },
    {
      "cell_type": "code",
      "metadata": {
        "colab": {
          "base_uri": "https://localhost:8080/"
        },
        "id": "0KdiHiWzTIz3",
        "outputId": "5284ef5a-bb85-480a-ca98-65de9c610f85"
      },
      "source": [
        "print(x, '+', y, '=', x+y )"
      ],
      "execution_count": 35,
      "outputs": [
        {
          "output_type": "stream",
          "text": [
            "10 + 20 = 30\n"
          ],
          "name": "stdout"
        }
      ]
    },
    {
      "cell_type": "code",
      "metadata": {
        "colab": {
          "base_uri": "https://localhost:8080/"
        },
        "id": "9KLXnwlwTK6X",
        "outputId": "59887d85-5986-462b-a706-23353a9fb34f"
      },
      "source": [
        "#두 정수 입력 받아 사칙연산 프로그램\n",
        "#입력부\n",
        "x = int(input('첫번째 정수 입력 :'))\n",
        "y = int(input('두번째 정수 입력 :'))"
      ],
      "execution_count": 36,
      "outputs": [
        {
          "output_type": "stream",
          "text": [
            "첫번째 정수 입력 :10\n",
            "두번째 정수 입력 :20\n"
          ],
          "name": "stdout"
        }
      ]
    },
    {
      "cell_type": "code",
      "metadata": {
        "colab": {
          "base_uri": "https://localhost:8080/"
        },
        "id": "QLvNUeU9Tnso",
        "outputId": "696ea7f1-ba0b-4ffd-c988-85846db430ce"
      },
      "source": [
        "print(x, '+', y, '=', (x + y))\n",
        "print(x, '-', y, '=', (x - y))\n",
        "print(x, 'x', y, '=', (x * y))\n",
        "print(x, '/', y, '=', (x / y))"
      ],
      "execution_count": 37,
      "outputs": [
        {
          "output_type": "stream",
          "text": [
            "10 + 20 = 30\n",
            "10 - 20 = -10\n",
            "10 x 20 = 200\n",
            "10 / 20 = 0.5\n"
          ],
          "name": "stdout"
        }
      ]
    },
    {
      "cell_type": "code",
      "metadata": {
        "colab": {
          "base_uri": "https://localhost:8080/"
        },
        "id": "1CRV1KTQTykI",
        "outputId": "6abab4d1-02f9-460d-86d4-e52b48242003"
      },
      "source": [
        "#BMI 지수 구하기\n",
        "#입력부\n",
        "weight =float(input('weigh(kg) : '))\n",
        "height = float(input('height(cm) : '))"
      ],
      "execution_count": 40,
      "outputs": [
        {
          "output_type": "stream",
          "text": [
            "weigh(kg) : 46\n",
            "height(cm) : 168\n"
          ],
          "name": "stdout"
        }
      ]
    },
    {
      "cell_type": "code",
      "metadata": {
        "id": "q_ceRtb6U4U_"
      },
      "source": [
        "#제어부\n",
        "BMI = weight / (height/100)**2"
      ],
      "execution_count": 41,
      "outputs": []
    },
    {
      "cell_type": "code",
      "metadata": {
        "colab": {
          "base_uri": "https://localhost:8080/"
        },
        "id": "WU6lLNqJVG0H",
        "outputId": "f3ae0fff-9748-47b4-8eb5-0308e9706561"
      },
      "source": [
        "print(f'BMI : {BMI : .2f}')"
      ],
      "execution_count": 44,
      "outputs": [
        {
          "output_type": "stream",
          "text": [
            "BMI :  16.30\n"
          ],
          "name": "stdout"
        }
      ]
    },
    {
      "cell_type": "code",
      "metadata": {
        "colab": {
          "base_uri": "https://localhost:8080/"
        },
        "id": "4DRs3cysVgbI",
        "outputId": "fadc8d74-332b-4950-9193-ab578f95a7ad"
      },
      "source": [
        "if BMI >20:\n",
        "  print('넌 살좀 빼야돼 !!!👌👌')\n",
        "elif BMI >30 :\n",
        "  print('넌 헬스장이나 가!!👍')\n",
        "elif BMI >0 and BMI <= 20 :\n",
        "  print('넌 괜찮아!💕')\n",
        "else :\n",
        "  print('먼가 이상해')\n"
      ],
      "execution_count": 46,
      "outputs": [
        {
          "output_type": "stream",
          "text": [
            "넌 괜찮아!💕\n"
          ],
          "name": "stdout"
        }
      ]
    },
    {
      "cell_type": "code",
      "metadata": {
        "id": "FkznWQVsWsiI"
      },
      "source": [
        "x= 'Hello Python'"
      ],
      "execution_count": 60,
      "outputs": []
    },
    {
      "cell_type": "code",
      "metadata": {
        "colab": {
          "base_uri": "https://localhost:8080/"
        },
        "id": "yK8U-Pv6apDP",
        "outputId": "fd00c51c-ee0f-4874-9fe0-24d8f72172d1"
      },
      "source": [
        "print(x)"
      ],
      "execution_count": 48,
      "outputs": [
        {
          "output_type": "stream",
          "text": [
            "hello python\n"
          ],
          "name": "stdout"
        }
      ]
    },
    {
      "cell_type": "code",
      "metadata": {
        "colab": {
          "base_uri": "https://localhost:8080/"
        },
        "id": "acf_QQ7Taqwv",
        "outputId": "30361863-bacb-4668-ad9a-a38a47ab7c2e"
      },
      "source": [
        "len(x)"
      ],
      "execution_count": 49,
      "outputs": [
        {
          "output_type": "execute_result",
          "data": {
            "text/plain": [
              "12"
            ]
          },
          "metadata": {
            "tags": []
          },
          "execution_count": 49
        }
      ]
    },
    {
      "cell_type": "code",
      "metadata": {
        "colab": {
          "base_uri": "https://localhost:8080/",
          "height": 35
        },
        "id": "43vJfy9PbMxZ",
        "outputId": "c7a82f05-2cd2-409b-8db9-0a05bf7cb358"
      },
      "source": [
        "x"
      ],
      "execution_count": 50,
      "outputs": [
        {
          "output_type": "execute_result",
          "data": {
            "application/vnd.google.colaboratory.intrinsic+json": {
              "type": "string"
            },
            "text/plain": [
              "'hello python'"
            ]
          },
          "metadata": {
            "tags": []
          },
          "execution_count": 50
        }
      ]
    },
    {
      "cell_type": "code",
      "metadata": {
        "colab": {
          "base_uri": "https://localhost:8080/"
        },
        "id": "YN6iQgJJbc3m",
        "outputId": "062d4665-c3fc-4aa9-a064-78ecc325a2bb"
      },
      "source": [
        "x.count('H')"
      ],
      "execution_count": 54,
      "outputs": [
        {
          "output_type": "execute_result",
          "data": {
            "text/plain": [
              "1"
            ]
          },
          "metadata": {
            "tags": []
          },
          "execution_count": 54
        }
      ]
    },
    {
      "cell_type": "code",
      "metadata": {
        "colab": {
          "base_uri": "https://localhost:8080/",
          "height": 35
        },
        "id": "_p_Tpr6mbtgW",
        "outputId": "ca8c8cad-a579-49af-a437-0b60b6c76fa8"
      },
      "source": [
        "x\n"
      ],
      "execution_count": 55,
      "outputs": [
        {
          "output_type": "execute_result",
          "data": {
            "application/vnd.google.colaboratory.intrinsic+json": {
              "type": "string"
            },
            "text/plain": [
              "'Hello python'"
            ]
          },
          "metadata": {
            "tags": []
          },
          "execution_count": 55
        }
      ]
    },
    {
      "cell_type": "code",
      "metadata": {
        "colab": {
          "base_uri": "https://localhost:8080/"
        },
        "id": "ijl9ahw0b--G",
        "outputId": "6ee8f39d-f1f0-41b7-c88e-2ddc60f771d9"
      },
      "source": [
        "x.find('o')"
      ],
      "execution_count": 58,
      "outputs": [
        {
          "output_type": "execute_result",
          "data": {
            "text/plain": [
              "4"
            ]
          },
          "metadata": {
            "tags": []
          },
          "execution_count": 58
        }
      ]
    },
    {
      "cell_type": "code",
      "metadata": {
        "colab": {
          "base_uri": "https://localhost:8080/",
          "height": 35
        },
        "id": "9IgF1UA4cHIW",
        "outputId": "c9b2f2cf-abe8-4e4d-a1ce-8b8445f6a86a"
      },
      "source": [
        "x"
      ],
      "execution_count": 61,
      "outputs": [
        {
          "output_type": "execute_result",
          "data": {
            "application/vnd.google.colaboratory.intrinsic+json": {
              "type": "string"
            },
            "text/plain": [
              "'Hello Python'"
            ]
          },
          "metadata": {
            "tags": []
          },
          "execution_count": 61
        }
      ]
    },
    {
      "cell_type": "code",
      "metadata": {
        "colab": {
          "base_uri": "https://localhost:8080/"
        },
        "id": "cgWEaZTHcciG",
        "outputId": "c74ccf48-39eb-4ddb-931f-9dd2ffcfc644"
      },
      "source": [
        "x.index('Python')"
      ],
      "execution_count": 62,
      "outputs": [
        {
          "output_type": "execute_result",
          "data": {
            "text/plain": [
              "6"
            ]
          },
          "metadata": {
            "tags": []
          },
          "execution_count": 62
        }
      ]
    },
    {
      "cell_type": "code",
      "metadata": {
        "colab": {
          "base_uri": "https://localhost:8080/",
          "height": 35
        },
        "id": "XOktodAWcloY",
        "outputId": "d1a1b394-d63d-4eb8-bacb-c9897925222b"
      },
      "source": [
        "x[6:]"
      ],
      "execution_count": 63,
      "outputs": [
        {
          "output_type": "execute_result",
          "data": {
            "application/vnd.google.colaboratory.intrinsic+json": {
              "type": "string"
            },
            "text/plain": [
              "'Python'"
            ]
          },
          "metadata": {
            "tags": []
          },
          "execution_count": 63
        }
      ]
    },
    {
      "cell_type": "code",
      "metadata": {
        "colab": {
          "base_uri": "https://localhost:8080/",
          "height": 35
        },
        "id": "prsL_6FtcwcX",
        "outputId": "f99d5427-d2d8-4de4-b2ef-50c6575d18a4"
      },
      "source": [
        "x"
      ],
      "execution_count": 66,
      "outputs": [
        {
          "output_type": "execute_result",
          "data": {
            "application/vnd.google.colaboratory.intrinsic+json": {
              "type": "string"
            },
            "text/plain": [
              "'Hello Python'"
            ]
          },
          "metadata": {
            "tags": []
          },
          "execution_count": 66
        }
      ]
    },
    {
      "cell_type": "code",
      "metadata": {
        "colab": {
          "base_uri": "https://localhost:8080/",
          "height": 35
        },
        "id": "AKkOyrO5cyiW",
        "outputId": "45da4d6e-99ca-476d-e6c9-ddf62f2642bd"
      },
      "source": [
        "'-'.join(x)"
      ],
      "execution_count": 70,
      "outputs": [
        {
          "output_type": "execute_result",
          "data": {
            "application/vnd.google.colaboratory.intrinsic+json": {
              "type": "string"
            },
            "text/plain": [
              "'H-e-l-l-o- -P-y-t-h-o-n'"
            ]
          },
          "metadata": {
            "tags": []
          },
          "execution_count": 70
        }
      ]
    },
    {
      "cell_type": "code",
      "metadata": {
        "colab": {
          "base_uri": "https://localhost:8080/",
          "height": 35
        },
        "id": "VKz9O1CDdAM1",
        "outputId": "c4fdb0d5-b9ac-466a-8e76-a0a59720cecf"
      },
      "source": [
        "x"
      ],
      "execution_count": 74,
      "outputs": [
        {
          "output_type": "execute_result",
          "data": {
            "application/vnd.google.colaboratory.intrinsic+json": {
              "type": "string"
            },
            "text/plain": [
              "'Hello Python'"
            ]
          },
          "metadata": {
            "tags": []
          },
          "execution_count": 74
        }
      ]
    },
    {
      "cell_type": "code",
      "metadata": {
        "colab": {
          "base_uri": "https://localhost:8080/",
          "height": 169
        },
        "id": "LSufSRqwdFP5",
        "outputId": "68a5f5fa-22de-4e2d-86e4-f3679e86283d"
      },
      "source": [
        "x.upper(x)"
      ],
      "execution_count": 78,
      "outputs": [
        {
          "output_type": "error",
          "ename": "TypeError",
          "evalue": "ignored",
          "traceback": [
            "\u001b[0;31m---------------------------------------------------------------------------\u001b[0m",
            "\u001b[0;31mTypeError\u001b[0m                                 Traceback (most recent call last)",
            "\u001b[0;32m<ipython-input-78-ae10adaa3eef>\u001b[0m in \u001b[0;36m<module>\u001b[0;34m()\u001b[0m\n\u001b[0;32m----> 1\u001b[0;31m \u001b[0mx\u001b[0m\u001b[0;34m.\u001b[0m\u001b[0mupper\u001b[0m\u001b[0;34m(\u001b[0m\u001b[0mx\u001b[0m\u001b[0;34m)\u001b[0m\u001b[0;34m\u001b[0m\u001b[0;34m\u001b[0m\u001b[0m\n\u001b[0m",
            "\u001b[0;31mTypeError\u001b[0m: upper() takes no arguments (1 given)"
          ]
        }
      ]
    },
    {
      "cell_type": "code",
      "metadata": {
        "colab": {
          "base_uri": "https://localhost:8080/",
          "height": 35
        },
        "id": "6KDuDaYSdID1",
        "outputId": "9bd6f5df-8650-4b9e-b8fb-e81b6b020545"
      },
      "source": [
        "x.replace('o','😊')"
      ],
      "execution_count": 81,
      "outputs": [
        {
          "output_type": "execute_result",
          "data": {
            "application/vnd.google.colaboratory.intrinsic+json": {
              "type": "string"
            },
            "text/plain": [
              "'Hell😊 Pyth😊n'"
            ]
          },
          "metadata": {
            "tags": []
          },
          "execution_count": 81
        }
      ]
    },
    {
      "cell_type": "code",
      "metadata": {
        "colab": {
          "base_uri": "https://localhost:8080/",
          "height": 35
        },
        "id": "S4p3y2ahdlh1",
        "outputId": "41b8682d-cae7-4066-857b-8dce17584dd5"
      },
      "source": [
        "x"
      ],
      "execution_count": 82,
      "outputs": [
        {
          "output_type": "execute_result",
          "data": {
            "application/vnd.google.colaboratory.intrinsic+json": {
              "type": "string"
            },
            "text/plain": [
              "'Hello Python'"
            ]
          },
          "metadata": {
            "tags": []
          },
          "execution_count": 82
        }
      ]
    },
    {
      "cell_type": "code",
      "metadata": {
        "colab": {
          "base_uri": "https://localhost:8080/",
          "height": 35
        },
        "id": "WaaH_Pmzdq_l",
        "outputId": "1d7807c0-06e9-4eea-9b94-5229c8b07b73"
      },
      "source": [
        "y= '-'.join(x)\n",
        "y"
      ],
      "execution_count": 83,
      "outputs": [
        {
          "output_type": "execute_result",
          "data": {
            "application/vnd.google.colaboratory.intrinsic+json": {
              "type": "string"
            },
            "text/plain": [
              "'H-e-l-l-o- -P-y-t-h-o-n'"
            ]
          },
          "metadata": {
            "tags": []
          },
          "execution_count": 83
        }
      ]
    },
    {
      "cell_type": "code",
      "metadata": {
        "colab": {
          "base_uri": "https://localhost:8080/"
        },
        "id": "5VgF2-Tedzl1",
        "outputId": "21fa447b-b989-4694-a374-7887b8ae8516"
      },
      "source": [
        "y.split('-')"
      ],
      "execution_count": 86,
      "outputs": [
        {
          "output_type": "execute_result",
          "data": {
            "text/plain": [
              "['H', 'e', 'l', 'l', 'o', ' ', 'P', 'y', 't', 'h', 'o', 'n']"
            ]
          },
          "metadata": {
            "tags": []
          },
          "execution_count": 86
        }
      ]
    },
    {
      "cell_type": "code",
      "metadata": {
        "colab": {
          "base_uri": "https://localhost:8080/"
        },
        "id": "6fqcKUvOd8L2",
        "outputId": "327e3c29-fe69-4d26-d376-76eae4029911"
      },
      "source": [
        "corona = '''\n",
        "왜들 그리 다운돼있어? 뭐가 문제야 say something\n",
        "분위기가 겁나 싸해 요새는 이런 게 유행인가\n",
        "왜들 그리 재미없어? 아 그건 나도 마찬가지\n",
        "Tell me what I got to do 급한 대로 블루투스 켜\n",
        "아무 노래나 일단 틀어 아무거나 신나는 걸로\n",
        "아무렇게나 춤춰 아무렇지 않아 보이게\n",
        "아무 생각 하기 싫어 아무개로 살래 잠시\n",
        "I'm sick and tired of my every day, keep it up 한 곡 더\n",
        "아무 노래나 일단 틀어 아무렴 어때 it's so boring\n",
        "아무래도 refresh가 시급한 듯해 쌓여가 스트레스가\n",
        "배꼽 빠질 만큼만 폭소하고 싶은 날이야\n",
        "What up my dawgs? 어디야 너희 올 때 병맥주랑 까까 몇 개 사 와 uh\n",
        "클럽은 구미가 잘 안 당겨 우리 집 거실로 빨랑 모여\n",
        "외부인은 요령껏 차단 시켜 밤새 수다 떨 시간도 모자라\n",
        "누군 힘들어 죽겠고 누군 축제 괜히 싱숭생숭 I want my youth back\n",
        "좀 전까지 왁자지껄 하다 한 명 두 명씩 자릴 떠\n",
        "왜들 그리 다운돼있어? 뭐가 문제야 say something\n",
        "분위기가 겁나 싸해 요새는 이런 게 유행인가\n",
        "왜들 그리 재미없어? 아 그건 나도 마찬가지\n",
        "Tell me what I got to do 급한 대로 블루투스 켜\n",
        "아무 노래나 일단 틀어 아무거나 신나는 걸로\n",
        "아무렇게나 춤춰 아무렇지 않아 보이게\n",
        "아무 생각 하기 싫어 아무개로 살래 잠시\n",
        "I'm sick and tired of my every day, keep it up 한 곡 더\n",
        "떠나질 못할 바엔\n",
        "창밖은 쳐다도 안 봐\n",
        "회까닥해서 추태를 부려도\n",
        "No worries at all 이미지 왜 챙겨 그래 봤자 우리끼린데\n",
        "Ooh 늦기 전에 막판 스퍼트 20대가 얼마 안 남았어\n",
        "편한 옷으로 갈아입어 you look nice, get 'em high\n",
        "얼핏 보면 그냥 코미디 이렇게 무해한 파티 처음이지?\n",
        "만감이 교차하는 새벽 2시경 술잔과 감정이 소용돌이쳐\n",
        "왜들 그리 다운돼있어? 뭐가 문제야 say something\n",
        "분위기가 겁나 싸해 요새는 이런 게 유행인가\n",
        "왜들 그리 재미없어? 아 그건 나도 마찬가지\n",
        "Tell me what I got to do 급한 대로 블루투스 켜\n",
        "아무 노래나 일단 틀어 아무거나 신나는 걸로\n",
        "아무렇게나 춤춰 아무렇지 않아 보이게\n",
        "아무 생각 하기 싫어 아무개로 살래 잠시\n",
        "I'm sick and tired of my every day, keep it up 한 곡 더\n",
        "아무 노래나 일단\n",
        "La-la-la, la-la-la, la-la-la-la\n",
        "La-la-la, la-la-la, la-la-la-la (You ain't gonna get a day like this)\n",
        "아무 노래 아무 노래 아무 노래나 틀어봐\n",
        "아무 노래 아무 노래 아무 노래나 틀어봐 (Yeah)\n",
        "아무 노래 (ooh) 아무 노래 아무 노래나 틀어봐\n",
        "아무 노래 아무 노래 아무 노래나 KOZ\n",
        "'''\n",
        "print('[코로나 어원 분석]')\n",
        "\n",
        "print('-'*50)\n",
        "\n",
        "str = input('찾으려는 단어를 입력하시요 : ')\n",
        "cnt =corona.count(str)\n",
        "sentence = corona.count('.')\n",
        "print(f'{sentence} 개의 문장으로 이루어짐')\n",
        "corona.replace('\\n','').split('.')\n",
        "print(f\"'{str}'(은/는) {cnt} 번 언급됨\")\n"
      ],
      "execution_count": 98,
      "outputs": [
        {
          "output_type": "stream",
          "text": [
            "[코로나 어원 분석]\n",
            "--------------------------------------------------\n",
            "찾으려는 단어를 입력하시요 : 아무 노래\n",
            "0 개의 문장으로 이루어짐\n",
            "'아무 노래'(은/는) 17 번 언급됨\n"
          ],
          "name": "stdout"
        }
      ]
    },
    {
      "cell_type": "code",
      "metadata": {
        "colab": {
          "base_uri": "https://localhost:8080/"
        },
        "id": "sZdBi9ZYei4m",
        "outputId": "7db7ae5f-a574-4704-c121-c40038cfe796"
      },
      "source": [
        "lst = [10, 20, 30]\n",
        "lst"
      ],
      "execution_count": 111,
      "outputs": [
        {
          "output_type": "execute_result",
          "data": {
            "text/plain": [
              "[10, 20, 30]"
            ]
          },
          "metadata": {
            "tags": []
          },
          "execution_count": 111
        }
      ]
    },
    {
      "cell_type": "code",
      "metadata": {
        "colab": {
          "base_uri": "https://localhost:8080/"
        },
        "id": "8Ho26N2khlf3",
        "outputId": "09c1fbda-3751-4a6a-e6a2-d23cc29f9759"
      },
      "source": [
        "type(lst)"
      ],
      "execution_count": 102,
      "outputs": [
        {
          "output_type": "execute_result",
          "data": {
            "text/plain": [
              "list"
            ]
          },
          "metadata": {
            "tags": []
          },
          "execution_count": 102
        }
      ]
    },
    {
      "cell_type": "code",
      "metadata": {
        "colab": {
          "base_uri": "https://localhost:8080/"
        },
        "id": "Dh3LbwA7hqLl",
        "outputId": "aa5bfef5-7cd3-43f2-df87-294055c68c67"
      },
      "source": [
        "lst[0]"
      ],
      "execution_count": 107,
      "outputs": [
        {
          "output_type": "execute_result",
          "data": {
            "text/plain": [
              "10"
            ]
          },
          "metadata": {
            "tags": []
          },
          "execution_count": 107
        }
      ]
    },
    {
      "cell_type": "code",
      "metadata": {
        "colab": {
          "base_uri": "https://localhost:8080/"
        },
        "id": "u9TqqpsXiG1V",
        "outputId": "e51bd8fc-f19e-4c1f-87c0-4c93925b4b5b"
      },
      "source": [
        "lst[-1]"
      ],
      "execution_count": 108,
      "outputs": [
        {
          "output_type": "execute_result",
          "data": {
            "text/plain": [
              "[10, 20, 30]"
            ]
          },
          "metadata": {
            "tags": []
          },
          "execution_count": 108
        }
      ]
    },
    {
      "cell_type": "code",
      "metadata": {
        "colab": {
          "base_uri": "https://localhost:8080/"
        },
        "id": "Qzr-05ZniIGV",
        "outputId": "e0ec1bf7-73eb-4a54-ebd4-b4b3caa7967f"
      },
      "source": [
        "lst[:2]"
      ],
      "execution_count": 112,
      "outputs": [
        {
          "output_type": "execute_result",
          "data": {
            "text/plain": [
              "[10, 20]"
            ]
          },
          "metadata": {
            "tags": []
          },
          "execution_count": 112
        }
      ]
    },
    {
      "cell_type": "code",
      "metadata": {
        "id": "j8NcQbxUiLP1"
      },
      "source": [
        "lst1=[10,20]\n",
        "lst2=[100,200]"
      ],
      "execution_count": 113,
      "outputs": []
    },
    {
      "cell_type": "code",
      "metadata": {
        "id": "nAU8eSRhiXGV"
      },
      "source": [
        "lst3 = lst1+lst2"
      ],
      "execution_count": 116,
      "outputs": []
    },
    {
      "cell_type": "code",
      "metadata": {
        "colab": {
          "base_uri": "https://localhost:8080/"
        },
        "id": "Ji_zFxFsiZ5V",
        "outputId": "fe8a06ad-f506-4f83-fbea-47f3497797b9"
      },
      "source": [
        "lst3*3"
      ],
      "execution_count": 117,
      "outputs": [
        {
          "output_type": "execute_result",
          "data": {
            "text/plain": [
              "[10, 20, 100, 200, 10, 20, 100, 200, 10, 20, 100, 200]"
            ]
          },
          "metadata": {
            "tags": []
          },
          "execution_count": 117
        }
      ]
    },
    {
      "cell_type": "code",
      "metadata": {
        "id": "mx3RNtg4ipBF"
      },
      "source": [
        "lst = ['a','b','c']"
      ],
      "execution_count": 130,
      "outputs": []
    },
    {
      "cell_type": "code",
      "metadata": {
        "id": "w3je_vC-is4F"
      },
      "source": [
        "lst.append('d')"
      ],
      "execution_count": 123,
      "outputs": []
    },
    {
      "cell_type": "code",
      "metadata": {
        "colab": {
          "base_uri": "https://localhost:8080/"
        },
        "id": "HbuZdBdpixbF",
        "outputId": "c7ca2119-eb52-4353-9dfa-0856a5b609cb"
      },
      "source": [
        "lst"
      ],
      "execution_count": 124,
      "outputs": [
        {
          "output_type": "execute_result",
          "data": {
            "text/plain": [
              "['a', 'b', 'c', 'd']"
            ]
          },
          "metadata": {
            "tags": []
          },
          "execution_count": 124
        }
      ]
    },
    {
      "cell_type": "code",
      "metadata": {
        "colab": {
          "base_uri": "https://localhost:8080/",
          "height": 35
        },
        "id": "HaQ2a8Fqi7y1",
        "outputId": "594dffe6-3ad5-453d-dfdd-10f3b2980237"
      },
      "source": [
        "lst.pop()"
      ],
      "execution_count": 125,
      "outputs": [
        {
          "output_type": "execute_result",
          "data": {
            "application/vnd.google.colaboratory.intrinsic+json": {
              "type": "string"
            },
            "text/plain": [
              "'d'"
            ]
          },
          "metadata": {
            "tags": []
          },
          "execution_count": 125
        }
      ]
    },
    {
      "cell_type": "code",
      "metadata": {
        "colab": {
          "base_uri": "https://localhost:8080/"
        },
        "id": "wAQD4EPGjAS1",
        "outputId": "883de8b6-aaa5-4b46-da51-f1848be2a10a"
      },
      "source": [
        "lst"
      ],
      "execution_count": 126,
      "outputs": [
        {
          "output_type": "execute_result",
          "data": {
            "text/plain": [
              "['a', 'b', 'c']"
            ]
          },
          "metadata": {
            "tags": []
          },
          "execution_count": 126
        }
      ]
    },
    {
      "cell_type": "code",
      "metadata": {
        "colab": {
          "base_uri": "https://localhost:8080/"
        },
        "id": "-at4vbCxjBVV",
        "outputId": "3dd156fd-95b9-4068-b18b-3ba04ce01cf5"
      },
      "source": [
        "lst"
      ],
      "execution_count": 129,
      "outputs": [
        {
          "output_type": "execute_result",
          "data": {
            "text/plain": [
              "[0]"
            ]
          },
          "metadata": {
            "tags": []
          },
          "execution_count": 129
        }
      ]
    },
    {
      "cell_type": "code",
      "metadata": {
        "colab": {
          "base_uri": "https://localhost:8080/",
          "height": 35
        },
        "id": "o-wIBPWMjFwl",
        "outputId": "043e7c15-56da-44db-a89b-c8c5177a5b7b"
      },
      "source": [
        "lst[0]"
      ],
      "execution_count": 131,
      "outputs": [
        {
          "output_type": "execute_result",
          "data": {
            "application/vnd.google.colaboratory.intrinsic+json": {
              "type": "string"
            },
            "text/plain": [
              "'a'"
            ]
          },
          "metadata": {
            "tags": []
          },
          "execution_count": 131
        }
      ]
    },
    {
      "cell_type": "code",
      "metadata": {
        "colab": {
          "base_uri": "https://localhost:8080/"
        },
        "id": "3L6zmmnhjH4l",
        "outputId": "fc2df3d9-f082-4dda-c5ed-fa8d6623cd51"
      },
      "source": [
        "lst.index('c')"
      ],
      "execution_count": 132,
      "outputs": [
        {
          "output_type": "execute_result",
          "data": {
            "text/plain": [
              "2"
            ]
          },
          "metadata": {
            "tags": []
          },
          "execution_count": 132
        }
      ]
    },
    {
      "cell_type": "code",
      "metadata": {
        "colab": {
          "base_uri": "https://localhost:8080/",
          "height": 35
        },
        "id": "jVkTLdCzjai1",
        "outputId": "429b37b6-bbbb-4288-cf9b-99f5261d1ade"
      },
      "source": [
        "lst[2]"
      ],
      "execution_count": 133,
      "outputs": [
        {
          "output_type": "execute_result",
          "data": {
            "application/vnd.google.colaboratory.intrinsic+json": {
              "type": "string"
            },
            "text/plain": [
              "'c'"
            ]
          },
          "metadata": {
            "tags": []
          },
          "execution_count": 133
        }
      ]
    },
    {
      "cell_type": "code",
      "metadata": {
        "colab": {
          "base_uri": "https://localhost:8080/"
        },
        "id": "mYORnI9Bjdm1",
        "outputId": "3587940b-51f7-4e8f-8c49-50f07f3cf6ff"
      },
      "source": [
        "lst"
      ],
      "execution_count": 134,
      "outputs": [
        {
          "output_type": "execute_result",
          "data": {
            "text/plain": [
              "['a', 'b', 'c']"
            ]
          },
          "metadata": {
            "tags": []
          },
          "execution_count": 134
        }
      ]
    },
    {
      "cell_type": "code",
      "metadata": {
        "colab": {
          "base_uri": "https://localhost:8080/"
        },
        "id": "nODCCUZqjgu1",
        "outputId": "e51b9fe7-ef4e-46c9-b816-f649aff79c7c"
      },
      "source": [
        "lst.count('c')"
      ],
      "execution_count": 135,
      "outputs": [
        {
          "output_type": "execute_result",
          "data": {
            "text/plain": [
              "1"
            ]
          },
          "metadata": {
            "tags": []
          },
          "execution_count": 135
        }
      ]
    },
    {
      "cell_type": "code",
      "metadata": {
        "id": "4wEPg4BSjnYV"
      },
      "source": [
        "lst.append('a')"
      ],
      "execution_count": 136,
      "outputs": []
    },
    {
      "cell_type": "code",
      "metadata": {
        "colab": {
          "base_uri": "https://localhost:8080/"
        },
        "id": "00ycaUVSjrD1",
        "outputId": "ba71407a-6c49-45c4-ebae-7aeeb2af0be4"
      },
      "source": [
        "lst.count('a')"
      ],
      "execution_count": 137,
      "outputs": [
        {
          "output_type": "execute_result",
          "data": {
            "text/plain": [
              "2"
            ]
          },
          "metadata": {
            "tags": []
          },
          "execution_count": 137
        }
      ]
    },
    {
      "cell_type": "code",
      "metadata": {
        "colab": {
          "base_uri": "https://localhost:8080/",
          "height": 35
        },
        "id": "Hn2uSkAnjtuV",
        "outputId": "96a8013f-df62-482f-f6ea-c3696ccb3978"
      },
      "source": [
        "lst.pop()"
      ],
      "execution_count": 138,
      "outputs": [
        {
          "output_type": "execute_result",
          "data": {
            "application/vnd.google.colaboratory.intrinsic+json": {
              "type": "string"
            },
            "text/plain": [
              "'a'"
            ]
          },
          "metadata": {
            "tags": []
          },
          "execution_count": 138
        }
      ]
    },
    {
      "cell_type": "code",
      "metadata": {
        "colab": {
          "base_uri": "https://localhost:8080/"
        },
        "id": "AYGZelKVj0vM",
        "outputId": "4904f114-b246-4cef-dbed-b5cac768ab60"
      },
      "source": [
        "lst"
      ],
      "execution_count": 139,
      "outputs": [
        {
          "output_type": "execute_result",
          "data": {
            "text/plain": [
              "['a', 'b', 'c']"
            ]
          },
          "metadata": {
            "tags": []
          },
          "execution_count": 139
        }
      ]
    },
    {
      "cell_type": "code",
      "metadata": {
        "id": "gUcM-PxSj1Ss"
      },
      "source": [
        "lst = ['c','a','b']"
      ],
      "execution_count": 140,
      "outputs": []
    },
    {
      "cell_type": "code",
      "metadata": {
        "id": "k7EIdzMEj-V8"
      },
      "source": [
        "lst.sort()"
      ],
      "execution_count": 141,
      "outputs": []
    },
    {
      "cell_type": "code",
      "metadata": {
        "colab": {
          "base_uri": "https://localhost:8080/"
        },
        "id": "-wot2Nr1kCxV",
        "outputId": "5e88b3cc-3aaf-4a64-b8da-e21621172b00"
      },
      "source": [
        "lst"
      ],
      "execution_count": 142,
      "outputs": [
        {
          "output_type": "execute_result",
          "data": {
            "text/plain": [
              "['a', 'b', 'c']"
            ]
          },
          "metadata": {
            "tags": []
          },
          "execution_count": 142
        }
      ]
    },
    {
      "cell_type": "code",
      "metadata": {
        "id": "YUrF2gKkkFnl"
      },
      "source": [
        "lst.sort(reverse=True)"
      ],
      "execution_count": 144,
      "outputs": []
    },
    {
      "cell_type": "code",
      "metadata": {
        "colab": {
          "base_uri": "https://localhost:8080/"
        },
        "id": "8404Qv5-kaMF",
        "outputId": "2af6b620-1562-4961-bbcd-61ad2d301adc"
      },
      "source": [
        "lst"
      ],
      "execution_count": 145,
      "outputs": [
        {
          "output_type": "execute_result",
          "data": {
            "text/plain": [
              "['c', 'b', 'a']"
            ]
          },
          "metadata": {
            "tags": []
          },
          "execution_count": 145
        }
      ]
    },
    {
      "cell_type": "code",
      "metadata": {
        "id": "JBKkxMklkiGV"
      },
      "source": [
        ""
      ],
      "execution_count": null,
      "outputs": []
    }
  ]
}