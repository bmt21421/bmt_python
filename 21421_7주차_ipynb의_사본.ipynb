{
  "nbformat": 4,
  "nbformat_minor": 0,
  "metadata": {
    "colab": {
      "name": "21421_7주차.ipynb의 사본",
      "provenance": [],
      "collapsed_sections": [],
      "authorship_tag": "ABX9TyMetT0oHm5O02E4xtgDQZim",
      "include_colab_link": true
    },
    "kernelspec": {
      "name": "python3",
      "display_name": "Python 3"
    },
    "language_info": {
      "name": "python"
    }
  },
  "cells": [
    {
      "cell_type": "markdown",
      "metadata": {
        "id": "view-in-github",
        "colab_type": "text"
      },
      "source": [
        "<a href=\"https://colab.research.google.com/github/bmt21421/bmt_python/blob/main/21421_7%EC%A3%BC%EC%B0%A8_ipynb%EC%9D%98_%EC%82%AC%EB%B3%B8.ipynb\" target=\"_parent\"><img src=\"https://colab.research.google.com/assets/colab-badge.svg\" alt=\"Open In Colab\"/></a>"
      ]
    },
    {
      "cell_type": "code",
      "metadata": {
        "id": "BAb-6KsmeETM"
      },
      "source": [
        "xlist = range(10)\n"
      ],
      "execution_count": null,
      "outputs": []
    },
    {
      "cell_type": "code",
      "metadata": {
        "colab": {
          "base_uri": "https://localhost:8080/"
        },
        "id": "MJCtmsGZeyJI",
        "outputId": "1aedc92c-b654-48c5-8c1e-2863ced253ac"
      },
      "source": [
        "list(xlist)"
      ],
      "execution_count": null,
      "outputs": [
        {
          "output_type": "execute_result",
          "data": {
            "text/plain": [
              "[0, 1, 2, 3, 4, 5, 6, 7, 8, 9]"
            ]
          },
          "metadata": {
            "tags": []
          },
          "execution_count": 6
        }
      ]
    },
    {
      "cell_type": "code",
      "metadata": {
        "colab": {
          "base_uri": "https://localhost:8080/"
        },
        "id": "4XcMlsLme4Ky",
        "outputId": "5202f79b-29c8-46d1-90db-8a0085d5f1bb"
      },
      "source": [
        "for item in xlist:\n",
        "  print(item,end=' ')"
      ],
      "execution_count": null,
      "outputs": [
        {
          "output_type": "stream",
          "text": [
            "0 1 2 3 4 5 6 7 8 9 "
          ],
          "name": "stdout"
        }
      ]
    },
    {
      "cell_type": "code",
      "metadata": {
        "colab": {
          "base_uri": "https://localhost:8080/"
        },
        "id": "_oZ17T8EfF3C",
        "outputId": "fdfb13fa-821f-489b-9df6-fb62d9adae96"
      },
      "source": [
        "for item in list(range(5)):\n",
        "  print(item, end=' ')"
      ],
      "execution_count": null,
      "outputs": [
        {
          "output_type": "stream",
          "text": [
            "0 1 2 3 4 "
          ],
          "name": "stdout"
        }
      ]
    },
    {
      "cell_type": "code",
      "metadata": {
        "colab": {
          "base_uri": "https://localhost:8080/"
        },
        "id": "32S_SkClfgHC",
        "outputId": "c02ce828-2e15-4da7-9eb4-39040265babd"
      },
      "source": [
        "for item in range(5):\n",
        "  print(item, end=' ')"
      ],
      "execution_count": null,
      "outputs": [
        {
          "output_type": "stream",
          "text": [
            "0 1 2 3 4 "
          ],
          "name": "stdout"
        }
      ]
    },
    {
      "cell_type": "code",
      "metadata": {
        "colab": {
          "base_uri": "https://localhost:8080/"
        },
        "id": "6w7gPzn1fsah",
        "outputId": "3523bdac-bde4-4969-99af-e4f30a2edc7f"
      },
      "source": [
        "xlist =[int(item) for item in xlist] \n",
        "print(xlist)"
      ],
      "execution_count": null,
      "outputs": [
        {
          "output_type": "stream",
          "text": [
            "[0, 1, 2, 3, 4, 5, 6, 7, 8, 9]\n"
          ],
          "name": "stdout"
        }
      ]
    },
    {
      "cell_type": "code",
      "metadata": {
        "colab": {
          "base_uri": "https://localhost:8080/"
        },
        "id": "LqcX7reCf3Iy",
        "outputId": "78d74468-aadd-4225-b7cb-f9b88eb9330a"
      },
      "source": [
        "xlist=['1','2']\n",
        "xlist = [int(item) for item in xlist] \n",
        "xlist\n"
      ],
      "execution_count": null,
      "outputs": [
        {
          "output_type": "execute_result",
          "data": {
            "text/plain": [
              "[1, 2]"
            ]
          },
          "metadata": {
            "tags": []
          },
          "execution_count": 16
        }
      ]
    },
    {
      "cell_type": "code",
      "metadata": {
        "colab": {
          "base_uri": "https://localhost:8080/"
        },
        "id": "CGVV_7lymj6j",
        "outputId": "be79afaa-5121-4b16-dfef-af7db5b8086e"
      },
      "source": [
        "i = 1\n",
        "\n",
        "while i <=5:\n",
        "  print(i)\n",
        "  i =i+1"
      ],
      "execution_count": null,
      "outputs": [
        {
          "output_type": "stream",
          "text": [
            "1\n",
            "2\n",
            "3\n",
            "4\n",
            "5\n"
          ],
          "name": "stdout"
        }
      ]
    },
    {
      "cell_type": "code",
      "metadata": {
        "colab": {
          "base_uri": "https://localhost:8080/"
        },
        "id": "_FIqfNhknUM0",
        "outputId": "db4b94c8-f614-4d17-a6f0-168595fd6811"
      },
      "source": [
        "i= 0\n",
        "\n",
        "while i <= 5:\n",
        "  i= i+1\n",
        "  if i == 2:\n",
        "    continue\n",
        "\n",
        "  print(i)\n",
        "\n",
        "  if i== 4:\n",
        "    break"
      ],
      "execution_count": null,
      "outputs": [
        {
          "output_type": "stream",
          "text": [
            "1\n",
            "3\n",
            "4\n"
          ],
          "name": "stdout"
        }
      ]
    },
    {
      "cell_type": "code",
      "metadata": {
        "colab": {
          "base_uri": "https://localhost:8080/"
        },
        "id": "cbIoOqocoLkj",
        "outputId": "1e8b974b-048e-4779-c453-f5cee86741c2"
      },
      "source": [
        "lst_even = list()\n",
        "lst_odd = []\n",
        "\n",
        "for i in range(5) :\n",
        "  num = int(input('숫자 입력 : '))\n",
        "\n",
        "  if num % 2 == 0 :\n",
        "    lst_even.append(num)\n",
        "  else :\n",
        "    lst_odd.append(num)\n",
        "\n",
        "print(f'짝수 : {lst_even}')\n",
        "print(f'홀수 : {lst_odd}')"
      ],
      "execution_count": null,
      "outputs": [
        {
          "output_type": "stream",
          "text": [
            "숫자 입력 : 1\n",
            "숫자 입력 : 2\n",
            "숫자 입력 : 3\n",
            "숫자 입력 : 4\n",
            "숫자 입력 : 5\n",
            "짝수 : [2, 4]\n",
            "홀수 : [1, 3, 5]\n"
          ],
          "name": "stdout"
        }
      ]
    },
    {
      "cell_type": "code",
      "metadata": {
        "colab": {
          "base_uri": "https://localhost:8080/"
        },
        "id": "7-aCGk0BpRnz",
        "outputId": "608b53e5-b947-40fa-879f-47fdefd39a20"
      },
      "source": [
        "\n",
        "lst_even"
      ],
      "execution_count": null,
      "outputs": [
        {
          "output_type": "execute_result",
          "data": {
            "text/plain": [
              "[2, 4]"
            ]
          },
          "metadata": {
            "tags": []
          },
          "execution_count": 32
        }
      ]
    },
    {
      "cell_type": "code",
      "metadata": {
        "colab": {
          "base_uri": "https://localhost:8080/"
        },
        "id": "JMCutpVIpTWy",
        "outputId": "a81fde2e-3d82-4c7e-9b72-ecea032b8249"
      },
      "source": [
        "lst_odd"
      ],
      "execution_count": null,
      "outputs": [
        {
          "output_type": "execute_result",
          "data": {
            "text/plain": [
              "[]"
            ]
          },
          "metadata": {
            "tags": []
          },
          "execution_count": 27
        }
      ]
    },
    {
      "cell_type": "code",
      "metadata": {
        "id": "ZjDBY4kRpYoy"
      },
      "source": [
        "area = { '서울시':57, '부산시':62, '대구시':59,\n",
        "         '인천시':59, '강화군':58, '서해5도':64,\n",
        "         '광주시':62, '대전시':60, '울산시':53,\n",
        "         '세종시':58 }\n",
        "\n",
        "report = { '위험':'설사, 구토 등 식중독 의심 증상이 있으면 의료기관을 방문하여 의사 지시에 따름',\n",
        "           '경고':'조리도구는 세척, 소독 등을 거쳐 세균 오염을 방지하고 유통기한, 보관 방법 등을 확인하여 음식물 조리, 보관에 각별히 주의하여야 함',\n",
        "           '주의':'조리 음식은 중심부까지 75도(어패류 85도)로 1분 이상 완전히 익히고 외부로 운반할 때에는 가급적 아이스박스 등을 이용하여 10도 이하에서 보관 및 운반',\n",
        "           '관심':'화장실 사용 후, 귀가 후, 조리 전에 손 씻기를 생활화'\n",
        "          }"
      ],
      "execution_count": null,
      "outputs": []
    },
    {
      "cell_type": "code",
      "metadata": {
        "colab": {
          "base_uri": "https://localhost:8080/",
          "height": 138
        },
        "id": "chvsDvzrrLoj",
        "outputId": "353c6f80-3887-4cf6-f960-bb809bb6bc18"
      },
      "source": [
        "areashow= {}\n",
        "\n",
        "for key,value in area. items():\n",
        "  if value >=86: check = '위험'\n",
        "  elif value >= 71: check ='경고'\n",
        "  elif value >= 55: check ='주의'\n",
        "  else : check ='관심'\n",
        "\n",
        "  areashow[key] = check\n",
        "\n",
        "print(areashow)\n",
        "\n",
        "print('지역 목록',list(area.keys()))\n",
        "indata = input('지역목록 입력: ')\n",
        "\n",
        "report[areashow[indata]]"
      ],
      "execution_count": null,
      "outputs": [
        {
          "output_type": "stream",
          "text": [
            "{'서울시': '주의', '부산시': '주의', '대구시': '주의', '인천시': '주의', '강화군': '주의', '서해5도': '주의', '광주시': '주의', '대전시': '주의', '울산시': '관심', '세종시': '주의'}\n",
            "지역 목록 ['서울시', '부산시', '대구시', '인천시', '강화군', '서해5도', '광주시', '대전시', '울산시', '세종시']\n",
            "지역목록 입력: 서울시\n"
          ],
          "name": "stdout"
        },
        {
          "output_type": "execute_result",
          "data": {
            "application/vnd.google.colaboratory.intrinsic+json": {
              "type": "string"
            },
            "text/plain": [
              "'조리 음식은 중심부까지 75도(어패류 85도)로 1분 이상 완전히 익히고 외부로 운반할 때에는 가급적 아이스박스 등을 이용하여 10도 이하에서 보관 및 운반'"
            ]
          },
          "metadata": {
            "tags": []
          },
          "execution_count": 44
        }
      ]
    },
    {
      "cell_type": "code",
      "metadata": {
        "colab": {
          "base_uri": "https://localhost:8080/"
        },
        "id": "aqECsYrcrPvj",
        "outputId": "57bbb8ac-227b-41a4-ac34-d0f11bf6f74b"
      },
      "source": [
        "areashow"
      ],
      "execution_count": null,
      "outputs": [
        {
          "output_type": "execute_result",
          "data": {
            "text/plain": [
              "{'강화군': '주의',\n",
              " '광주시': '주의',\n",
              " '대구시': '주의',\n",
              " '대전시': '주의',\n",
              " '부산시': '주의',\n",
              " '서울시': '주의',\n",
              " '서해5도': '주의',\n",
              " '세종시': '주의',\n",
              " '울산시': '관심',\n",
              " '인천시': '주의'}"
            ]
          },
          "metadata": {
            "tags": []
          },
          "execution_count": 43
        }
      ]
    },
    {
      "cell_type": "code",
      "metadata": {
        "id": "p5E24vGEsEwD"
      },
      "source": [
        ""
      ],
      "execution_count": null,
      "outputs": []
    }
  ]
}